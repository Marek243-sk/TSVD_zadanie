{
 "cells": [
  {
   "cell_type": "code",
   "execution_count": 1,
   "id": "4a5d82e1-4e60-4b65-829e-218e21ec9949",
   "metadata": {},
   "outputs": [],
   "source": [
    "from pyspark.sql import SparkSession\n",
    "\n",
    "spark = SparkSession.builder.appName(\"zadanieTSVD\").getOrCreate()"
   ]
  },
  {
   "cell_type": "code",
   "execution_count": 22,
   "id": "d1c5bb5d-a73f-40e3-b2ee-f6164db82fdf",
   "metadata": {},
   "outputs": [],
   "source": [
    "data = spark.read.csv(\"fina_10.csv\",header=True,inferSchema=True)"
   ]
  },
  {
   "cell_type": "code",
   "execution_count": 4,
   "id": "a5ab2e05-734c-4d1d-b166-b15a7376f289",
   "metadata": {},
   "outputs": [
    {
     "name": "stdout",
     "output_type": "stream",
     "text": [
      "[('Accident_Index', 'string'), ('Location_Easting_OSGR', 'double'), ('Location_Northing_OSGR', 'double'), ('Longitude', 'double'), ('Latitude', 'double'), ('Police_Force', 'int'), ('Accident_Severity', 'int'), ('Number_of_Vehicles', 'double'), ('Number_of_Casualties', 'double'), ('Date', 'string'), ('Day_of_Week', 'int'), ('Time', 'timestamp'), ('Local_Authority_(District)', 'int'), ('Local_Authority_(Highway)', 'string'), ('1st_Road_Class', 'int'), ('1st_Road_Number', 'int'), ('Road_Type', 'int'), ('Speed_limit', 'double'), ('Junction_Detail', 'int'), ('Junction_Control', 'int'), ('2nd_Road_Class', 'int'), ('2nd_Road_Number', 'double'), ('Pedestrian_Crossing_Human_Control', 'int'), ('Pedestrian_Crossing_Physical_Facilities', 'int'), ('Light_Conditions', 'int'), ('Weather_Conditions', 'int'), ('Road_Surface_Conditions', 'int'), ('Special_Conditions_at_Site', 'int'), ('Carriageway_Hazards', 'int'), ('Urban_or_Rural_Area', 'int'), ('Did_Police_Officer_Attend_Scene_of_Accident', 'int'), ('Casualty_Reference', 'int'), ('Casualty_Class', 'int'), ('Sex_of_Casualty', 'int'), ('Age_of_Casualty', 'double'), ('Age_Band_of_Casualty', 'int'), ('Casualty_Severity', 'int'), ('Pedestrian_Location', 'int'), ('Pedestrian_Movement', 'int'), ('Car_Passenger', 'int'), ('Bus_or_Coach_Passenger', 'int'), ('Pedestrian_Road_Maintenance_Worker', 'int'), ('Casualty_Type', 'int'), ('Casualty_Home_Area_Type', 'int'), ('Vehicle_Reference', 'int'), ('Vehicle_Type', 'int'), ('Towing_and_Articulation', 'int'), ('Vehicle_Manoeuvre', 'int'), ('Vehicle_Location_Restricted_Lane', 'int'), ('Junction_Location', 'int'), ('Skidding_and_Overturning', 'int'), ('Hit_Object_in_Carriageway', 'int'), ('Vehicle_Leaving_Carriageway', 'int'), ('Hit_Object_off_Carriageway', 'int'), ('1st_Point_of_Impact', 'int'), ('Was_Vehicle_Left_Hand_Drive?', 'int'), ('Journey_Purpose_of_Driver', 'int'), ('Sex_of_Driver', 'int'), ('Age_of_Driver', 'double'), ('Age_Band_of_Driver', 'int'), ('Engine_Capacity_(CC)', 'double'), ('Propulsion_Code', 'int'), ('Age_of_Vehicle', 'double'), ('Driver_IMD_Decile', 'double'), ('Driver_Home_Area_Type', 'int')]\n"
     ]
    }
   ],
   "source": [
    "print(data.dtypes)\n"
   ]
  },
  {
   "cell_type": "code",
   "execution_count": null,
   "id": "bd07d75e-0a27-420e-ad7c-f5d4c8df2021",
   "metadata": {},
   "outputs": [],
   "source": []
  },
  {
   "cell_type": "code",
   "execution_count": null,
   "id": "7da968ad-d397-4d13-a530-bd14afcb24c6",
   "metadata": {},
   "outputs": [],
   "source": []
  },
  {
   "cell_type": "code",
   "execution_count": null,
   "id": "0f5e32eb-9547-445d-ae22-ee4a98253c1e",
   "metadata": {},
   "outputs": [],
   "source": []
  },
  {
   "cell_type": "code",
   "execution_count": null,
   "id": "73a15d0e-5c37-48b5-9d5a-b58fd3b8c588",
   "metadata": {},
   "outputs": [],
   "source": []
  },
  {
   "cell_type": "markdown",
   "id": "0c5537b5-5ebf-4d48-8f7c-950d22d52e6a",
   "metadata": {},
   "source": [
    "Transformácia numerických atribútov na nominálne (Diskretizácia vybranných atribútov)"
   ]
  },
  {
   "cell_type": "code",
   "execution_count": 5,
   "id": "d89d7324-8f58-4fdb-b1ce-10bcd4c7f648",
   "metadata": {},
   "outputs": [],
   "source": [
    "from pyspark.sql.functions import col, to_date, hour\n",
    "from pyspark.ml.feature import StringIndexer, Bucketizer\n",
    "from pyspark.ml import Pipeline\n",
    "\n",
    "# 1. Vytvorenie 'Hour' + konverzia dátumu\n",
    "data = data.withColumn(\"Hour\", hour(col(\"Time\")))\n",
    "data = data.withColumn(\"Date\", to_date(col(\"Date\"), \"dd/MM/yyyy\"))\n",
    "\n",
    "# 2. Kategorizované atribúty → indexácia do *_tmp\n",
    "categorical_columns = [\n",
    "    \"Police_Force\", \"Day_of_Week\", \"Local_Authority_(District)\",\"Local_Authority_(Highway)\",\n",
    "    \"1st_Road_Class\", \"Road_Type\", \"Junction_Detail\", \"Junction_Control\",\n",
    "    \"2nd_Road_Class\", \"Pedestrian_Crossing_Human_Control\",\n",
    "    \"Pedestrian_Crossing_Physical_Facilities\", \"Light_Conditions\",\n",
    "    \"Weather_Conditions\", \"Road_Surface_Conditions\",\n",
    "    \"Special_Conditions_at_Site\", \"Carriageway_Hazards\",\n",
    "    \"Urban_or_Rural_Area\", \"Did_Police_Officer_Attend_Scene_of_Accident\",\n",
    "    \"Casualty_Class\", \"Sex_of_Casualty\", \"Age_Band_of_Casualty\",\n",
    "    \"Casualty_Severity\", \"Pedestrian_Location\", \"Pedestrian_Movement\",\n",
    "    \"Car_Passenger\", \"Bus_or_Coach_Passenger\",\n",
    "    \"Pedestrian_Road_Maintenance_Worker\", \"Casualty_Type\",\n",
    "    \"Casualty_Home_Area_Type\", \"Vehicle_Type\", \"Towing_and_Articulation\",\n",
    "    \"Vehicle_Manoeuvre\", \"Vehicle_Location_Restricted_Lane\",\n",
    "    \"Junction_Location\", \"Skidding_and_Overturning\",\n",
    "    \"Hit_Object_in_Carriageway\", \"Vehicle_Leaving_Carriageway\",\n",
    "    \"Hit_Object_off_Carriageway\", \"1st_Point_of_Impact\",\n",
    "    \"Was_Vehicle_Left_Hand_Drive?\", \"Journey_Purpose_of_Driver\",\n",
    "    \"Sex_of_Driver\", \"Age_Band_of_Driver\", \"Propulsion_Code\",\n",
    "    \"Driver_Home_Area_Type\"\n",
    "]\n",
    "\n",
    "indexers = [\n",
    "    StringIndexer(inputCol=col, outputCol=col + \"_tmp\", handleInvalid='keep')\n",
    "    for col in categorical_columns\n",
    "]\n",
    "\n",
    "# Spustenie pipeline na zakódovanie\n",
    "pipeline = Pipeline(stages=indexers)\n",
    "data = pipeline.fit(data).transform(data)\n",
    "\n",
    "# Nahradenie pôvodných stĺpcov zakódovanými (_tmp → originál)\n",
    "for col_name in categorical_columns:\n",
    "    data = data.drop(col_name)\n",
    "    data = data.withColumnRenamed(col_name + \"_tmp\", col_name)\n",
    "\n",
    "# 3. Diskretizované číselné atribúty → *_tmp → originál\n",
    "bucketizers = [\n",
    "    Bucketizer(\n",
    "        splits=[0, 18, 26, 36, 51, 66, float(\"inf\")],\n",
    "        inputCol=\"Age_of_Casualty\", outputCol=\"Age_of_Casualty_tmp\"\n",
    "    ),\n",
    "    Bucketizer(\n",
    "        splits=[0, 18, 26, 36, 51, 66, float(\"inf\")],\n",
    "        inputCol=\"Age_of_Driver\", outputCol=\"Age_of_Driver_tmp\"\n",
    "    ),\n",
    "    Bucketizer(\n",
    "        splits=[0, 1000, 1600, 2000, 3000, float(\"inf\")],\n",
    "        inputCol=\"Engine_Capacity_(CC)\", outputCol=\"Engine_Capacity_(CC)_tmp\"\n",
    "    ),\n",
    "    Bucketizer(\n",
    "        splits=[0, 3, 6, 11, 16, float(\"inf\")],\n",
    "        inputCol=\"Age_of_Vehicle\", outputCol=\"Age_of_Vehicle_tmp\"\n",
    "    ),\n",
    "    Bucketizer(\n",
    "        splits=[0, 3, 5, 7, 9, float(\"inf\")],\n",
    "        inputCol=\"Driver_IMD_Decile\", outputCol=\"Driver_IMD_Decile_tmp\"\n",
    "    )\n",
    "]\n",
    "\n",
    "# Aplikácia bucketov\n",
    "for bucketizer in bucketizers:\n",
    "    data = bucketizer.transform(data)\n",
    "\n",
    "# Premenovanie *_tmp stĺpcov späť na pôvodné názvy\n",
    "tmp_to_original = {\n",
    "    \"Age_of_Casualty_tmp\": \"Age_of_Casualty\",\n",
    "    \"Age_of_Driver_tmp\": \"Age_of_Driver\",\n",
    "    \"Engine_Capacity_(CC)_tmp\": \"Engine_Capacity_(CC)\",\n",
    "    \"Age_of_Vehicle_tmp\": \"Age_of_Vehicle\",\n",
    "    \"Driver_IMD_Decile_tmp\": \"Driver_IMD_Decile\"\n",
    "}\n",
    "\n",
    "for tmp_col, original_col in tmp_to_original.items():\n",
    "    data = data.drop(original_col)\n",
    "    data = data.withColumnRenamed(tmp_col, original_col)\n"
   ]
  },
  {
   "cell_type": "code",
   "execution_count": null,
   "id": "eeb0af33-58c5-4ce1-91f8-9e9328046cfe",
   "metadata": {},
   "outputs": [],
   "source": []
  },
  {
   "cell_type": "code",
   "execution_count": null,
   "id": "474357d5-120d-41f5-a0ab-00f5377ea8cd",
   "metadata": {},
   "outputs": [],
   "source": []
  },
  {
   "cell_type": "code",
   "execution_count": null,
   "id": "1e3dfd3c-39dc-4a00-acab-1437d03ce257",
   "metadata": {},
   "outputs": [],
   "source": []
  },
  {
   "cell_type": "code",
   "execution_count": null,
   "id": "8c19fe89-792e-4aeb-aac6-93a3f1c0bea5",
   "metadata": {},
   "outputs": [],
   "source": []
  },
  {
   "cell_type": "markdown",
   "id": "ae1e9e5b-800a-451e-bf01-05c4114b3133",
   "metadata": {},
   "source": [
    "Vypočítanie pomerového kritéria – informačného zisku voči cieľovému atribútu (klasifikačná úloha), pre nominálne atribúty"
   ]
  },
  {
   "cell_type": "code",
   "execution_count": 6,
   "id": "05d4ac09-da52-40fc-8178-502b1496b1ae",
   "metadata": {},
   "outputs": [],
   "source": [
    "nominal_cols = [\n",
    "    \"Day_of_Week\",\n",
    "    \"1st_Road_Class\",\n",
    "    \"Road_Type\",\n",
    "    \"Junction_Detail\",\n",
    "    \"Junction_Control\",\n",
    "    \"2nd_Road_Class\",\n",
    "    \"Pedestrian_Crossing_Human_Control\",\n",
    "    \"Pedestrian_Crossing_Physical_Facilities\",\n",
    "    \"Light_Conditions\",\n",
    "    \"Weather_Conditions\",\n",
    "    \"Road_Surface_Conditions\",\n",
    "    \"Special_Conditions_at_Site\",\n",
    "    \"Carriageway_Hazards\",\n",
    "    \"Urban_or_Rural_Area\",\n",
    "    \"Did_Police_Officer_Attend_Scene_of_Accident\",\n",
    "    \"Casualty_Class\",\n",
    "    \"Sex_of_Casualty\",\n",
    "    \"Age_Band_of_Casualty\",\n",
    "    \"Pedestrian_Location\",\n",
    "    \"Pedestrian_Movement\",\n",
    "    \"Car_Passenger\",\n",
    "    \"Bus_or_Coach_Passenger\",\n",
    "    \"Pedestrian_Road_Maintenance_Worker\",\n",
    "    \"Casualty_Type\",\n",
    "    \"Casualty_Home_Area_Type\",\n",
    "    \"Vehicle_Type\",\n",
    "    \"Towing_and_Articulation\",\n",
    "    \"Vehicle_Manoeuvre\",\n",
    "    \"Vehicle_Location_Restricted_Lane\",\n",
    "    \"Junction_Location\",\n",
    "    \"Skidding_and_Overturning\",\n",
    "    \"Hit_Object_in_Carriageway\",\n",
    "    \"Vehicle_Leaving_Carriageway\",\n",
    "    \"Hit_Object_off_Carriageway\",\n",
    "    \"1st_Point_of_Impact\",\n",
    "    \"Was_Vehicle_Left_Hand_Drive?\",\n",
    "    \"Journey_Purpose_of_Driver\",\n",
    "    \"Sex_of_Driver\",\n",
    "    \"Age_Band_of_Driver\",\n",
    "    \"Propulsion_Code\",\n",
    "    \"Driver_Home_Area_Type\"\n",
    "]\n",
    "\n"
   ]
  },
  {
   "cell_type": "code",
   "execution_count": 7,
   "id": "b53e4d20-a329-4011-8979-49f058bd666e",
   "metadata": {},
   "outputs": [
    {
     "name": "stdout",
     "output_type": "stream",
     "text": [
      "Day_of_Week: 0.0000\n",
      "1st_Road_Class: 0.0000\n",
      "Road_Type: 0.0000\n",
      "Junction_Detail: 0.0000\n",
      "Junction_Control: 0.0000\n",
      "2nd_Road_Class: 0.0000\n",
      "Pedestrian_Crossing_Human_Control: 0.0000\n",
      "Pedestrian_Crossing_Physical_Facilities: 0.0000\n",
      "Light_Conditions: 0.0000\n",
      "Weather_Conditions: 0.0000\n",
      "Road_Surface_Conditions: 0.0000\n",
      "Special_Conditions_at_Site: 0.0000\n",
      "Carriageway_Hazards: 0.0000\n",
      "Urban_or_Rural_Area: 0.1539\n",
      "Did_Police_Officer_Attend_Scene_of_Accident: 0.1685\n",
      "Casualty_Class: 0.0000\n",
      "Sex_of_Casualty: 0.0000\n",
      "Age_Band_of_Casualty: 0.0000\n",
      "Pedestrian_Location: 0.0000\n",
      "Pedestrian_Movement: 0.0000\n",
      "Car_Passenger: 0.0000\n",
      "Bus_or_Coach_Passenger: 0.0000\n",
      "Pedestrian_Road_Maintenance_Worker: 0.0000\n",
      "Casualty_Type: 0.6392\n",
      "Casualty_Home_Area_Type: 0.0000\n",
      "Vehicle_Type: 0.0055\n",
      "Towing_and_Articulation: 0.0000\n",
      "Vehicle_Manoeuvre: 0.0000\n",
      "Vehicle_Location_Restricted_Lane: 0.0000\n",
      "Junction_Location: 0.0000\n",
      "Skidding_and_Overturning: 0.0000\n",
      "Hit_Object_in_Carriageway: 0.0000\n",
      "Vehicle_Leaving_Carriageway: 0.0329\n",
      "Hit_Object_off_Carriageway: 0.0000\n",
      "1st_Point_of_Impact: 0.0000\n",
      "Was_Vehicle_Left_Hand_Drive?: 0.0000\n",
      "Journey_Purpose_of_Driver: 0.0000\n",
      "Sex_of_Driver: 0.0000\n",
      "Age_Band_of_Driver: 0.0000\n",
      "Propulsion_Code: 0.0000\n",
      "Driver_Home_Area_Type: 0.0000\n"
     ]
    }
   ],
   "source": [
    "from pyspark.ml.feature import VectorAssembler\n",
    "from pyspark.ml.classification import DecisionTreeClassifier\n",
    "\n",
    "# 1. VectorAssembler pre nominálne atribúty\n",
    "assembler = VectorAssembler(inputCols=nominal_cols, outputCol=\"features\")\n",
    "data_ig = assembler.transform(data)\n",
    "\n",
    "# 2. Decision Tree Classifier – cieľový atribút je Accident_Severity\n",
    "dt = DecisionTreeClassifier(labelCol=\"Accident_Severity\", featuresCol=\"features\", maxDepth=5)\n",
    "model = dt.fit(data_ig)\n",
    "\n",
    "# 3. Výpis feature importances (informačný zisk)\n",
    "importances = model.featureImportances.toArray()\n",
    "\n",
    "# 4. Výsledky – každý atribút a jeho príspevok k rozhodnutiam\n",
    "for col_name, importance in zip(nominal_cols, importances):\n",
    "    print(f\"{col_name}: {importance:.4f}\")\n"
   ]
  },
  {
   "cell_type": "code",
   "execution_count": 8,
   "id": "51b79cbc-440d-4a24-b563-50110af18a82",
   "metadata": {},
   "outputs": [
    {
     "name": "stdout",
     "output_type": "stream",
     "text": [
      "TOP 5 atribútov podľa informačného zisku:\n",
      "Casualty_Type: 0.6392\n",
      "Did_Police_Officer_Attend_Scene_of_Accident: 0.1685\n",
      "Urban_or_Rural_Area: 0.1539\n",
      "Vehicle_Leaving_Carriageway: 0.0329\n",
      "Vehicle_Type: 0.0055\n"
     ]
    }
   ],
   "source": [
    "\n",
    "ig_list = list(zip(nominal_cols, importances))\n",
    "\n",
    "# Výber top 5 podľa IG\n",
    "top_5 = sorted(ig_list, key=lambda x: x[1], reverse=True)[:5]\n",
    "\n",
    "print(\"TOP 5 atribútov podľa informačného zisku:\")\n",
    "for attr, ig in top_5:\n",
    "    print(f\"{attr}: {ig:.4f}\")"
   ]
  },
  {
   "cell_type": "code",
   "execution_count": null,
   "id": "c3b25ffa-e3b5-462e-8d2a-0b16ad5dbf84",
   "metadata": {},
   "outputs": [],
   "source": []
  },
  {
   "cell_type": "code",
   "execution_count": null,
   "id": "e327877f-cc54-4971-942b-82794a7034b7",
   "metadata": {},
   "outputs": [],
   "source": []
  },
  {
   "cell_type": "code",
   "execution_count": null,
   "id": "36cf6dbb-20f3-4e0c-91f0-8d7681aa0cec",
   "metadata": {},
   "outputs": [],
   "source": []
  },
  {
   "cell_type": "code",
   "execution_count": null,
   "id": "bf9fe757-dd20-4f3c-a8ee-0309fbc8ec16",
   "metadata": {},
   "outputs": [],
   "source": []
  },
  {
   "cell_type": "markdown",
   "id": "9adcf33d-c98c-4de2-a7c0-28372d5cd739",
   "metadata": {},
   "source": [
    "Vytvorenie histogramov pre nominálne atribúty"
   ]
  },
  {
   "cell_type": "code",
   "execution_count": 28,
   "id": "d6da9b2d-a277-4fb8-80d5-fe56aa76648f",
   "metadata": {},
   "outputs": [],
   "source": [
    "import matplotlib.pyplot as plt\n",
    "import seaborn as sns\n",
    "from pyspark.sql import functions as F\n",
    "import os\n",
    "\n",
    "\n",
    "def save_all_nominal_histograms(df, nominal_cols, output_dir=\"histograms\"):\n",
    "    import matplotlib.pyplot as plt\n",
    "    import seaborn as sns\n",
    "    from pyspark.sql import functions as F\n",
    "    import os\n",
    "\n",
    "    # Vytvor priečinok ak neexistuje\n",
    "    if not os.path.exists(output_dir):\n",
    "        os.makedirs(output_dir)\n",
    "    \n",
    "    for col in nominal_cols:\n",
    "\n",
    "        # Spočítame výskyty všetkých hodnôt\n",
    "        counts = df.groupBy(col).agg(F.count(\"*\").alias(\"count\")).orderBy(F.desc(\"count\")).toPandas()\n",
    "            \n",
    "        if counts.empty:\n",
    "            continue\n",
    "\n",
    "        # Vykreslenie\n",
    "        plt.figure(figsize=(max(10, len(counts) * 0.4), 6))\n",
    "        sns.barplot(x=col, y='count', data=counts)\n",
    "        plt.title(f\"Počty výskytov pre {col}\")\n",
    "        plt.xticks(ha='right')\n",
    "        plt.tight_layout()\n",
    "\n",
    "        # Uloženie\n",
    "        output_file = os.path.join(output_dir, f\"{col}_histogram.png\")\n",
    "        plt.savefig(output_file)\n",
    "        plt.close()\n",
    "\n",
    "save_all_nominal_histograms(data, nominal_cols)\n"
   ]
  },
  {
   "cell_type": "code",
   "execution_count": null,
   "id": "485b2e96-50f4-42f4-92f5-2577ce9ce35e",
   "metadata": {},
   "outputs": [],
   "source": []
  },
  {
   "cell_type": "code",
   "execution_count": null,
   "id": "7790408b-c9b1-4e79-8159-bb06428d72cd",
   "metadata": {},
   "outputs": [],
   "source": []
  },
  {
   "cell_type": "code",
   "execution_count": null,
   "id": "4c29021d-c1aa-4e9b-a30a-80eb779d8c99",
   "metadata": {},
   "outputs": [],
   "source": []
  },
  {
   "cell_type": "code",
   "execution_count": null,
   "id": "7c2eb312-2529-47b8-999c-9c1ddfff2838",
   "metadata": {},
   "outputs": [],
   "source": []
  },
  {
   "cell_type": "markdown",
   "id": "2f7eef86-8567-48d3-a301-c800ddf930f7",
   "metadata": {},
   "source": [
    "Výber numeických atributov na základe korelacie k cieľovému a výber kategorických atribútov pomocou Chi-kvadrat testu"
   ]
  },
  {
   "cell_type": "code",
   "execution_count": 10,
   "id": "c45e1dd5-84fb-4a24-81de-dc7c4095a1c7",
   "metadata": {},
   "outputs": [
    {
     "name": "stdout",
     "output_type": "stream",
     "text": [
      "Korelácie medzi numerickými atribútmi a cieľovou premennou:\n",
      "Number_of_Casualties     -0.159175\n",
      "Speed_limit              -0.140265\n",
      "Number_of_Vehicles       -0.079155\n",
      "Age_of_Casualty          -0.030093\n",
      "Location_Northing_OSGR   -0.030011\n",
      "Latitude                 -0.029835\n",
      "Age_of_Driver            -0.021443\n",
      "Driver_IMD_Decile        -0.020516\n",
      "Longitude                 0.010165\n",
      "Location_Easting_OSGR     0.009527\n",
      "Engine_Capacity_(CC)     -0.004091\n",
      "Age_of_Vehicle           -0.002493\n",
      "Name: Accident_Severity, dtype: float64\n"
     ]
    }
   ],
   "source": [
    "from pyspark.ml.feature import VectorAssembler, StringIndexer\n",
    "from pyspark.ml.stat import ChiSquareTest\n",
    "from pyspark.ml import Pipeline\n",
    "import time\n",
    "\n",
    "\n",
    "# sample_data = data.sample(withReplacement=False, fraction=0.1, seed=42)\n",
    "\n",
    "# 1. Numerické atribúty\n",
    "numerical_columns = [\n",
    "    'Location_Easting_OSGR', 'Location_Northing_OSGR', 'Longitude', 'Latitude',\n",
    "    'Number_of_Vehicles', 'Number_of_Casualties', 'Speed_limit', 'Age_of_Casualty',\n",
    "    'Age_of_Driver', 'Engine_Capacity_(CC)', 'Age_of_Vehicle', 'Driver_IMD_Decile'\n",
    "]\n",
    "\n",
    "\n",
    "target = 'Accident_Severity'\n",
    "\n",
    "### 3. Korelačná analýza – numerické atribúty\n",
    "assembler_num = VectorAssembler(inputCols=numerical_columns, outputCol=\"numerical_features\")\n",
    "data_num = assembler_num.transform(data)\n",
    "\n",
    "# Konverzia na Pandas\n",
    "pandas_df = data_num.select(numerical_columns + [target]).toPandas()\n",
    "corr_matrix = pandas_df.corr()\n",
    "\n",
    "print(\"Korelácie medzi numerickými atribútmi a cieľovou premennou:\")\n",
    "correlations = corr_matrix[target].drop(target).sort_values(key=abs, ascending=False)\n",
    "print(correlations)\n",
    "\n",
    "strong_corr_columns = correlations[abs(correlations) > 0.05].index.tolist()\n",
    "\n",
    "### 4. Chi-Square test – kategórie\n",
    "\n",
    "# Indexovanie\n",
    "indexers = [StringIndexer(inputCol=col, outputCol=col + \"_indexed\", handleInvalid=\"skip\") for col in categorical_columns]\n",
    "indexed_cols = [col + \"_indexed\" for col in categorical_columns]\n",
    "\n",
    "# Pipeline\n",
    "assembler_cat = VectorAssembler(inputCols=indexed_cols, outputCol=\"features\")\n",
    "pipeline = Pipeline(stages=indexers + [assembler_cat])\n",
    "\n",
    "# Fit-transform a cache\n",
    "start_time = time.time()\n",
    "data_cat = pipeline.fit(data).transform(data).cache()\n",
    "\n",
    "# Chi-Square test\n",
    "chi_result = ChiSquareTest.test(data_cat, \"features\", target).head()\n",
    "\n",
    "# Spoj atribúty s p-hodnotami\n",
    "p_values = list(zip(categorical_columns, chi_result.pValues))\n",
    "\n",
    "# Zoradenie podľa p-hodnôt vzostupne (najvýznamnejšie najskôr)\n",
    "sorted_p_values = sorted(p_values, key=lambda x: x[1])\n",
    "\n",
    "top_chi = [col for col, p in sorted_p_values[:25]]\n",
    "\n",
    "### 5. Finálny výber – kombinácia korelácie a top 25 chi-square\n",
    "final_features = strong_corr_columns + top_chi\n"
   ]
  },
  {
   "cell_type": "code",
   "execution_count": 11,
   "id": "9b0068c3-0f09-403b-8acf-a67dd96c883c",
   "metadata": {},
   "outputs": [
    {
     "name": "stdout",
     "output_type": "stream",
     "text": [
      "Výber atribútov na základe testovania korelacie a Chi-kvadrat testu:\n",
      "Number_of_Casualties\n",
      "Speed_limit\n",
      "Number_of_Vehicles\n",
      "Police_Force\n",
      "Day_of_Week\n",
      "Local_Authority_(District)\n",
      "Local_Authority_(Highway)\n",
      "1st_Road_Class\n",
      "Road_Type\n",
      "Junction_Detail\n",
      "Junction_Control\n",
      "2nd_Road_Class\n",
      "Pedestrian_Crossing_Physical_Facilities\n",
      "Light_Conditions\n",
      "Weather_Conditions\n",
      "Road_Surface_Conditions\n",
      "Special_Conditions_at_Site\n",
      "Carriageway_Hazards\n",
      "Urban_or_Rural_Area\n",
      "Did_Police_Officer_Attend_Scene_of_Accident\n",
      "Casualty_Class\n",
      "Sex_of_Casualty\n",
      "Age_Band_of_Casualty\n",
      "Casualty_Severity\n",
      "Pedestrian_Location\n",
      "Pedestrian_Movement\n",
      "Car_Passenger\n",
      "Bus_or_Coach_Passenger\n"
     ]
    }
   ],
   "source": [
    "print(\"Výber atribútov na základe testovania korelacie a Chi-kvadrat testu:\")\n",
    "for i in final_features:\n",
    "    print(i)"
   ]
  },
  {
   "cell_type": "code",
   "execution_count": 12,
   "id": "9ae70fc4-428f-47f9-ac6c-0dec85dcf927",
   "metadata": {},
   "outputs": [],
   "source": [
    "# Spojenie s top 5 IG \n",
    "all_final_features = list(set(final_features + top_5))\n",
    "\n",
    "# Pridaj cieľový atribút\n",
    "final_cols = all_final_features + [\"Accident_Severity\"]\n",
    "# Čistý zoznam iba s názvami atribútov \n",
    "cleaned_features = [f[0] if isinstance(f, tuple) else f for f in final_cols]\n"
   ]
  },
  {
   "cell_type": "code",
   "execution_count": 14,
   "id": "3f3c4e09-adfd-4c17-b658-852ee5d36c78",
   "metadata": {},
   "outputs": [
    {
     "name": "stdout",
     "output_type": "stream",
     "text": [
      "Finálny výber atribútov spolu s cieľovým:\n",
      "Bus_or_Coach_Passenger\n",
      "1st_Road_Class\n",
      "Urban_or_Rural_Area\n",
      "Road_Type\n",
      "Casualty_Class\n",
      "Pedestrian_Location\n",
      "Special_Conditions_at_Site\n",
      "Carriageway_Hazards\n",
      "Junction_Control\n",
      "Vehicle_Type\n",
      "Urban_or_Rural_Area\n",
      "Weather_Conditions\n",
      "Age_Band_of_Casualty\n",
      "Did_Police_Officer_Attend_Scene_of_Accident\n",
      "Local_Authority_(District)\n",
      "Vehicle_Leaving_Carriageway\n",
      "Road_Surface_Conditions\n",
      "Casualty_Severity\n",
      "Casualty_Type\n",
      "Pedestrian_Movement\n",
      "Sex_of_Casualty\n",
      "Light_Conditions\n",
      "Number_of_Vehicles\n",
      "Number_of_Casualties\n",
      "Local_Authority_(Highway)\n",
      "Pedestrian_Crossing_Physical_Facilities\n",
      "2nd_Road_Class\n",
      "Day_of_Week\n",
      "Police_Force\n",
      "Junction_Detail\n",
      "Speed_limit\n",
      "Did_Police_Officer_Attend_Scene_of_Accident\n",
      "Car_Passenger\n",
      "Accident_Severity\n"
     ]
    }
   ],
   "source": [
    "print(\"Finálny výber atribútov spolu s cieľovým:\")\n",
    "for i in cleaned_features:\n",
    "    print(i)"
   ]
  },
  {
   "cell_type": "code",
   "execution_count": 29,
   "id": "a92459b2-9d50-41da-93a1-3030cb8e8c9a",
   "metadata": {},
   "outputs": [],
   "source": [
    "#Výber len požadovaných stĺpcov\n",
    "data = data.select(*cleaned_features)"
   ]
  },
  {
   "cell_type": "code",
   "execution_count": null,
   "id": "5ed7422b-6f76-4de7-8e1f-cbe62248c7d8",
   "metadata": {},
   "outputs": [],
   "source": []
  },
  {
   "cell_type": "code",
   "execution_count": null,
   "id": "a9ad0c24-75a6-4d24-8c20-9f70b799f44e",
   "metadata": {},
   "outputs": [],
   "source": []
  },
  {
   "cell_type": "code",
   "execution_count": null,
   "id": "6559b2e4-7c2a-4bf4-bd93-e442b17d6687",
   "metadata": {},
   "outputs": [],
   "source": []
  },
  {
   "cell_type": "markdown",
   "id": "95f85f49-fbbd-46e7-9815-4b0e1bcf42d3",
   "metadata": {},
   "source": [
    "Rozdelenie datasetu na trénovaciu a testovaciu množinu"
   ]
  },
  {
   "cell_type": "code",
   "execution_count": 19,
   "id": "21788332-af04-4cf9-837a-b28fe19348b9",
   "metadata": {},
   "outputs": [],
   "source": [
    "import shutil\n",
    "import os\n",
    "\n",
    "# 1. Rozdelenie dát\n",
    "train_data, test_data = data.randomSplit([0.6, 0.4], seed=42)\n",
    "\n",
    "# 2. Dočasné uloženie s coalesce(1) do priečinkov\n",
    "train_data.coalesce(1).write.mode(\"overwrite\").option(\"header\", True).csv(\"train_temp\")\n",
    "test_data.coalesce(1).write.mode(\"overwrite\").option(\"header\", True).csv(\"test_temp\")\n",
    "\n",
    "# 3. Premenovanie súborov na train.csv a test.csv v aktuálnom priečinku\n",
    "def move_single_csv(temp_dir, output_name):\n",
    "    for file in os.listdir(temp_dir):\n",
    "        if file.endswith(\".csv\"):\n",
    "            shutil.move(os.path.join(temp_dir, file), output_name)\n",
    "            break\n",
    "    shutil.rmtree(temp_dir)\n",
    "\n",
    "move_single_csv(\"train_temp\", \"train.csv\")\n",
    "move_single_csv(\"test_temp\", \"test.csv\")\n"
   ]
  },
  {
   "cell_type": "code",
   "execution_count": null,
   "id": "9e6866ad-4f9d-4705-85b0-1b79fe1dcbd1",
   "metadata": {},
   "outputs": [],
   "source": []
  }
 ],
 "metadata": {
  "kernelspec": {
   "display_name": "Python 3 (ipykernel)",
   "language": "python",
   "name": "python3"
  },
  "language_info": {
   "codemirror_mode": {
    "name": "ipython",
    "version": 3
   },
   "file_extension": ".py",
   "mimetype": "text/x-python",
   "name": "python",
   "nbconvert_exporter": "python",
   "pygments_lexer": "ipython3",
   "version": "3.12.8"
  }
 },
 "nbformat": 4,
 "nbformat_minor": 5
}
