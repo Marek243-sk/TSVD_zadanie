{
 "cells": [
  {
   "cell_type": "markdown",
   "id": "39b965bb-3d55-42c6-8c8f-09cf8b6b425c",
   "metadata": {},
   "source": [
    "Knižnice a inicializácia SparkSwssion"
   ]
  },
  {
   "cell_type": "code",
   "execution_count": 62,
   "id": "e95edc60-bab6-48e4-bee5-56fea49448d6",
   "metadata": {},
   "outputs": [],
   "source": [
    "from pyspark.sql import SparkSession\n",
    "from pyspark.sql.functions import col, sum, when, count, mean\n",
    "from pyspark.sql import functions as F, DataFrame\n",
    "from pyspark.sql.types import NumericType, IntegerType\n",
    "from pyspark.sql.window import Window\n",
    "from pyspark.ml.feature import VectorAssembler, ChiSqSelector\n",
    "from pyspark.ml.classification import RandomForestClassifier\n",
    "from pyspark.ml import Pipeline\n",
    "from functools import reduce\n",
    "\n",
    "import matplotlib.pyplot as plt\n",
    "import pandas as pd\n",
    "import os\n",
    "\n",
    "spark = SparkSession.builder.appName(\"zadanieTSVD\").getOrCreate()"
   ]
  },
  {
   "cell_type": "markdown",
   "id": "d9a90b59-700c-447d-84f1-89b5a41df3fd",
   "metadata": {},
   "source": [
    "Načítanie dát"
   ]
  },
  {
   "cell_type": "code",
   "execution_count": 52,
   "id": "bb53b413-e10e-4637-ac48-f6729b2d6cd3",
   "metadata": {},
   "outputs": [],
   "source": [
    "# header=True –> použije prvý riadok ako názvy stĺpcov\n",
    "# inferSchema=True –> automaticky určí dátové typy\n",
    "accidents = spark.read.csv(\"DATA/Accidents.csv\",header=True,inferSchema=True)\n",
    "casualties = spark.read.csv(\"DATA/Casualties.csv\",header=True,inferSchema=True)\n",
    "vehicles = spark.read.csv(\"DATA/Vehicles.csv\",header=True,inferSchema=True)"
   ]
  },
  {
   "cell_type": "markdown",
   "id": "8aab7956-4b45-4687-ac5f-d3da0a253761",
   "metadata": {},
   "source": [
    "# Exploračná analýza"
   ]
  },
  {
   "cell_type": "code",
   "execution_count": 3,
   "id": "cd8ac4e7-3334-4e24-bdb6-47410b44c60d",
   "metadata": {},
   "outputs": [],
   "source": [
    "# Funkcia na základnú exploračnú analýzu dát.\n",
    "# Parametre:\n",
    "# df -> PySpark DataFrame na  analýzu\n",
    "# name -> Názov datasetu (len pre výpis)\n",
    "def eda_summary(df, name=\"Dataset\"):\n",
    "    print(f\"\\n{30*'#'} ANALÝZA {name} {30*'#'}\\n\")\n",
    "    # Dátové typy\n",
    "    print(\"\\nDátové typy:\\n\")\n",
    "    for column, dtype in df.dtypes:\n",
    "        print(f\"{column}: {dtype}\")\n",
    "    # Prvý záznam (vertikálne)\n",
    "    print(\"\\nPrvý záznam (vertikálne):\\n\")\n",
    "    df.show(n=1, truncate=True, vertical=True)\n",
    "    # Schéma datasetu\n",
    "    print(\"\\nSchéma datasetu:\\n\")\n",
    "    df.printSchema()\n",
    "    # Základné štatistiky\n",
    "    print(\"\\nZákladné štatistiky:\\n\")\n",
    "    df.describe().show(vertical=True)\n",
    "    # Chýbajúce hodnoty\n",
    "    print(\"\\nChýbajúce hodnoty v datasetu:\\n\")\n",
    "    df.select([sum(col(c).isNull().cast(\"int\")).alias(c) for c in df.columns]).show(vertical=True)\n",
    "    print(f\"\\n{30*'#'} KONIEC ANALÝZY {name} {30*'#'}\\n\")"
   ]
  },
  {
   "cell_type": "markdown",
   "id": "e4401d30-cc6a-42db-96e8-62879a0d5bae",
   "metadata": {},
   "source": [
    "### Accidents\n",
    "Accident_Index – Unikátny identifikátor nehody.  \n",
    "Location_Easting_OSGR, Location_Northing_OSGR – Súradnice v britskom súradnicovom systéme (OSGR).  \n",
    "Longitude, Latitude – Geografická poloha nehody.  \n",
    "Police_Force – Kód policajnej jednotky, ktorá nehodu riešila.  \n",
    "Accident_Severity – Závažnosť nehody (napr. mierna, vážna, smrteľná).  \n",
    "Number_of_Vehicles – Počet vozidiel zapojených do nehody.  \n",
    "Number_of_Casualties – Počet zranených/osôb postihnutých nehodou.  \n",
    "Date, Time – Dátum a čas nehody.  \n",
    "Day_of_Week – Deň v týždni, kedy k nehode došlo.  \n",
    "Local_Authority_(District), Local_Authority_(Highway) – Miestne samosprávy zodpovedné za danú lokalitu.  \n",
    "1st_Road_Class, 2nd_Road_Class – Kategória cesty (napr. diaľnica, hlavná cesta).  \n",
    "1st_Road_Number, 2nd_Road_Number – Číslo cesty (ak existuje).  \n",
    "Road_Type – Typ cesty (napr. jednosmerná, kruhový objazd).  \n",
    "Speed_limit – Maximálna povolená rýchlosť v mieste nehody.  \n",
    "Junction_Detail, Junction_Control – Informácie o križovatke (napr. semafory, kruhový objazd).  \n",
    "Pedestrian_Crossing-Human_Control, Pedestrian_Crossing-Physical_Facilities – Prítomnosť priechodu pre chodcov a jeho typ.  \n",
    "Light_Conditions – Svetelné podmienky (napr. denné svetlo, tma).  \n",
    "Weather_Conditions – Počasie v čase nehody.  \n",
    "Road_Surface_Conditions – Stav vozovky (suchá, mokrá, zľadovatená).  \n",
    "Special_Conditions_at_Site – Špeciálne okolnosti (napr. výtlky, olejová škvrna).  \n",
    "Carriageway_Hazards – Prekážky na ceste (napr. spadnutý strom, stojace vozidlo).  \n",
    "Urban_or_Rural_Area – Mesto alebo vidiek.  \n",
    "Did_Police_Officer_Attend_Scene_of_Accident – Či polícia bola na mieste nehody.  \n",
    "LSOA_of_Accident_Location – Kód malej geografickej oblasti (Lower Super Output Area).  "
   ]
  },
  {
   "cell_type": "code",
   "execution_count": 8,
   "id": "b7ce5bdb-c572-4b87-bdbf-1eb67d60815e",
   "metadata": {},
   "outputs": [],
   "source": [
    "# Kategorické atribúty:\n",
    "# Accident_Index, Police_Force, Accident_Severity, Day_of_Week, Date, Time, Local_Authority_(District), Local_Authority_(Highway), 1st_Road_Class, 2nd_Road_Class, 1st_Road_Number, 2nd_Road_Number, Road_Type,\n",
    "# Junction_Detail, Junction_Control, Pedestrian_Crossing-Human_Control, Pedestrian_Crossing-Physical_Facilities, Light_Conditions, Weather_Conditions, Road_Surface_Conditions, Special_Conditions_at_Site,\n",
    "# Carriageway_Hazards, Urban_or_Rural_Area, Did_Police_Officer_Attend_Scene_of_Accident, LSOA_of_Accident_Location\n",
    "\n",
    "# Numerické atribúty:\n",
    "# Location_Easting_OSGR, Location_Northing_OSGR, Longitude, Latitude, Number_of_Vehicles, Number_of_Casualties, Speed_limit"
   ]
  },
  {
   "cell_type": "code",
   "execution_count": 6,
   "id": "c6c78de7-fd1b-48b8-87e2-1f5628e710a2",
   "metadata": {},
   "outputs": [
    {
     "name": "stdout",
     "output_type": "stream",
     "text": [
      "\n",
      "############################## ANALÝZA Accidents Dataset ##############################\n",
      "\n",
      "\n",
      "Dátové typy:\n",
      "\n",
      "Accident_Index: string\n",
      "Location_Easting_OSGR: int\n",
      "Location_Northing_OSGR: int\n",
      "Longitude: double\n",
      "Latitude: double\n",
      "Police_Force: int\n",
      "Accident_Severity: int\n",
      "Number_of_Vehicles: int\n",
      "Number_of_Casualties: int\n",
      "Date: string\n",
      "Day_of_Week: int\n",
      "Time: timestamp\n",
      "Local_Authority_(District): int\n",
      "Local_Authority_(Highway): string\n",
      "1st_Road_Class: int\n",
      "1st_Road_Number: int\n",
      "Road_Type: int\n",
      "Speed_limit: int\n",
      "Junction_Detail: int\n",
      "Junction_Control: int\n",
      "2nd_Road_Class: int\n",
      "2nd_Road_Number: int\n",
      "Pedestrian_Crossing-Human_Control: int\n",
      "Pedestrian_Crossing-Physical_Facilities: int\n",
      "Light_Conditions: int\n",
      "Weather_Conditions: int\n",
      "Road_Surface_Conditions: int\n",
      "Special_Conditions_at_Site: int\n",
      "Carriageway_Hazards: int\n",
      "Urban_or_Rural_Area: int\n",
      "Did_Police_Officer_Attend_Scene_of_Accident: int\n",
      "LSOA_of_Accident_Location: string\n",
      "\n",
      "Prvý záznam (vertikálne):\n",
      "\n",
      "-RECORD 0----------------------------------------------------------\n",
      " Accident_Index                              | 200501BS00001       \n",
      " Location_Easting_OSGR                       | 525680              \n",
      " Location_Northing_OSGR                      | 178240              \n",
      " Longitude                                   | -0.19117            \n",
      " Latitude                                    | 51.489096           \n",
      " Police_Force                                | 1                   \n",
      " Accident_Severity                           | 2                   \n",
      " Number_of_Vehicles                          | 1                   \n",
      " Number_of_Casualties                        | 1                   \n",
      " Date                                        | 04/01/2005          \n",
      " Day_of_Week                                 | 3                   \n",
      " Time                                        | 2025-04-04 17:42:00 \n",
      " Local_Authority_(District)                  | 12                  \n",
      " Local_Authority_(Highway)                   | E09000020           \n",
      " 1st_Road_Class                              | 3                   \n",
      " 1st_Road_Number                             | 3218                \n",
      " Road_Type                                   | 6                   \n",
      " Speed_limit                                 | 30                  \n",
      " Junction_Detail                             | 0                   \n",
      " Junction_Control                            | -1                  \n",
      " 2nd_Road_Class                              | -1                  \n",
      " 2nd_Road_Number                             | 0                   \n",
      " Pedestrian_Crossing-Human_Control           | 0                   \n",
      " Pedestrian_Crossing-Physical_Facilities     | 1                   \n",
      " Light_Conditions                            | 1                   \n",
      " Weather_Conditions                          | 2                   \n",
      " Road_Surface_Conditions                     | 2                   \n",
      " Special_Conditions_at_Site                  | 0                   \n",
      " Carriageway_Hazards                         | 0                   \n",
      " Urban_or_Rural_Area                         | 1                   \n",
      " Did_Police_Officer_Attend_Scene_of_Accident | 1                   \n",
      " LSOA_of_Accident_Location                   | E01002849           \n",
      "only showing top 1 row\n",
      "\n",
      "\n",
      "Schéma datasetu:\n",
      "\n",
      "root\n",
      " |-- Accident_Index: string (nullable = true)\n",
      " |-- Location_Easting_OSGR: integer (nullable = true)\n",
      " |-- Location_Northing_OSGR: integer (nullable = true)\n",
      " |-- Longitude: double (nullable = true)\n",
      " |-- Latitude: double (nullable = true)\n",
      " |-- Police_Force: integer (nullable = true)\n",
      " |-- Accident_Severity: integer (nullable = true)\n",
      " |-- Number_of_Vehicles: integer (nullable = true)\n",
      " |-- Number_of_Casualties: integer (nullable = true)\n",
      " |-- Date: string (nullable = true)\n",
      " |-- Day_of_Week: integer (nullable = true)\n",
      " |-- Time: timestamp (nullable = true)\n",
      " |-- Local_Authority_(District): integer (nullable = true)\n",
      " |-- Local_Authority_(Highway): string (nullable = true)\n",
      " |-- 1st_Road_Class: integer (nullable = true)\n",
      " |-- 1st_Road_Number: integer (nullable = true)\n",
      " |-- Road_Type: integer (nullable = true)\n",
      " |-- Speed_limit: integer (nullable = true)\n",
      " |-- Junction_Detail: integer (nullable = true)\n",
      " |-- Junction_Control: integer (nullable = true)\n",
      " |-- 2nd_Road_Class: integer (nullable = true)\n",
      " |-- 2nd_Road_Number: integer (nullable = true)\n",
      " |-- Pedestrian_Crossing-Human_Control: integer (nullable = true)\n",
      " |-- Pedestrian_Crossing-Physical_Facilities: integer (nullable = true)\n",
      " |-- Light_Conditions: integer (nullable = true)\n",
      " |-- Weather_Conditions: integer (nullable = true)\n",
      " |-- Road_Surface_Conditions: integer (nullable = true)\n",
      " |-- Special_Conditions_at_Site: integer (nullable = true)\n",
      " |-- Carriageway_Hazards: integer (nullable = true)\n",
      " |-- Urban_or_Rural_Area: integer (nullable = true)\n",
      " |-- Did_Police_Officer_Attend_Scene_of_Accident: integer (nullable = true)\n",
      " |-- LSOA_of_Accident_Location: string (nullable = true)\n",
      "\n",
      "\n",
      "Základné štatistiky:\n",
      "\n",
      "-RECORD 0-----------------------------------------------------------\n",
      " summary                                     | count                \n",
      " Accident_Index                              | 1640597              \n",
      " Location_Easting_OSGR                       | 1640486              \n",
      " Location_Northing_OSGR                      | 1640486              \n",
      " Longitude                                   | 1640486              \n",
      " Latitude                                    | 1640486              \n",
      " Police_Force                                | 1640597              \n",
      " Accident_Severity                           | 1640597              \n",
      " Number_of_Vehicles                          | 1640597              \n",
      " Number_of_Casualties                        | 1640597              \n",
      " Date                                        | 1640597              \n",
      " Day_of_Week                                 | 1640597              \n",
      " Local_Authority_(District)                  | 1640597              \n",
      " Local_Authority_(Highway)                   | 1640597              \n",
      " 1st_Road_Class                              | 1640597              \n",
      " 1st_Road_Number                             | 1640597              \n",
      " Road_Type                                   | 1640597              \n",
      " Speed_limit                                 | 1640597              \n",
      " Junction_Detail                             | 1640597              \n",
      " Junction_Control                            | 1640597              \n",
      " 2nd_Road_Class                              | 1640597              \n",
      " 2nd_Road_Number                             | 1640597              \n",
      " Pedestrian_Crossing-Human_Control           | 1640597              \n",
      " Pedestrian_Crossing-Physical_Facilities     | 1640597              \n",
      " Light_Conditions                            | 1640597              \n",
      " Weather_Conditions                          | 1640597              \n",
      " Road_Surface_Conditions                     | 1640597              \n",
      " Special_Conditions_at_Site                  | 1640597              \n",
      " Carriageway_Hazards                         | 1640597              \n",
      " Urban_or_Rural_Area                         | 1640597              \n",
      " Did_Police_Officer_Attend_Scene_of_Accident | 1640597              \n",
      " LSOA_of_Accident_Location                   | 1520023              \n",
      "-RECORD 1-----------------------------------------------------------\n",
      " summary                                     | mean                 \n",
      " Accident_Index                              | Infinity             \n",
      " Location_Easting_OSGR                       | 439605.11955969146   \n",
      " Location_Northing_OSGR                      | 299247.6023666157    \n",
      " Longitude                                   | -1.4369547021883093  \n",
      " Latitude                                    | 52.581142233076086   \n",
      " Police_Force                                | 30.826165109408343   \n",
      " Accident_Severity                           | 2.838591683393301    \n",
      " Number_of_Vehicles                          | 1.831299825612262    \n",
      " Number_of_Casualties                        | 1.35116667895894     \n",
      " Date                                        | NULL                 \n",
      " Day_of_Week                                 | 4.117037883160825    \n",
      " Local_Authority_(District)                  | 354.0820561051861    \n",
      " Local_Authority_(Highway)                   | NULL                 \n",
      " 1st_Road_Class                              | 4.090045270105943    \n",
      " 1st_Road_Number                             | 1010.0460295855715   \n",
      " Road_Type                                   | 5.166835609232493    \n",
      " Speed_limit                                 | 39.101132087892395   \n",
      " Junction_Detail                             | 2.3374314350203007   \n",
      " Junction_Control                            | 1.8121403367188895   \n",
      " 2nd_Road_Class                              | 2.6577562923740565   \n",
      " 2nd_Road_Number                             | 379.5958239592051    \n",
      " Pedestrian_Crossing-Human_Control           | 0.009437418208127895 \n",
      " Pedestrian_Crossing-Physical_Facilities     | 0.7288529724240627   \n",
      " Light_Conditions                            | 1.9504064678894328   \n",
      " Weather_Conditions                          | 1.5812036715902809   \n",
      " Road_Surface_Conditions                     | 1.3634731747040865   \n",
      " Special_Conditions_at_Site                  | 0.10993680958821697  \n",
      " Carriageway_Hazards                         | 0.07308498065033643  \n",
      " Urban_or_Rural_Area                         | 1.3574302525239288   \n",
      " Did_Police_Officer_Attend_Scene_of_Accident | 1.1930242466614287   \n",
      " LSOA_of_Accident_Location                   | NULL                 \n",
      "-RECORD 2-----------------------------------------------------------\n",
      " summary                                     | stddev               \n",
      " Accident_Index                              | NaN                  \n",
      " Location_Easting_OSGR                       | 95503.60473339076    \n",
      " Location_Northing_OSGR                      | 161493.74775162566   \n",
      " Longitude                                   | 1.4040200139982413   \n",
      " Latitude                                    | 1.4541574001603217   \n",
      " Police_Force                                | 25.54203153463345    \n",
      " Accident_Severity                           | 0.40177343289636686  \n",
      " Number_of_Vehicles                          | 0.715278853020172    \n",
      " Number_of_Casualties                        | 0.8260983324873791   \n",
      " Date                                        | NULL                 \n",
      " Day_of_Week                                 | 1.9248153527454004   \n",
      " Local_Authority_(District)                  | 259.3714513208506    \n",
      " Local_Authority_(Highway)                   | NULL                 \n",
      " 1st_Road_Class                              | 1.4302951530596002   \n",
      " 1st_Road_Number                             | 1823.569715634702    \n",
      " Road_Type                                   | 1.6448053884579275   \n",
      " Speed_limit                                 | 14.177753448892476   \n",
      " Junction_Detail                             | 2.5789732088994546   \n",
      " Junction_Control                            | 2.3053209700882964   \n",
      " 2nd_Road_Class                              | 3.208914084313127    \n",
      " 2nd_Road_Number                             | 1300.2250346380345   \n",
      " Pedestrian_Crossing-Human_Control           | 0.12800322761132032  \n",
      " Pedestrian_Crossing-Physical_Facilities     | 1.8086077366462656   \n",
      " Light_Conditions                            | 1.6480056741844478   \n",
      " Weather_Conditions                          | 1.652380728522288    \n",
      " Road_Surface_Conditions                     | 0.629625783802109    \n",
      " Special_Conditions_at_Site                  | 0.7331668724494551   \n",
      " Carriageway_Hazards                         | 0.6229789676106672   \n",
      " Urban_or_Rural_Area                         | 0.47942500350914     \n",
      " Did_Police_Officer_Attend_Scene_of_Accident | 0.400767039420967    \n",
      " LSOA_of_Accident_Location                   | NULL                 \n",
      "-RECORD 3-----------------------------------------------------------\n",
      " summary                                     | min                  \n",
      " Accident_Index                              | 200501BS00001        \n",
      " Location_Easting_OSGR                       | 64950                \n",
      " Location_Northing_OSGR                      | 10290                \n",
      " Longitude                                   | -7.516225            \n",
      " Latitude                                    | 49.912941            \n",
      " Police_Force                                | 1                    \n",
      " Accident_Severity                           | 1                    \n",
      " Number_of_Vehicles                          | 1                    \n",
      " Number_of_Casualties                        | 1                    \n",
      " Date                                        | 01/01/2005           \n",
      " Day_of_Week                                 | 1                    \n",
      " Local_Authority_(District)                  | 1                    \n",
      " Local_Authority_(Highway)                   | E06000001            \n",
      " 1st_Road_Class                              | 1                    \n",
      " 1st_Road_Number                             | -1                   \n",
      " Road_Type                                   | 1                    \n",
      " Speed_limit                                 | 10                   \n",
      " Junction_Detail                             | -1                   \n",
      " Junction_Control                            | -1                   \n",
      " 2nd_Road_Class                              | -1                   \n",
      " 2nd_Road_Number                             | -1                   \n",
      " Pedestrian_Crossing-Human_Control           | -1                   \n",
      " Pedestrian_Crossing-Physical_Facilities     | -1                   \n",
      " Light_Conditions                            | 1                    \n",
      " Weather_Conditions                          | -1                   \n",
      " Road_Surface_Conditions                     | -1                   \n",
      " Special_Conditions_at_Site                  | -1                   \n",
      " Carriageway_Hazards                         | -1                   \n",
      " Urban_or_Rural_Area                         | 1                    \n",
      " Did_Police_Officer_Attend_Scene_of_Accident | -1                   \n",
      " LSOA_of_Accident_Location                   | E01000001            \n",
      "-RECORD 4-----------------------------------------------------------\n",
      " summary                                     | max                  \n",
      " Accident_Index                              | 2014984139614        \n",
      " Location_Easting_OSGR                       | 655540               \n",
      " Location_Northing_OSGR                      | 1208800              \n",
      " Longitude                                   | 1.76201              \n",
      " Latitude                                    | 60.757544            \n",
      " Police_Force                                | 98                   \n",
      " Accident_Severity                           | 3                    \n",
      " Number_of_Vehicles                          | 67                   \n",
      " Number_of_Casualties                        | 93                   \n",
      " Date                                        | 31/12/2014           \n",
      " Day_of_Week                                 | 7                    \n",
      " Local_Authority_(District)                  | 941                  \n",
      " Local_Authority_(Highway)                   | W06000024            \n",
      " 1st_Road_Class                              | 6                    \n",
      " 1st_Road_Number                             | 9999                 \n",
      " Road_Type                                   | 9                    \n",
      " Speed_limit                                 | 70                   \n",
      " Junction_Detail                             | 9                    \n",
      " Junction_Control                            | 4                    \n",
      " 2nd_Road_Class                              | 6                    \n",
      " 2nd_Road_Number                             | 9999                 \n",
      " Pedestrian_Crossing-Human_Control           | 2                    \n",
      " Pedestrian_Crossing-Physical_Facilities     | 8                    \n",
      " Light_Conditions                            | 7                    \n",
      " Weather_Conditions                          | 9                    \n",
      " Road_Surface_Conditions                     | 5                    \n",
      " Special_Conditions_at_Site                  | 7                    \n",
      " Carriageway_Hazards                         | 7                    \n",
      " Urban_or_Rural_Area                         | 3                    \n",
      " Did_Police_Officer_Attend_Scene_of_Accident | 3                    \n",
      " LSOA_of_Accident_Location                   | W01001957            \n",
      "\n",
      "\n",
      "Chýbajúce hodnoty v datasetu:\n",
      "\n",
      "-RECORD 0---------------------------------------------\n",
      " Accident_Index                              | 0      \n",
      " Location_Easting_OSGR                       | 111    \n",
      " Location_Northing_OSGR                      | 111    \n",
      " Longitude                                   | 111    \n",
      " Latitude                                    | 111    \n",
      " Police_Force                                | 0      \n",
      " Accident_Severity                           | 0      \n",
      " Number_of_Vehicles                          | 0      \n",
      " Number_of_Casualties                        | 0      \n",
      " Date                                        | 0      \n",
      " Day_of_Week                                 | 0      \n",
      " Time                                        | 133    \n",
      " Local_Authority_(District)                  | 0      \n",
      " Local_Authority_(Highway)                   | 0      \n",
      " 1st_Road_Class                              | 0      \n",
      " 1st_Road_Number                             | 0      \n",
      " Road_Type                                   | 0      \n",
      " Speed_limit                                 | 0      \n",
      " Junction_Detail                             | 0      \n",
      " Junction_Control                            | 0      \n",
      " 2nd_Road_Class                              | 0      \n",
      " 2nd_Road_Number                             | 0      \n",
      " Pedestrian_Crossing-Human_Control           | 0      \n",
      " Pedestrian_Crossing-Physical_Facilities     | 0      \n",
      " Light_Conditions                            | 0      \n",
      " Weather_Conditions                          | 0      \n",
      " Road_Surface_Conditions                     | 0      \n",
      " Special_Conditions_at_Site                  | 0      \n",
      " Carriageway_Hazards                         | 0      \n",
      " Urban_or_Rural_Area                         | 0      \n",
      " Did_Police_Officer_Attend_Scene_of_Accident | 0      \n",
      " LSOA_of_Accident_Location                   | 120574 \n",
      "\n",
      "\n",
      "############################## KONIEC ANALÝZY Accidents Dataset ##############################\n",
      "\n"
     ]
    }
   ],
   "source": [
    "eda_summary(accidents,\"Accidents Dataset\")"
   ]
  },
  {
   "cell_type": "markdown",
   "id": "b9a95836-d25c-40c8-b2f8-43b2e005e501",
   "metadata": {},
   "source": [
    "### Casualties\n",
    "Accident_Index – Prepojenie na konkrétnu nehodu.  \n",
    "Vehicle_Reference – Identifikátor vozidla, v ktorom bola osoba.  \n",
    "Casualty_Reference – Unikátne ID pre každú obeť v rámci nehody.  \n",
    "Casualty_Class – Typ účastníka (napr. vodič, spolujazdec, chodec).  \n",
    "Sex_of_Casualty – Pohlavie zranenej osoby.  \n",
    "Age_of_Casualty, Age_Band_of_Casualty – Vek obete (presný a vo vekových kategóriách).  \n",
    "Casualty_Severity – Závažnosť zranenia (mierne, vážne, smrteľné).  \n",
    "Pedestrian_Location – Kde sa chodec nachádzal (napr. priechod pre chodcov).  \n",
    "Pedestrian_Movement – Pohyb chodca v čase nehody (napr. bežal, prechádzal cez cestu).  \n",
    "Car_Passenger – Či bol zranený ako spolujazdec v aute.  \n",
    "Bus_or_Coach_Passenger – Či bol zranený ako cestujúci v autobuse.  \n",
    "Pedestrian_Road_Maintenance_Worker – Či bol chodec pracovník údržby ciest.  \n",
    "Casualty_Type – Typ účastníka nehody (napr. cyklista, motocyklista).  \n",
    "Casualty_Home_Area_Type – Mestská alebo vidiecka oblasť bydliska obete."
   ]
  },
  {
   "cell_type": "code",
   "execution_count": 9,
   "id": "4fb92674-13b0-4d66-b6a3-50f4819b12eb",
   "metadata": {},
   "outputs": [],
   "source": [
    "# Kategorické atribúty:\n",
    "# Accident_Index, Vehicle_Reference, Casualty_Reference, Casualty_Class, Sex_of_Casualty, Age_Band_of_Casualty, Casualty_Severity, Pedestrian_Location, Pedestrian_Movement, Car_Passenger, Bus_or_Coach_Passenger,\n",
    "# Pedestrian_Road_Maintenance_Worker, Casualty_Type, Casualty_Home_Area_Type\n",
    "\n",
    "# Numerické atribúty:\n",
    "# Age_of_Casualty"
   ]
  },
  {
   "cell_type": "code",
   "execution_count": 7,
   "id": "96cea084-cf30-4109-b127-4e323860e9db",
   "metadata": {},
   "outputs": [
    {
     "name": "stdout",
     "output_type": "stream",
     "text": [
      "\n",
      "############################## ANALÝZA Casualties Dataset ##############################\n",
      "\n",
      "\n",
      "Dátové typy:\n",
      "\n",
      "Accident_Index: string\n",
      "Vehicle_Reference: int\n",
      "Casualty_Reference: int\n",
      "Casualty_Class: int\n",
      "Sex_of_Casualty: int\n",
      "Age_of_Casualty: int\n",
      "Age_Band_of_Casualty: int\n",
      "Casualty_Severity: int\n",
      "Pedestrian_Location: int\n",
      "Pedestrian_Movement: int\n",
      "Car_Passenger: int\n",
      "Bus_or_Coach_Passenger: int\n",
      "Pedestrian_Road_Maintenance_Worker: int\n",
      "Casualty_Type: int\n",
      "Casualty_Home_Area_Type: int\n",
      "\n",
      "Prvý záznam (vertikálne):\n",
      "\n",
      "-RECORD 0-------------------------------------------\n",
      " Accident_Index                     | 200501BS00001 \n",
      " Vehicle_Reference                  | 1             \n",
      " Casualty_Reference                 | 1             \n",
      " Casualty_Class                     | 3             \n",
      " Sex_of_Casualty                    | 1             \n",
      " Age_of_Casualty                    | 37            \n",
      " Age_Band_of_Casualty               | 7             \n",
      " Casualty_Severity                  | 2             \n",
      " Pedestrian_Location                | 1             \n",
      " Pedestrian_Movement                | 1             \n",
      " Car_Passenger                      | 0             \n",
      " Bus_or_Coach_Passenger             | 0             \n",
      " Pedestrian_Road_Maintenance_Worker | -1            \n",
      " Casualty_Type                      | 0             \n",
      " Casualty_Home_Area_Type            | 1             \n",
      "only showing top 1 row\n",
      "\n",
      "\n",
      "Schéma datasetu:\n",
      "\n",
      "root\n",
      " |-- Accident_Index: string (nullable = true)\n",
      " |-- Vehicle_Reference: integer (nullable = true)\n",
      " |-- Casualty_Reference: integer (nullable = true)\n",
      " |-- Casualty_Class: integer (nullable = true)\n",
      " |-- Sex_of_Casualty: integer (nullable = true)\n",
      " |-- Age_of_Casualty: integer (nullable = true)\n",
      " |-- Age_Band_of_Casualty: integer (nullable = true)\n",
      " |-- Casualty_Severity: integer (nullable = true)\n",
      " |-- Pedestrian_Location: integer (nullable = true)\n",
      " |-- Pedestrian_Movement: integer (nullable = true)\n",
      " |-- Car_Passenger: integer (nullable = true)\n",
      " |-- Bus_or_Coach_Passenger: integer (nullable = true)\n",
      " |-- Pedestrian_Road_Maintenance_Worker: integer (nullable = true)\n",
      " |-- Casualty_Type: integer (nullable = true)\n",
      " |-- Casualty_Home_Area_Type: integer (nullable = true)\n",
      "\n",
      "\n",
      "Základné štatistiky:\n",
      "\n",
      "-RECORD 0-------------------------------------------------\n",
      " summary                            | count               \n",
      " Accident_Index                     | 2216720             \n",
      " Vehicle_Reference                  | 2216720             \n",
      " Casualty_Reference                 | 2216720             \n",
      " Casualty_Class                     | 2216720             \n",
      " Sex_of_Casualty                    | 2216720             \n",
      " Age_of_Casualty                    | 2216720             \n",
      " Age_Band_of_Casualty               | 2216720             \n",
      " Casualty_Severity                  | 2216720             \n",
      " Pedestrian_Location                | 2216720             \n",
      " Pedestrian_Movement                | 2216720             \n",
      " Car_Passenger                      | 2216720             \n",
      " Bus_or_Coach_Passenger             | 2216720             \n",
      " Pedestrian_Road_Maintenance_Worker | 2216720             \n",
      " Casualty_Type                      | 2216720             \n",
      " Casualty_Home_Area_Type            | 2216720             \n",
      "-RECORD 1-------------------------------------------------\n",
      " summary                            | mean                \n",
      " Accident_Index                     | Infinity            \n",
      " Vehicle_Reference                  | 1.4850310368472337  \n",
      " Casualty_Reference                 | 1.4336109206395033  \n",
      " Casualty_Class                     | 1.4936153415857663  \n",
      " Sex_of_Casualty                    | 1.4161860767259735  \n",
      " Age_of_Casualty                    | 34.35309330903316   \n",
      " Age_Band_of_Casualty               | 6.020044480132809   \n",
      " Casualty_Severity                  | 2.866670576347035   \n",
      " Pedestrian_Location                | 0.6663922371792559  \n",
      " Pedestrian_Movement                | 0.47405987224367535 \n",
      " Car_Passenger                      | 0.2828525930203183  \n",
      " Bus_or_Coach_Passenger             | 0.09074668880147245 \n",
      " Pedestrian_Road_Maintenance_Worker | -0.6254159298422896 \n",
      " Casualty_Type                      | 7.510756884044895   \n",
      " Casualty_Home_Area_Type            | 0.990493612183767   \n",
      "-RECORD 2-------------------------------------------------\n",
      " summary                            | stddev              \n",
      " Accident_Index                     | NaN                 \n",
      " Vehicle_Reference                  | 0.6671877927387612  \n",
      " Casualty_Reference                 | 1.4042499275834945  \n",
      " Casualty_Class                     | 0.7062961309626619  \n",
      " Sex_of_Casualty                    | 0.4946519572133113  \n",
      " Age_of_Casualty                    | 18.858040050914852  \n",
      " Age_Band_of_Casualty               | 2.406345683028033   \n",
      " Casualty_Severity                  | 0.36928185877552316 \n",
      " Pedestrian_Location                | 1.9597416660201852  \n",
      " Pedestrian_Movement                | 1.6602806356146582  \n",
      " Car_Passenger                      | 0.5933772019954163  \n",
      " Bus_or_Coach_Passenger             | 0.567479803755708   \n",
      " Pedestrian_Road_Maintenance_Worker | 0.5526900232995612  \n",
      " Casualty_Type                      | 7.17037454025096    \n",
      " Casualty_Home_Area_Type            | 1.0317953455358286  \n",
      "-RECORD 3-------------------------------------------------\n",
      " summary                            | min                 \n",
      " Accident_Index                     | 200501BS00001       \n",
      " Vehicle_Reference                  | 1                   \n",
      " Casualty_Reference                 | 1                   \n",
      " Casualty_Class                     | 1                   \n",
      " Sex_of_Casualty                    | -1                  \n",
      " Age_of_Casualty                    | -1                  \n",
      " Age_Band_of_Casualty               | -1                  \n",
      " Casualty_Severity                  | 1                   \n",
      " Pedestrian_Location                | -1                  \n",
      " Pedestrian_Movement                | -1                  \n",
      " Car_Passenger                      | -1                  \n",
      " Bus_or_Coach_Passenger             | -1                  \n",
      " Pedestrian_Road_Maintenance_Worker | -1                  \n",
      " Casualty_Type                      | 0                   \n",
      " Casualty_Home_Area_Type            | -1                  \n",
      "-RECORD 4-------------------------------------------------\n",
      " summary                            | max                 \n",
      " Accident_Index                     | 2014984139614       \n",
      " Vehicle_Reference                  | 91                  \n",
      " Casualty_Reference                 | 852                 \n",
      " Casualty_Class                     | 3                   \n",
      " Sex_of_Casualty                    | 2                   \n",
      " Age_of_Casualty                    | 103                 \n",
      " Age_Band_of_Casualty               | 11                  \n",
      " Casualty_Severity                  | 3                   \n",
      " Pedestrian_Location                | 10                  \n",
      " Pedestrian_Movement                | 9                   \n",
      " Car_Passenger                      | 2                   \n",
      " Bus_or_Coach_Passenger             | 4                   \n",
      " Pedestrian_Road_Maintenance_Worker | 2                   \n",
      " Casualty_Type                      | 98                  \n",
      " Casualty_Home_Area_Type            | 3                   \n",
      "\n",
      "\n",
      "Chýbajúce hodnoty v datasetu:\n",
      "\n",
      "-RECORD 0---------------------------------\n",
      " Accident_Index                     | 0   \n",
      " Vehicle_Reference                  | 0   \n",
      " Casualty_Reference                 | 0   \n",
      " Casualty_Class                     | 0   \n",
      " Sex_of_Casualty                    | 0   \n",
      " Age_of_Casualty                    | 0   \n",
      " Age_Band_of_Casualty               | 0   \n",
      " Casualty_Severity                  | 0   \n",
      " Pedestrian_Location                | 0   \n",
      " Pedestrian_Movement                | 0   \n",
      " Car_Passenger                      | 0   \n",
      " Bus_or_Coach_Passenger             | 0   \n",
      " Pedestrian_Road_Maintenance_Worker | 0   \n",
      " Casualty_Type                      | 0   \n",
      " Casualty_Home_Area_Type            | 0   \n",
      "\n",
      "\n",
      "############################## KONIEC ANALÝZY Casualties Dataset ##############################\n",
      "\n"
     ]
    }
   ],
   "source": [
    "eda_summary(casualties,\"Casualties Dataset\")"
   ]
  },
  {
   "cell_type": "markdown",
   "id": "f03c8a11-e960-48d6-aa28-70b6f9d914fb",
   "metadata": {},
   "source": [
    "### Vehicles\n",
    "Accident_Index – Prepojenie na konkrétnu nehodu.  \n",
    "Vehicle_Reference – Unikátne ID vozidla v rámci nehody.  \n",
    "Vehicle_Type – Typ vozidla (napr. osobné auto, nákladné auto, motorka).  \n",
    "Towing_and_Articulation – Či vozidlo ťahalo príves alebo bolo kĺbové.  \n",
    "Vehicle_Manoeuvre – Manéver vozidla pred nehodou (napr. odbočovanie, cúvanie).  \n",
    "Vehicle_Location-Restricted_Lane – Či bolo vozidlo v pruhu s obmedzením (napr. bus pruh).  \n",
    "Junction_Location – Poloha vozidla na križovatke (napr. hlavná cesta, vedľajšia cesta).  \n",
    "Skidding_and_Overturning – Či vozidlo dostalo šmyk alebo sa prevrátilo.  \n",
    "Hit_Object_in_Carriageway – Či narazilo do objektu na ceste (napr. zvodidlá).  \n",
    "Vehicle_Leaving_Carriageway – Či vozidlo opustilo vozovku.  \n",
    "Hit_Object_off_Carriageway – Či narazilo do objektu mimo cesty.  \n",
    "1st_Point_of_Impact – Miesto prvého nárazu na vozidle (napr. predná časť, bočná časť).  \n",
    "Was_Vehicle_Left_Hand_Drive? – Či malo vozidlo ľavostranné riadenie.  \n",
    "Journey_Purpose_of_Driver – Účel jazdy (napr. dochádzanie do práce).  \n",
    "Sex_of_Driver – Pohlavie vodiča.  \n",
    "Age_of_Driver, Age_Band_of_Driver – Vek vodiča (presný a kategorizovaný).  \n",
    "Engine_Capacity_(CC) – Objem motora vozidla.  \n",
    "Propulsion_Code – Typ pohonu (napr. benzín, diesel, elektrický).  \n",
    "Age_of_Vehicle – Vek vozidla v rokoch.  \n",
    "Driver_IMD_Decile – Sociálno-ekonomická situácia oblasti, kde vodič býva (Index Multiple Deprivation).  \n",
    "Driver_Home_Area_Type – Mestská alebo vidiecka oblasť bydliska vodiča."
   ]
  },
  {
   "cell_type": "code",
   "execution_count": 11,
   "id": "f7c875d4-8025-41bd-af0b-708bb8679156",
   "metadata": {},
   "outputs": [],
   "source": [
    "# Kategorické:\n",
    "# Accident_Index, Vehicle_Reference, Vehicle_Type, Towing_and_Articulation, Vehicle_Manoeuvre, Vehicle_Location-Restricted_Lane, Junction_Location, Skidding_and_Overturning, Hit_Object_in_Carriageway, Vehicle_Leaving_Carriageway,\n",
    "# Hit_Object_off_Carriageway, 1st_Point_of_Impact, Was_Vehicle_Left_Hand_Drive?, Journey_Purpose_of_Driver, Sex_of_Driver, Age_Band_of_Driver, Propulsion_Code, Driver_Home_Area_Type\n",
    "\n",
    "# Numerické:\n",
    "# Age_of_Driver, Engine_Capacity_(CC), Age_of_Vehicle, Driver_IMD_Decile"
   ]
  },
  {
   "cell_type": "code",
   "execution_count": 10,
   "id": "b23b74d6-b1a9-4178-a633-ce49659e4a22",
   "metadata": {},
   "outputs": [
    {
     "name": "stdout",
     "output_type": "stream",
     "text": [
      "\n",
      "############################## ANALÝZA Vechicles Dataset ##############################\n",
      "\n",
      "\n",
      "Dátové typy:\n",
      "\n",
      "Accident_Index: string\n",
      "Vehicle_Reference: int\n",
      "Vehicle_Type: int\n",
      "Towing_and_Articulation: int\n",
      "Vehicle_Manoeuvre: int\n",
      "Vehicle_Location-Restricted_Lane: int\n",
      "Junction_Location: int\n",
      "Skidding_and_Overturning: int\n",
      "Hit_Object_in_Carriageway: int\n",
      "Vehicle_Leaving_Carriageway: int\n",
      "Hit_Object_off_Carriageway: int\n",
      "1st_Point_of_Impact: int\n",
      "Was_Vehicle_Left_Hand_Drive?: int\n",
      "Journey_Purpose_of_Driver: int\n",
      "Sex_of_Driver: int\n",
      "Age_of_Driver: int\n",
      "Age_Band_of_Driver: int\n",
      "Engine_Capacity_(CC): int\n",
      "Propulsion_Code: int\n",
      "Age_of_Vehicle: int\n",
      "Driver_IMD_Decile: int\n",
      "Driver_Home_Area_Type: int\n",
      "\n",
      "Prvý záznam (vertikálne):\n",
      "\n",
      "-RECORD 0-----------------------------------------\n",
      " Accident_Index                   | 200501BS00001 \n",
      " Vehicle_Reference                | 1             \n",
      " Vehicle_Type                     | 9             \n",
      " Towing_and_Articulation          | 0             \n",
      " Vehicle_Manoeuvre                | 18            \n",
      " Vehicle_Location-Restricted_Lane | 0             \n",
      " Junction_Location                | 0             \n",
      " Skidding_and_Overturning         | 0             \n",
      " Hit_Object_in_Carriageway        | 0             \n",
      " Vehicle_Leaving_Carriageway      | 0             \n",
      " Hit_Object_off_Carriageway       | 0             \n",
      " 1st_Point_of_Impact              | 1             \n",
      " Was_Vehicle_Left_Hand_Drive?     | 1             \n",
      " Journey_Purpose_of_Driver        | 15            \n",
      " Sex_of_Driver                    | 2             \n",
      " Age_of_Driver                    | 74            \n",
      " Age_Band_of_Driver               | 10            \n",
      " Engine_Capacity_(CC)             | -1            \n",
      " Propulsion_Code                  | -1            \n",
      " Age_of_Vehicle                   | -1            \n",
      " Driver_IMD_Decile                | 7             \n",
      " Driver_Home_Area_Type            | 1             \n",
      "only showing top 1 row\n",
      "\n",
      "\n",
      "Schéma datasetu:\n",
      "\n",
      "root\n",
      " |-- Accident_Index: string (nullable = true)\n",
      " |-- Vehicle_Reference: integer (nullable = true)\n",
      " |-- Vehicle_Type: integer (nullable = true)\n",
      " |-- Towing_and_Articulation: integer (nullable = true)\n",
      " |-- Vehicle_Manoeuvre: integer (nullable = true)\n",
      " |-- Vehicle_Location-Restricted_Lane: integer (nullable = true)\n",
      " |-- Junction_Location: integer (nullable = true)\n",
      " |-- Skidding_and_Overturning: integer (nullable = true)\n",
      " |-- Hit_Object_in_Carriageway: integer (nullable = true)\n",
      " |-- Vehicle_Leaving_Carriageway: integer (nullable = true)\n",
      " |-- Hit_Object_off_Carriageway: integer (nullable = true)\n",
      " |-- 1st_Point_of_Impact: integer (nullable = true)\n",
      " |-- Was_Vehicle_Left_Hand_Drive?: integer (nullable = true)\n",
      " |-- Journey_Purpose_of_Driver: integer (nullable = true)\n",
      " |-- Sex_of_Driver: integer (nullable = true)\n",
      " |-- Age_of_Driver: integer (nullable = true)\n",
      " |-- Age_Band_of_Driver: integer (nullable = true)\n",
      " |-- Engine_Capacity_(CC): integer (nullable = true)\n",
      " |-- Propulsion_Code: integer (nullable = true)\n",
      " |-- Age_of_Vehicle: integer (nullable = true)\n",
      " |-- Driver_IMD_Decile: integer (nullable = true)\n",
      " |-- Driver_Home_Area_Type: integer (nullable = true)\n",
      "\n",
      "\n",
      "Základné štatistiky:\n",
      "\n",
      "-RECORD 0------------------------------------------------\n",
      " summary                          | count                \n",
      " Accident_Index                   | 3004425              \n",
      " Vehicle_Reference                | 3004425              \n",
      " Vehicle_Type                     | 3004425              \n",
      " Towing_and_Articulation          | 3004425              \n",
      " Vehicle_Manoeuvre                | 3004425              \n",
      " Vehicle_Location-Restricted_Lane | 3004425              \n",
      " Junction_Location                | 3004425              \n",
      " Skidding_and_Overturning         | 3004425              \n",
      " Hit_Object_in_Carriageway        | 3004425              \n",
      " Vehicle_Leaving_Carriageway      | 3004425              \n",
      " Hit_Object_off_Carriageway       | 3004425              \n",
      " 1st_Point_of_Impact              | 3004425              \n",
      " Was_Vehicle_Left_Hand_Drive?     | 3004425              \n",
      " Journey_Purpose_of_Driver        | 3004425              \n",
      " Sex_of_Driver                    | 3004425              \n",
      " Age_of_Driver                    | 3004425              \n",
      " Age_Band_of_Driver               | 3004425              \n",
      " Engine_Capacity_(CC)             | 3004425              \n",
      " Propulsion_Code                  | 3004425              \n",
      " Age_of_Vehicle                   | 3004425              \n",
      " Driver_IMD_Decile                | 3004425              \n",
      " Driver_Home_Area_Type            | 3004425              \n",
      "-RECORD 1------------------------------------------------\n",
      " summary                          | mean                 \n",
      " Accident_Index                   | Infinity             \n",
      " Vehicle_Reference                | 1.555463691055693    \n",
      " Vehicle_Type                     | 9.651287683999435    \n",
      " Towing_and_Articulation          | 0.031240586801134992 \n",
      " Vehicle_Manoeuvre                | 12.6872266739892     \n",
      " Vehicle_Location-Restricted_Lane | 0.1327368797690074   \n",
      " Junction_Location                | 2.53255647919319     \n",
      " Skidding_and_Overturning         | 0.2144037544621683   \n",
      " Hit_Object_in_Carriageway        | 0.3048330379357115   \n",
      " Vehicle_Leaving_Carriageway      | 0.3742340048428568   \n",
      " Hit_Object_off_Carriageway       | 0.5724007089542924   \n",
      " 1st_Point_of_Impact              | 1.7652222971117602   \n",
      " Was_Vehicle_Left_Hand_Drive?     | 0.989154996380339    \n",
      " Journey_Purpose_of_Driver        | 8.71436164989973     \n",
      " Sex_of_Driver                    | 1.3993772518868004   \n",
      " Age_of_Driver                    | 34.32805811428143    \n",
      " Age_Band_of_Driver               | 5.849722659077861    \n",
      " Engine_Capacity_(CC)             | 1411.7050577065495   \n",
      " Propulsion_Code                  | 0.7518250580393919   \n",
      " Age_of_Vehicle                   | 4.84051989981444     \n",
      " Driver_IMD_Decile                | 3.559396556745467    \n",
      " Driver_Home_Area_Type            | 0.8822090749477853   \n",
      "-RECORD 2------------------------------------------------\n",
      " summary                          | stddev               \n",
      " Accident_Index                   | NaN                  \n",
      " Vehicle_Reference                | 0.7648907718376968   \n",
      " Vehicle_Type                     | 8.325206699539619    \n",
      " Towing_and_Articulation          | 0.3064269114568217   \n",
      " Vehicle_Manoeuvre                | 6.167848524784551    \n",
      " Vehicle_Location-Restricted_Lane | 0.9877722961431141   \n",
      " Junction_Location                | 3.157294469731963    \n",
      " Skidding_and_Overturning         | 0.715609800261045    \n",
      " Hit_Object_in_Carriageway        | 1.6045327016952542   \n",
      " Vehicle_Leaving_Carriageway      | 1.392001527589224    \n",
      " Hit_Object_off_Carriageway       | 2.103857084282625    \n",
      " 1st_Point_of_Impact              | 1.1558912209870982   \n",
      " Was_Vehicle_Left_Hand_Drive?     | 0.18726318256140928  \n",
      " Journey_Purpose_of_Driver        | 5.994410473235951    \n",
      " Sex_of_Driver                    | 0.5963101885980657   \n",
      " Age_of_Driver                    | 19.43808818148082    \n",
      " Age_Band_of_Driver               | 2.927709627432466    \n",
      " Engine_Capacity_(CC)             | 1692.195449225351    \n",
      " Propulsion_Code                  | 1.1541307275442192   \n",
      " Age_of_Vehicle                   | 5.32918234290951     \n",
      " Driver_IMD_Decile                | 3.734888337493895    \n",
      " Driver_Home_Area_Type            | 1.1145858059462361   \n",
      "-RECORD 3------------------------------------------------\n",
      " summary                          | min                  \n",
      " Accident_Index                   | 200501BS00001        \n",
      " Vehicle_Reference                | 1                    \n",
      " Vehicle_Type                     | -1                   \n",
      " Towing_and_Articulation          | -1                   \n",
      " Vehicle_Manoeuvre                | -1                   \n",
      " Vehicle_Location-Restricted_Lane | -1                   \n",
      " Junction_Location                | -1                   \n",
      " Skidding_and_Overturning         | -1                   \n",
      " Hit_Object_in_Carriageway        | -1                   \n",
      " Vehicle_Leaving_Carriageway      | -1                   \n",
      " Hit_Object_off_Carriageway       | -1                   \n",
      " 1st_Point_of_Impact              | -1                   \n",
      " Was_Vehicle_Left_Hand_Drive?     | -1                   \n",
      " Journey_Purpose_of_Driver        | -1                   \n",
      " Sex_of_Driver                    | -1                   \n",
      " Age_of_Driver                    | -1                   \n",
      " Age_Band_of_Driver               | -1                   \n",
      " Engine_Capacity_(CC)             | -1                   \n",
      " Propulsion_Code                  | -1                   \n",
      " Age_of_Vehicle                   | -1                   \n",
      " Driver_IMD_Decile                | -1                   \n",
      " Driver_Home_Area_Type            | -1                   \n",
      "-RECORD 4------------------------------------------------\n",
      " summary                          | max                  \n",
      " Accident_Index                   | 2014984139614        \n",
      " Vehicle_Reference                | 91                   \n",
      " Vehicle_Type                     | 98                   \n",
      " Towing_and_Articulation          | 5                    \n",
      " Vehicle_Manoeuvre                | 18                   \n",
      " Vehicle_Location-Restricted_Lane | 9                    \n",
      " Junction_Location                | 8                    \n",
      " Skidding_and_Overturning         | 5                    \n",
      " Hit_Object_in_Carriageway        | 12                   \n",
      " Vehicle_Leaving_Carriageway      | 8                    \n",
      " Hit_Object_off_Carriageway       | 11                   \n",
      " 1st_Point_of_Impact              | 4                    \n",
      " Was_Vehicle_Left_Hand_Drive?     | 2                    \n",
      " Journey_Purpose_of_Driver        | 15                   \n",
      " Sex_of_Driver                    | 3                    \n",
      " Age_of_Driver                    | 100                  \n",
      " Age_Band_of_Driver               | 11                   \n",
      " Engine_Capacity_(CC)             | 99999                \n",
      " Propulsion_Code                  | 12                   \n",
      " Age_of_Vehicle                   | 111                  \n",
      " Driver_IMD_Decile                | 10                   \n",
      " Driver_Home_Area_Type            | 3                    \n",
      "\n",
      "\n",
      "Chýbajúce hodnoty v datasetu:\n",
      "\n",
      "-RECORD 0-------------------------------\n",
      " Accident_Index                   | 0   \n",
      " Vehicle_Reference                | 0   \n",
      " Vehicle_Type                     | 0   \n",
      " Towing_and_Articulation          | 0   \n",
      " Vehicle_Manoeuvre                | 0   \n",
      " Vehicle_Location-Restricted_Lane | 0   \n",
      " Junction_Location                | 0   \n",
      " Skidding_and_Overturning         | 0   \n",
      " Hit_Object_in_Carriageway        | 0   \n",
      " Vehicle_Leaving_Carriageway      | 0   \n",
      " Hit_Object_off_Carriageway       | 0   \n",
      " 1st_Point_of_Impact              | 0   \n",
      " Was_Vehicle_Left_Hand_Drive?     | 0   \n",
      " Journey_Purpose_of_Driver        | 0   \n",
      " Sex_of_Driver                    | 0   \n",
      " Age_of_Driver                    | 0   \n",
      " Age_Band_of_Driver               | 0   \n",
      " Engine_Capacity_(CC)             | 0   \n",
      " Propulsion_Code                  | 0   \n",
      " Age_of_Vehicle                   | 0   \n",
      " Driver_IMD_Decile                | 0   \n",
      " Driver_Home_Area_Type            | 0   \n",
      "\n",
      "\n",
      "############################## KONIEC ANALÝZY Vechicles Dataset ##############################\n",
      "\n"
     ]
    }
   ],
   "source": [
    "eda_summary(vehicles, \"Vechicles Dataset\")"
   ]
  },
  {
   "cell_type": "markdown",
   "id": "1175f77b-4996-477f-8cd0-4de1cac65c1c",
   "metadata": {},
   "source": [
    "### Vysporiadanie sa s -1 hodnotami  "
   ]
  },
  {
   "cell_type": "code",
   "execution_count": 53,
   "id": "60408773-15ad-4420-9cea-05b0d9438585",
   "metadata": {},
   "outputs": [],
   "source": [
    "# Fukcia v názve atribútu nahradí '-' za '_'\n",
    "def rename_columns_replace_dash(df):\n",
    "    for col_name in df.columns:\n",
    "        if \"-\" in col_name:\n",
    "            new_col_name = col_name.replace(\"-\", \"_\")\n",
    "            df = df.withColumnRenamed(col_name, new_col_name)\n",
    "    return df\n",
    "\n",
    "accidents = rename_columns_replace_dash(accidents)\n",
    "casualties = rename_columns_replace_dash(casualties)\n",
    "vehicles = rename_columns_replace_dash(vehicles)\n",
    "\n",
    "datasets = {\"Accidents\": accidents, \"Casualties\": casualties, \"Vehicles\": vehicles}"
   ]
  },
  {
   "cell_type": "code",
   "execution_count": 77,
   "id": "66bf309d-b1fb-4287-bdb9-1766325d8918",
   "metadata": {},
   "outputs": [
    {
     "name": "stdout",
     "output_type": "stream",
     "text": [
      "\n",
      "Počet hodnôt = -1 v Accidents:\n",
      "\n",
      "-RECORD 0------------------------------------------\n",
      " Location_Easting_OSGR                       | 0   \n",
      " Location_Northing_OSGR                      | 0   \n",
      " Longitude                                   | 0   \n",
      " Latitude                                    | 0   \n",
      " Police_Force                                | 0   \n",
      " Accident_Severity                           | 0   \n",
      " Number_of_Vehicles                          | 0   \n",
      " Number_of_Casualties                        | 0   \n",
      " Day_of_Week                                 | 0   \n",
      " Local_Authority_(District)                  | 0   \n",
      " 1st_Road_Class                              | 0   \n",
      " 1st_Road_Number                             | 0   \n",
      " Road_Type                                   | 0   \n",
      " Speed_limit                                 | 0   \n",
      " Junction_Detail                             | 0   \n",
      " Junction_Control                            | 0   \n",
      " 2nd_Road_Class                              | 0   \n",
      " 2nd_Road_Number                             | 0   \n",
      " Pedestrian_Crossing_Human_Control           | 0   \n",
      " Pedestrian_Crossing_Physical_Facilities     | 0   \n",
      " Light_Conditions                            | 0   \n",
      " Weather_Conditions                          | 0   \n",
      " Road_Surface_Conditions                     | 0   \n",
      " Special_Conditions_at_Site                  | 0   \n",
      " Carriageway_Hazards                         | 0   \n",
      " Urban_or_Rural_Area                         | 0   \n",
      " Did_Police_Officer_Attend_Scene_of_Accident | 0   \n",
      "\n"
     ]
    }
   ],
   "source": [
    "# Funkcia na zistenie počtu -1 hodnôt\n",
    "def count_negative(df, df_name):\n",
    "    # Získanie zoznamu číselných stĺpcov\n",
    "    numeric_cols = [c.name for c in df.schema.fields if isinstance(c.dataType, NumericType)]\n",
    "    \n",
    "    # Výber len číselných stĺpcov na kontrolu -1\n",
    "    negative_counts = df.select([\n",
    "        count(when(col(c) == -1, c)).alias(c) for c in numeric_cols\n",
    "    ])\n",
    "    \n",
    "    print(f\"\\nPočet hodnôt = -1 v {df_name}:\\n\")\n",
    "    negative_counts.show(vertical=True)\n",
    "\n",
    "\n",
    "# for name, df in datasets.items():\n",
    "    # count_negative(df, name)\n",
    "\n",
    "count_negative(accidents, \"Accidents\")"
   ]
  },
  {
   "cell_type": "code",
   "execution_count": 55,
   "id": "2894d8ae-d1c1-4a34-955e-850987d7b86b",
   "metadata": {},
   "outputs": [],
   "source": [
    "# Funcia na nahradenie -1 hodnôt priemerom\n",
    "def replace_negative(df, columns_to_replace):\n",
    "    # Vypočítanie priemerov pre každý zvolený stĺpec (okrem -1)\n",
    "    mean_values = df.select([\n",
    "        mean(when(col(c) != -1, col(c))).alias(c) for c in columns_to_replace\n",
    "    ]).collect()[0]\n",
    "\n",
    "    # Nahradenie -1 priemerom v každom z týchto stĺpcov\n",
    "    for col_name in columns_to_replace:\n",
    "        avg_value = mean_values[col_name]\n",
    "        if avg_value is not None:\n",
    "            df = df.withColumn(\n",
    "                col_name,\n",
    "                when(col(col_name) == -1, avg_value).otherwise(col(col_name))\n",
    "            )\n",
    "\n",
    "    return df"
   ]
  },
  {
   "cell_type": "code",
   "execution_count": 56,
   "id": "bc1191a5-c5f4-43b6-a507-41396ac0df9a",
   "metadata": {},
   "outputs": [],
   "source": [
    "# Numerické atribúty\n",
    "accidents_numerical = [\"Location_Easting_OSGR\", \"Location_Northing_OSGR\", \"Longitude\", \"Latitude\", \"Number_of_Vehicles\", \"Number_of_Casualties\", \"Speed_limit\",\"2nd_Road_Number\"]\n",
    "vehicles_numerical = [\"Age_of_Driver\", \"Engine_Capacity_(CC)\", \"Age_of_Vehicle\", \"Driver_IMD_Decile\"]\n",
    "casualties_numerical = [\"Age_of_Casualty\"]\n",
    "\n",
    "# Použitie funkcie na nahradenie -1 priemerom vo vybratých (numerických atribútoch)\n",
    "accidents = replace_negative(accidents,accidents_numerical)\n",
    "vehicles = replace_negative(vehicles,vehicles_numerical)\n",
    "casualties = replace_negative(casualties,casualties_numerical)"
   ]
  },
  {
   "cell_type": "markdown",
   "id": "a3d11c8f-2ed5-495e-bc7d-cfc4febb6ae4",
   "metadata": {},
   "source": [
    "Ďalej sa deje nasledovné:  \n",
    "- funkcia 'impute_categorical_with_model' slúži na nahradenie -1 hodnôt v kategorických atribútoch na základe RandomForestClassifier\n",
    "- hodnoty -1 sa vymažú v atribútoch kde je málo -1 hodnôt  \n",
    "- kde je -1 hodnôt veľa, použije sa funkcia 'impute_categorical_with_model'"
   ]
  },
  {
   "cell_type": "code",
   "execution_count": 66,
   "id": "475a8510-32ae-428c-a8e5-1839c2582979",
   "metadata": {},
   "outputs": [],
   "source": [
    "def impute_categorical_with_model(df: DataFrame, target_cols: list, top_k_features: int = 5, log_path: str = \"imputation_feature_importance_log.csv\") -> DataFrame:\n",
    "    all_logs = []\n",
    "\n",
    "    # Získanie všetkých stĺpcov okrem cieľových, ktoré sú numerického typu (int alebo double)\n",
    "    feature_cols = [\n",
    "        col for col, dtype in df.dtypes if dtype in ['int', 'double'] and col not in target_cols\n",
    "    ]\n",
    "\n",
    "    for target_col in target_cols:\n",
    "        print(f\"\\nImputácia pre atribút: {target_col}\")\n",
    "\n",
    "        # Oddelenie známych a neznámych hodnôt\n",
    "        known_df = df.filter(F.col(target_col) != -1)\n",
    "        unknown_df = df.filter(F.col(target_col) == -1)\n",
    "\n",
    "        if unknown_df.count() == 0:\n",
    "            print(\"Žiadne chýbajúce hodnoty.\")\n",
    "            continue\n",
    "\n",
    "        # Všetky atribúty -> assembler\n",
    "        assembler_all = VectorAssembler(inputCols=feature_cols, outputCol=\"features_all\", handleInvalid=\"skip\")\n",
    "        assembled_known = assembler_all.transform(known_df)\n",
    "\n",
    "        # Trénovanie RF modelu na všetkých atribútoch\n",
    "        rf_all = RandomForestClassifier(labelCol=target_col, featuresCol=\"features_all\", numTrees=50, maxDepth=5)\n",
    "        model_all = rf_all.fit(assembled_known)\n",
    "\n",
    "        # Feature importances\n",
    "        importances = model_all.featureImportances\n",
    "        feature_scores = list(zip(feature_cols, importances))\n",
    "        feature_scores_sorted = sorted(feature_scores, key=lambda x: x[1], reverse=True)\n",
    "\n",
    "        # Logovanie do pandas\n",
    "        df_log = pd.DataFrame(feature_scores_sorted, columns=[\"Feature\", \"Importance\"])\n",
    "        df_log[\"Target\"] = target_col\n",
    "        all_logs.append(df_log)\n",
    "\n",
    "        # 5. Vizuálizácia\n",
    "        top_features = df_log.head(top_k_features)\n",
    "        plt.figure(figsize=(8, 4))\n",
    "        plt.barh(top_features[\"Feature\"], top_features[\"Importance\"], color=\"skyblue\")\n",
    "        plt.gca().invert_yaxis()\n",
    "        plt.title(f\"Top {top_k_features} atribútov pre imputáciu: {target_col}\")\n",
    "        plt.xlabel(\"Feature Importance\")\n",
    "        plt.tight_layout()\n",
    "        plt.show()\n",
    "\n",
    "        # Výber top atribútov\n",
    "        selected_features = list(top_features[\"Feature\"])\n",
    "\n",
    "        # Tréning na top atribútoch\n",
    "        assembler = VectorAssembler(inputCols=selected_features, outputCol=\"features\", handleInvalid=\"skip\")\n",
    "        rf = RandomForestClassifier(labelCol=target_col, featuresCol=\"features\", numTrees=50, maxDepth=5)\n",
    "        pipeline = Pipeline(stages=[assembler, rf])\n",
    "        model = pipeline.fit(known_df)\n",
    "\n",
    "        predicted_df = model.transform(unknown_df)\n",
    "        predicted_df = predicted_df.withColumn(target_col, F.col(\"prediction\").cast(\"int\"))\n",
    "\n",
    "        df = known_df.unionByName(predicted_df.select(df.columns))\n",
    "\n",
    "    # Uloženie logu\n",
    "    if all_logs:\n",
    "        log_df = pd.concat(all_logs, ignore_index=True)\n",
    "        log_df.to_csv(log_path, index=False)\n",
    "        print(f\"\\nLog uložený do: {os.path.abspath(log_path)}\")\n",
    "\n",
    "    return df"
   ]
  },
  {
   "cell_type": "code",
   "execution_count": 58,
   "id": "21e3a254-c367-4cad-8c98-b634604f5500",
   "metadata": {},
   "outputs": [],
   "source": [
    "accidents_columns_to_check = [\"1st_Road_Number\",\n",
    "                              \"Junction_Detail\",\n",
    "                              \"Pedestrian_Crossing_Human_Control\",\n",
    "                              \"Pedestrian_Crossing_Physical_Facilities\",\n",
    "                              \"Weather_Conditions\",\n",
    "                              \"Road_Surface_Conditions\",\n",
    "                              \"Special_Conditions_at_Site\",\n",
    "                              \"Carriageway_Hazards\",\n",
    "                              \"Did_Police_Officer_Attend_Scene_of_Accident\"]\n",
    "\n",
    "for col_name in accidents_columns_to_check:\n",
    "    accidents = accidents.withColumn(col_name, col(col_name).cast(IntegerType()))\n",
    "\n",
    "accidents_condition = reduce(lambda a, b: a & b, [col(c) != -1 for c in accidents_columns_to_check])\n",
    "accidents = accidents.filter(accidents_condition)"
   ]
  },
  {
   "cell_type": "code",
   "execution_count": 59,
   "id": "0f99c9f3-91fc-4ef1-9187-93a7275c1a6b",
   "metadata": {},
   "outputs": [
    {
     "name": "stdout",
     "output_type": "stream",
     "text": [
      "\n",
      "Počet hodnôt = -1 v Accidents Dataset:\n",
      "\n",
      "-RECORD 0---------------------------------------------\n",
      " Location_Easting_OSGR                       | 0      \n",
      " Location_Northing_OSGR                      | 0      \n",
      " Longitude                                   | 0      \n",
      " Latitude                                    | 0      \n",
      " Police_Force                                | 0      \n",
      " Accident_Severity                           | 0      \n",
      " Number_of_Vehicles                          | 0      \n",
      " Number_of_Casualties                        | 0      \n",
      " Day_of_Week                                 | 0      \n",
      " Local_Authority_(District)                  | 0      \n",
      " 1st_Road_Class                              | 0      \n",
      " 1st_Road_Number                             | 0      \n",
      " Road_Type                                   | 0      \n",
      " Speed_limit                                 | 0      \n",
      " Junction_Detail                             | 0      \n",
      " Junction_Control                            | 584341 \n",
      " 2nd_Road_Class                              | 675143 \n",
      " 2nd_Road_Number                             | 0      \n",
      " Pedestrian_Crossing_Human_Control           | 0      \n",
      " Pedestrian_Crossing_Physical_Facilities     | 0      \n",
      " Light_Conditions                            | 0      \n",
      " Weather_Conditions                          | 0      \n",
      " Road_Surface_Conditions                     | 0      \n",
      " Special_Conditions_at_Site                  | 0      \n",
      " Carriageway_Hazards                         | 0      \n",
      " Urban_or_Rural_Area                         | 0      \n",
      " Did_Police_Officer_Attend_Scene_of_Accident | 0      \n",
      "\n"
     ]
    }
   ],
   "source": [
    "count_negative(accidents, \"Accidents Dataset\")"
   ]
  },
  {
   "cell_type": "code",
   "execution_count": 67,
   "id": "c8e26ee8-2bbe-4945-a730-27d185a91e3a",
   "metadata": {},
   "outputs": [
    {
     "name": "stdout",
     "output_type": "stream",
     "text": [
      "\n",
      "Imputácia pre atribút: Junction_Control\n"
     ]
    },
    {
     "data": {
      "image/png": "[encoded data removed]",
      "text/plain": [
       "<Figure size 800x400 with 1 Axes>"
      ]
     },
     "metadata": {},
     "output_type": "display_data"
    },
    {
     "name": "stdout",
     "output_type": "stream",
     "text": [
      "\n",
      "Imputácia pre atribút: 2nd_Road_Class\n"
     ]
    },
    {
     "data": {
      "image/png": "[encoded data removed]",
      "text/plain": [
       "<Figure size 800x400 with 1 Axes>"
      ]
     },
     "metadata": {},
     "output_type": "display_data"
    },
    {
     "name": "stdout",
     "output_type": "stream",
     "text": [
      "\n",
      "Log uložený do: /home/jovyan/work/TSVD_ZADANIE/imputation_feature_importance_log.csv\n"
     ]
    }
   ],
   "source": [
    "accidents = impute_categorical_with_model(\n",
    "    accidents,\n",
    "    [\"Junction_Control\", \"2nd_Road_Class\"],  # cieľové atribúty na imputáciu\n",
    "    top_k_features=5  # Počet najlepších atribútov na trénovanie\n",
    ")"
   ]
  },
  {
   "cell_type": "code",
   "execution_count": 68,
   "id": "09a20d60-fa85-4b0f-a7e2-38feb0f3d94d",
   "metadata": {},
   "outputs": [
    {
     "name": "stdout",
     "output_type": "stream",
     "text": [
      "\n",
      "Počet hodnôt = -1 v Accidents:\n",
      "\n",
      "-RECORD 0------------------------------------------\n",
      " Location_Easting_OSGR                       | 0   \n",
      " Location_Northing_OSGR                      | 0   \n",
      " Longitude                                   | 0   \n",
      " Latitude                                    | 0   \n",
      " Police_Force                                | 0   \n",
      " Accident_Severity                           | 0   \n",
      " Number_of_Vehicles                          | 0   \n",
      " Number_of_Casualties                        | 0   \n",
      " Day_of_Week                                 | 0   \n",
      " Local_Authority_(District)                  | 0   \n",
      " 1st_Road_Class                              | 0   \n",
      " 1st_Road_Number                             | 0   \n",
      " Road_Type                                   | 0   \n",
      " Speed_limit                                 | 0   \n",
      " Junction_Detail                             | 0   \n",
      " Junction_Control                            | 0   \n",
      " 2nd_Road_Class                              | 0   \n",
      " 2nd_Road_Number                             | 0   \n",
      " Pedestrian_Crossing_Human_Control           | 0   \n",
      " Pedestrian_Crossing_Physical_Facilities     | 0   \n",
      " Light_Conditions                            | 0   \n",
      " Weather_Conditions                          | 0   \n",
      " Road_Surface_Conditions                     | 0   \n",
      " Special_Conditions_at_Site                  | 0   \n",
      " Carriageway_Hazards                         | 0   \n",
      " Urban_or_Rural_Area                         | 0   \n",
      " Did_Police_Officer_Attend_Scene_of_Accident | 0   \n",
      "\n"
     ]
    }
   ],
   "source": [
    "count_negative(accidents, \"Accidents\")"
   ]
  },
  {
   "cell_type": "code",
   "execution_count": 69,
   "id": "94b47d5d-1ac2-4a42-a1f9-e22cc5525432",
   "metadata": {},
   "outputs": [
    {
     "name": "stdout",
     "output_type": "stream",
     "text": [
      "\n",
      "Počet hodnôt = -1 v Casualties:\n",
      "\n",
      "-RECORD 0-------------------------------------\n",
      " Vehicle_Reference                  | 0       \n",
      " Casualty_Reference                 | 0       \n",
      " Casualty_Class                     | 0       \n",
      " Sex_of_Casualty                    | 630     \n",
      " Age_of_Casualty                    | 0       \n",
      " Age_Band_of_Casualty               | 45920   \n",
      " Casualty_Severity                  | 0       \n",
      " Pedestrian_Location                | 12      \n",
      " Pedestrian_Movement                | 15      \n",
      " Car_Passenger                      | 404     \n",
      " Bus_or_Coach_Passenger             | 38      \n",
      " Pedestrian_Road_Maintenance_Worker | 1439022 \n",
      " Casualty_Type                      | 0       \n",
      " Casualty_Home_Area_Type            | 322715  \n",
      "\n"
     ]
    }
   ],
   "source": [
    "count_negative(casualties, \"Casualties\")"
   ]
  },
  {
   "cell_type": "code",
   "execution_count": 71,
   "id": "78d9eb2e-33b2-45f6-b0fa-76bceb5c0fe3",
   "metadata": {},
   "outputs": [],
   "source": [
    "casualties_columns_to_check = [\"Sex_of_Casualty\",\n",
    "                               \"Pedestrian_Location\",\n",
    "                               \"Pedestrian_Movement\",\n",
    "                               \"Car_Passenger\",\n",
    "                               \"Bus_or_Coach_Passenger\"]\n",
    "\n",
    "for col_name in casualties_columns_to_check:\n",
    "    casualties = casualties.withColumn(col_name, col(col_name).cast(IntegerType()))\n",
    "\n",
    "casualties_condition = reduce(lambda a, b: a & b, [col(c) != -1 for c in casualties_columns_to_check])\n",
    "casualties = casualties.filter(casualties_condition)"
   ]
  },
  {
   "cell_type": "code",
   "execution_count": 73,
   "id": "87c6dea9-d79a-469e-ae53-4759df7a5507",
   "metadata": {},
   "outputs": [
    {
     "name": "stdout",
     "output_type": "stream",
     "text": [
      "\n",
      "Imputácia pre atribút: Age_Band_of_Casualty\n"
     ]
    },
    {
     "data": {
      "image/png": "[encoded data removed]",
      "text/plain": [
       "<Figure size 800x400 with 1 Axes>"
      ]
     },
     "metadata": {},
     "output_type": "display_data"
    },
    {
     "name": "stdout",
     "output_type": "stream",
     "text": [
      "\n",
      "Imputácia pre atribút: Pedestrian_Road_Maintenance_Worker\n"
     ]
    },
    {
     "data": {
      "image/png": "[encoded data removed]",
      "text/plain": [
       "<Figure size 800x400 with 1 Axes>"
      ]
     },
     "metadata": {},
     "output_type": "display_data"
    },
    {
     "name": "stdout",
     "output_type": "stream",
     "text": [
      "\n",
      "Imputácia pre atribút: Casualty_Home_Area_Type\n"
     ]
    },
    {
     "data": {
      "image/png": "[encoded data removed]",
      "text/plain": [
       "<Figure size 800x400 with 1 Axes>"
      ]
     },
     "metadata": {},
     "output_type": "display_data"
    },
    {
     "name": "stdout",
     "output_type": "stream",
     "text": [
      "\n",
      "Log uložený do: /home/jovyan/work/TSVD_ZADANIE/imputation_feature_importance_log.csv\n"
     ]
    }
   ],
   "source": [
    "casualties = impute_categorical_with_model(\n",
    "    casualties,\n",
    "    [\"Age_Band_of_Casualty\", \"Pedestrian_Road_Maintenance_Worker\", \"Casualty_Home_Area_Type\"],  # cieľové atribúty na imputáciu\n",
    "    top_k_features=5  # Počet najlepších atribútov na trénovanie\n",
    ")"
   ]
  },
  {
   "cell_type": "code",
   "execution_count": 74,
   "id": "6a3ed834-fc23-4f8d-8491-ce2790751a5e",
   "metadata": {},
   "outputs": [
    {
     "name": "stdout",
     "output_type": "stream",
     "text": [
      "\n",
      "Počet hodnôt = -1 v Casualties:\n",
      "\n",
      "-RECORD 0---------------------------------\n",
      " Vehicle_Reference                  | 0   \n",
      " Casualty_Reference                 | 0   \n",
      " Casualty_Class                     | 0   \n",
      " Sex_of_Casualty                    | 0   \n",
      " Age_of_Casualty                    | 0   \n",
      " Age_Band_of_Casualty               | 0   \n",
      " Casualty_Severity                  | 0   \n",
      " Pedestrian_Location                | 0   \n",
      " Pedestrian_Movement                | 0   \n",
      " Car_Passenger                      | 0   \n",
      " Bus_or_Coach_Passenger             | 0   \n",
      " Pedestrian_Road_Maintenance_Worker | 0   \n",
      " Casualty_Type                      | 0   \n",
      " Casualty_Home_Area_Type            | 0   \n",
      "\n"
     ]
    }
   ],
   "source": [
    "count_negative(casualties, \"Casualties\")"
   ]
  },
  {
   "cell_type": "code",
   "execution_count": 75,
   "id": "6a690c50-ad7d-4a40-acaf-a3d0c736944b",
   "metadata": {},
   "outputs": [
    {
     "name": "stdout",
     "output_type": "stream",
     "text": [
      "\n",
      "Počet hodnôt = -1 v Vehicles:\n",
      "\n",
      "-RECORD 0----------------------------------\n",
      " Vehicle_Reference                | 0      \n",
      " Vehicle_Type                     | 473    \n",
      " Towing_and_Articulation          | 184    \n",
      " Vehicle_Manoeuvre                | 1080   \n",
      " Vehicle_Location_Restricted_Lane | 74     \n",
      " Junction_Location                | 9876   \n",
      " Skidding_and_Overturning         | 132    \n",
      " Hit_Object_in_Carriageway        | 87     \n",
      " Vehicle_Leaving_Carriageway      | 127    \n",
      " Hit_Object_off_Carriageway       | 54     \n",
      " 1st_Point_of_Impact              | 565    \n",
      " Was_Vehicle_Left_Hand_Drive?     | 23049  \n",
      " Journey_Purpose_of_Driver        | 44921  \n",
      " Sex_of_Driver                    | 33     \n",
      " Age_of_Driver                    | 0      \n",
      " Age_Band_of_Driver               | 330608 \n",
      " Engine_Capacity_(CC)             | 0      \n",
      " Propulsion_Code                  | 770004 \n",
      " Age_of_Vehicle                   | 0      \n",
      " Driver_IMD_Decile                | 0      \n",
      " Driver_Home_Area_Type            | 588611 \n",
      "\n"
     ]
    }
   ],
   "source": [
    "count_negative(vehicles, \"Vehicles\")"
   ]
  },
  {
   "cell_type": "code",
   "execution_count": 80,
   "id": "ff0b22ec-c63b-443d-b639-3856ee5434ad",
   "metadata": {},
   "outputs": [],
   "source": [
    "vehicles_columns_to_check = [\"Vehicle_Type\",\n",
    "                             \"Towing_and_Articulation\",\n",
    "                             \"Vehicle_Manoeuvre\",\n",
    "                             \"Vehicle_Location_Restricted_Lane\",\n",
    "                             \"Skidding_and_Overturning\",\n",
    "                             \"Hit_Object_in_Carriageway\",\n",
    "                             \"Vehicle_Leaving_Carriageway\",\n",
    "                             \"Hit_Object_off_Carriageway\",\n",
    "                             \"1st_Point_of_Impact\",\n",
    "                             \"Sex_of_Driver\",]\n",
    "\n",
    "for col_name in vehicles_columns_to_check:\n",
    "    vehicles = vehicles.withColumn(col_name, col(col_name).cast(IntegerType()))\n",
    "\n",
    "vehicles_condition = reduce(lambda a, b: a & b, [col(c) != -1 for c in vehicles_columns_to_check])\n",
    "vehicles = vehicles.filter(vehicles_condition)"
   ]
  },
  {
   "cell_type": "code",
   "execution_count": 81,
   "id": "d888400d-405e-4198-8754-09fd06a713fd",
   "metadata": {},
   "outputs": [
    {
     "name": "stdout",
     "output_type": "stream",
     "text": [
      "\n",
      "Imputácia pre atribút: Junction_Location\n"
     ]
    },
    {
     "data": {
      "image/png": "[encoded data removed]",
      "text/plain": [
       "<Figure size 800x400 with 1 Axes>"
      ]
     },
     "metadata": {},
     "output_type": "display_data"
    },
    {
     "name": "stdout",
     "output_type": "stream",
     "text": [
      "\n",
      "Imputácia pre atribút: Was_Vehicle_Left_Hand_Drive?\n"
     ]
    },
    {
     "data": {
      "image/png": "[encoded data removed]",
      "text/plain": [
       "<Figure size 800x400 with 1 Axes>"
      ]
     },
     "metadata": {},
     "output_type": "display_data"
    },
    {
     "name": "stdout",
     "output_type": "stream",
     "text": [
      "\n",
      "Imputácia pre atribút: Journey_Purpose_of_Driver\n"
     ]
    },
    {
     "data": {
      "image/png": "[encoded data removed]",
      "text/plain": [
       "<Figure size 800x400 with 1 Axes>"
      ]
     },
     "metadata": {},
     "output_type": "display_data"
    },
    {
     "name": "stdout",
     "output_type": "stream",
     "text": [
      "\n",
      "Imputácia pre atribút: Age_Band_of_Driver\n"
     ]
    },
    {
     "data": {
      "image/png": "[encoded data removed]",
      "text/plain": [
       "<Figure size 800x400 with 1 Axes>"
      ]
     },
     "metadata": {},
     "output_type": "display_data"
    },
    {
     "name": "stdout",
     "output_type": "stream",
     "text": [
      "\n",
      "Imputácia pre atribút: Propulsion_Code\n"
     ]
    },
    {
     "data": {
      "image/png": "[encoded data removed]",
      "text/plain": [
       "<Figure size 800x400 with 1 Axes>"
      ]
     },
     "metadata": {},
     "output_type": "display_data"
    },
    {
     "name": "stdout",
     "output_type": "stream",
     "text": [
      "\n",
      "Imputácia pre atribút: Driver_Home_Area_Type\n"
     ]
    },
    {
     "data": {
      "image/png": "[encoded data removed]",
      "text/plain": [
       "<Figure size 800x400 with 1 Axes>"
      ]
     },
     "metadata": {},
     "output_type": "display_data"
    },
    {
     "name": "stdout",
     "output_type": "stream",
     "text": [
      "\n",
      "Log uložený do: /home/jovyan/work/TSVD_ZADANIE/imputation_feature_importance_log.csv\n"
     ]
    }
   ],
   "source": [
    "vehicles = impute_categorical_with_model(\n",
    "    vehicles,\n",
    "    [\"Junction_Location\", \"Was_Vehicle_Left_Hand_Drive?\", \"Journey_Purpose_of_Driver\",\"Age_Band_of_Driver\",\"Propulsion_Code\",\"Driver_Home_Area_Type\"],  # cieľové atribúty na imputáciu\n",
    "    top_k_features=5  # Počet najlepších atribútov na trénovanie\n",
    ")"
   ]
  },
  {
   "cell_type": "markdown",
   "id": "b25d2f61-bd02-4c42-95a9-05b88a3c41cf",
   "metadata": {},
   "source": [
    "Uloženie datasetov očistených  -1 hodnoty"
   ]
  },
  {
   "cell_type": "code",
   "execution_count": 83,
   "id": "1073b97f-8e2a-4592-bf04-e96180b10404",
   "metadata": {},
   "outputs": [],
   "source": [
    "accidents.coalesce(1).write.option(\"header\", True).mode(\"overwrite\").csv(\"DATA/accidents_cleaned.csv\")\n",
    "casualties.coalesce(1).write.option(\"header\", True).mode(\"overwrite\").csv(\"DATA/casualties_cleaned.csv\")\n",
    "vehicles.coalesce(1).write.option(\"header\", True).mode(\"overwrite\").csv(\"DATA/vehicles_cleaned.csv\")"
   ]
  },
  {
   "cell_type": "markdown",
   "id": "8d0e7c65-e9f3-4d5b-8afa-35bb40e23305",
   "metadata": {},
   "source": [
    "Načítanie dát"
   ]
  },
  {
   "cell_type": "code",
   "execution_count": 86,
   "id": "a9c59cef-fe89-42bb-8f9c-8eccb44daeb7",
   "metadata": {},
   "outputs": [],
   "source": [
    "accidents_cleaned = spark.read.csv(\"DATA/accidents_cleaned.csv/part-00000-f6e5e669-b78c-4237-aad1-504069a21772-c000.csv\",header=True,inferSchema=True)\n",
    "casualties_cleaned = spark.read.csv(\"DATA/casualties_cleaned.csv/part-00000-90efc901-58ae-4ba6-9fc9-59580029847b-c000.csv\",header=True,inferSchema=True)\n",
    "vehicles_cleaned = spark.read.csv(\"DATA/vehicles_cleaned.csv/part-00000-a88fe97c-bdab-4467-9ef4-ca8fdd45456b-c000.csv\",header=True,inferSchema=True)"
   ]
  },
  {
   "cell_type": "markdown",
   "id": "aa870546-01e9-4704-bc62-3b06ac40e5df",
   "metadata": {},
   "source": [
    "### Sú nejaké atribúty medzi datasetmi zhodné?"
   ]
  },
  {
   "cell_type": "code",
   "execution_count": 63,
   "id": "eeb4c8f6-10d3-44da-95d5-d94d6f595395",
   "metadata": {},
   "outputs": [
    {
     "name": "stdout",
     "output_type": "stream",
     "text": [
      "Spoločné iba pre vehicles a casualties: {'Vehicle_Reference'}\n",
      "Spoločné iba pre vehicles a accidents: set()\n",
      "Spoločné iba pre casualties a accidents: set()\n"
     ]
    }
   ],
   "source": [
    "# Zistenie názvov atribútov\n",
    "columns_accidents = set(accidents.columns)\n",
    "columns_vehicles = set(vehicles.columns)\n",
    "columns_casualties = set(casualties.columns)\n",
    "\n",
    "# Zistenie, ktoré atribúty sú spoločné medzi dvoma datasetmi\n",
    "common_vehicles_casualties = columns_vehicles & columns_casualties - columns_accidents\n",
    "common_vehicles_accidents = columns_vehicles & columns_accidents - columns_casualties\n",
    "common_casualties_accidnets = columns_casualties & columns_accidents - columns_vehicles\n",
    "\n",
    "print(\"Spoločné iba pre vehicles a casualties:\", common_vehicles_casualties)\n",
    "print(\"Spoločné iba pre vehicles a accidents:\", common_vehicles_accidents)\n",
    "print(\"Spoločné iba pre casualties a accidents:\", common_casualties_accidnets)"
   ]
  },
  {
   "cell_type": "markdown",
   "id": "52c343e1-e1eb-4a21-bb71-9a0abb375bfd",
   "metadata": {},
   "source": [
    "### Zhodný atribút 'Vehicle_Reference' v datasetoch 'vehicles' a 'casualties'"
   ]
  },
  {
   "cell_type": "code",
   "execution_count": 26,
   "id": "9857685a-abd6-49c9-b1fc-7286704e2256",
   "metadata": {},
   "outputs": [],
   "source": [
    "# Zobrazenie ako často sa vyskytuje n konkrétnych hodnôt v datasete vehicles\n",
    "# vehicles.groupBy(\"Vehicle_Reference\").count().show(vertical=True,n=5)"
   ]
  },
  {
   "cell_type": "code",
   "execution_count": 27,
   "id": "d4a8c271-4822-464c-a024-4c88eb20ca5c",
   "metadata": {},
   "outputs": [],
   "source": [
    "# Zobrazenie ako často sa vyskytuje n konkrétnych hodnôt v datasete casualties\n",
    "# casualties.groupBy(\"Vehicle_Reference\").count().show(vertical=True,n=5)"
   ]
  },
  {
   "cell_type": "code",
   "execution_count": 64,
   "id": "38919183-e846-41bb-9443-2188577db77c",
   "metadata": {},
   "outputs": [
    {
     "name": "stdout",
     "output_type": "stream",
     "text": [
      "Je iba vo vehicles:\n",
      "-RECORD 0----------------\n",
      " Vehicle_Reference | 35  \n",
      "\n",
      "Je iba v casualties:\n",
      "(0 rows)\n",
      "\n"
     ]
    }
   ],
   "source": [
    "unique_vehicles = vehicles.select(\"Vehicle_Reference\").subtract(casualties.select(\"Vehicle_Reference\"))\n",
    "unique_casualties = casualties.select(\"Vehicle_Reference\").subtract(vehicles.select(\"Vehicle_Reference\"))\n",
    "\n",
    "print(\"Je iba vo vehicles:\")\n",
    "unique_vehicles.show(vertical=True)\n",
    "\n",
    "print(\"Je iba v casualties:\")\n",
    "unique_casualties.show(vertical=True)"
   ]
  },
  {
   "cell_type": "code",
   "execution_count": 65,
   "id": "1e08a575-a44f-4a16-8c8d-bbce9ec1969f",
   "metadata": {},
   "outputs": [
    {
     "name": "stdout",
     "output_type": "stream",
     "text": [
      "True\n"
     ]
    }
   ],
   "source": [
    "# Je niečo v casualties čo by vo vehicles nebolo (pre atribút Vehicle_Reference)?\n",
    "# Ak áno, tak výsledok bude False, ak nie je, tak True a teda casualties.Vehicle_Reference je podmnožina vehicles.Vehicle_Reference\n",
    "print(casualties.select(\"Vehicle_Reference\").subtract(vehicles.select(\"Vehicle_Reference\")).count() == 0)"
   ]
  },
  {
   "cell_type": "code",
   "execution_count": 66,
   "id": "bd92ebb0-2c34-432e-b80d-8c6325652f05",
   "metadata": {},
   "outputs": [],
   "source": [
    "# Záver: Vehicle_Reference vo vehicles obsahuje všetky možné hodnoty Vehicle_Reference z casualties\n",
    "# Riešenie: Keďže vo vehicles existuje iba jedna hodnota \"navyše\", odstránime ju\n",
    "vehicles = vehicles.filter(vehicles.Vehicle_Reference != 35)"
   ]
  },
  {
   "cell_type": "code",
   "execution_count": 67,
   "id": "1147bf3c-c3f0-4eba-8e52-19107608bd8e",
   "metadata": {},
   "outputs": [
    {
     "name": "stdout",
     "output_type": "stream",
     "text": [
      "Je iba vo vehicles:\n",
      "(0 rows)\n",
      "\n",
      "Je iba v casualties:\n",
      "(0 rows)\n",
      "\n"
     ]
    }
   ],
   "source": [
    "# Overenie Vehicle_Reference\n",
    "unique_vehicles = vehicles.select(\"Vehicle_Reference\").subtract(casualties.select(\"Vehicle_Reference\"))\n",
    "unique_casualties = casualties.select(\"Vehicle_Reference\").subtract(vehicles.select(\"Vehicle_Reference\"))\n",
    "\n",
    "print(\"Je iba vo vehicles:\")\n",
    "unique_vehicles.show(vertical=True)\n",
    "\n",
    "print(\"Je iba v casualties:\")\n",
    "unique_casualties.show(vertical=True)"
   ]
  },
  {
   "cell_type": "code",
   "execution_count": 68,
   "id": "1c0656c8-44cb-4f35-bd3e-723c310e09b2",
   "metadata": {},
   "outputs": [
    {
     "name": "stdout",
     "output_type": "stream",
     "text": [
      "-RECORD 0--------------------------\n",
      " Accident_Index    | 200501BS00003 \n",
      " Vehicle_Reference | 1             \n",
      " Vehicle_Reference | 2             \n",
      "-RECORD 1--------------------------\n",
      " Accident_Index    | 200501BS00006 \n",
      " Vehicle_Reference | 1             \n",
      " Vehicle_Reference | 2             \n",
      "-RECORD 2--------------------------\n",
      " Accident_Index    | 200501BS00007 \n",
      " Vehicle_Reference | 2             \n",
      " Vehicle_Reference | 1             \n",
      "-RECORD 3--------------------------\n",
      " Accident_Index    | 200501BS00010 \n",
      " Vehicle_Reference | 1             \n",
      " Vehicle_Reference | 2             \n",
      "-RECORD 4--------------------------\n",
      " Accident_Index    | 200501BS00010 \n",
      " Vehicle_Reference | 2             \n",
      " Vehicle_Reference | 1             \n",
      "-RECORD 5--------------------------\n",
      " Accident_Index    | 200501BS00011 \n",
      " Vehicle_Reference | 2             \n",
      " Vehicle_Reference | 1             \n",
      "-RECORD 6--------------------------\n",
      " Accident_Index    | 200501BS00011 \n",
      " Vehicle_Reference | 2             \n",
      " Vehicle_Reference | 1             \n",
      "-RECORD 7--------------------------\n",
      " Accident_Index    | 200501BS00011 \n",
      " Vehicle_Reference | 2             \n",
      " Vehicle_Reference | 1             \n",
      "-RECORD 8--------------------------\n",
      " Accident_Index    | 200501BS00011 \n",
      " Vehicle_Reference | 2             \n",
      " Vehicle_Reference | 1             \n",
      "-RECORD 9--------------------------\n",
      " Accident_Index    | 200501BS00011 \n",
      " Vehicle_Reference | 2             \n",
      " Vehicle_Reference | 1             \n",
      "only showing top 10 rows\n",
      "\n"
     ]
    }
   ],
   "source": [
    "# Použitie aliasov pre oba datasety\n",
    "vehicles_alias = vehicles.alias(\"vehicles\")\n",
    "casualties_alias = casualties.alias(\"casualties\")\n",
    "\n",
    "# Zlúčenie oboch datasetov s aliasami\n",
    "comparison_df = vehicles_alias.join(casualties_alias, on=\"Accident_Index\", how=\"left\")\n",
    "\n",
    "# Pridanie nového stĺpca pre porovnanie Vehicle_Reference medzi datasetmi\n",
    "comparison_df = comparison_df.withColumn(\n",
    "    \"Vehicle_Reference_match\",\n",
    "    (F.col(\"vehicles.Vehicle_Reference\") == F.col(\"casualties.Vehicle_Reference\"))\n",
    ")\n",
    "\n",
    "# Zobraziť riadky, kde hodnoty nezhodujú\n",
    "mismatched_df = comparison_df.filter(F.col(\"Vehicle_Reference_match\") == False)\n",
    "\n",
    "# Vypísať riadky s rozdielnymi hodnotami\n",
    "mismatched_df.select(\"Accident_Index\", \"vehicles.Vehicle_Reference\", \"casualties.Vehicle_Reference\").show(vertical=True,n=10)"
   ]
  },
  {
   "cell_type": "code",
   "execution_count": 69,
   "id": "c178e415-50b2-4f79-aceb-a87c4b61cb64",
   "metadata": {},
   "outputs": [
    {
     "name": "stdout",
     "output_type": "stream",
     "text": [
      "Počet rozdielnych záznamov: 2070803\n",
      "Počet záznamov vo vehicles: 3004424\n",
      "Počet záznamov v casualties: 2216720\n"
     ]
    }
   ],
   "source": [
    "print(f\"Počet rozdielnych záznamov: {mismatched_df.count()}\\n\\\n",
    "Počet záznamov vo vehicles: {vehicles.count()}\\n\\\n",
    "Počet záznamov v casualties: {casualties.count()}\")"
   ]
  },
  {
   "cell_type": "code",
   "execution_count": 70,
   "id": "a34d507b-b5f6-4862-971b-641dec60f8c4",
   "metadata": {},
   "outputs": [],
   "source": [
    "# Treba sa rozodnúť, že z ktorého datasetu vyhodíme atribút Vehicle_Reference\n",
    "# casualties = casualties.drop(\"Vehicle_Reference\")\n",
    "vehicles = vehicles.drop(\"Vehicle_Reference\")"
   ]
  },
  {
   "cell_type": "markdown",
   "id": "599fc979-d5af-41bc-8f81-17a511639182",
   "metadata": {},
   "source": [
    "### Spojenie datasetov"
   ]
  },
  {
   "cell_type": "code",
   "execution_count": 71,
   "id": "9fe3f054-b91a-465a-8519-ca312a038db8",
   "metadata": {},
   "outputs": [
    {
     "name": "stdout",
     "output_type": "stream",
     "text": [
      "Počet atribútov v Accidents: 32\n",
      "Počet atribútov v Casualties: 15\n",
      "Počet atribútov v Vehicles: 21\n"
     ]
    }
   ],
   "source": [
    "datasets = {\"Accidents\": accidents, \"Casualties\": casualties, \"Vehicles\": vehicles}\n",
    "\n",
    "for name, df in datasets.items():\n",
    "    print(f\"Počet atribútov v {name}: {len(df.columns)}\")"
   ]
  },
  {
   "cell_type": "code",
   "execution_count": 72,
   "id": "d5a90b7b-bbc2-4ad3-9bc3-cf4fbaccf83a",
   "metadata": {},
   "outputs": [
    {
     "name": "stdout",
     "output_type": "stream",
     "text": [
      "Počet atribútov v zlúčenom DataFrame: 66\n"
     ]
    }
   ],
   "source": [
    "merged_df = accidents.join(casualties, on=\"Accident_Index\", how=\"left\") \\\n",
    "                     .join(vehicles, on=\"Accident_Index\", how=\"left\")\n",
    "\n",
    "print(f\"Počet atribútov v zlúčenom DataFrame: {len(merged_df.columns)}\")"
   ]
  },
  {
   "cell_type": "code",
   "execution_count": 73,
   "id": "a6d627c2-3f89-42c5-857b-d69b4c703295",
   "metadata": {},
   "outputs": [],
   "source": [
    "# 32 + 15 + 22 = 69 => Záleží odkiaľ vyhodíme Vehicle_Reference\n",
    "# 69 - 67 = tri datasety -> tri kľúče (atribút Accident_Index) a po spojení ostal len ako jeden atribút\n",
    "# 67- 1 (Vehicle_reference z casualties)"
   ]
  },
  {
   "cell_type": "markdown",
   "id": "84c880be-925e-4c24-8bb5-e96954b130cb",
   "metadata": {},
   "source": [
    "### Kde všade (a koľko) sú null hodnoty po odstránení Vehicle_Reference a spojení datasetov?"
   ]
  },
  {
   "cell_type": "code",
   "execution_count": 74,
   "id": "e60c6696-873f-4827-b550-c11fbcc75b82",
   "metadata": {},
   "outputs": [
    {
     "name": "stdout",
     "output_type": "stream",
     "text": [
      "-RECORD 0---------------------------------------------\n",
      " Accident_Index                              | 0      \n",
      " Location_Easting_OSGR                       | 256    \n",
      " Location_Northing_OSGR                      | 256    \n",
      " Longitude                                   | 256    \n",
      " Latitude                                    | 256    \n",
      " Police_Force                                | 0      \n",
      " Accident_Severity                           | 0      \n",
      " Number_of_Vehicles                          | 0      \n",
      " Number_of_Casualties                        | 0      \n",
      " Date                                        | 0      \n",
      " Day_of_Week                                 | 0      \n",
      " Time                                        | 264    \n",
      " Local_Authority_(District)                  | 0      \n",
      " Local_Authority_(Highway)                   | 0      \n",
      " 1st_Road_Class                              | 0      \n",
      " 1st_Road_Number                             | 0      \n",
      " Road_Type                                   | 0      \n",
      " Speed_limit                                 | 0      \n",
      " Junction_Detail                             | 0      \n",
      " Junction_Control                            | 0      \n",
      " 2nd_Road_Class                              | 0      \n",
      " 2nd_Road_Number                             | 0      \n",
      " Pedestrian_Crossing-Human_Control           | 0      \n",
      " Pedestrian_Crossing-Physical_Facilities     | 0      \n",
      " Light_Conditions                            | 0      \n",
      " Weather_Conditions                          | 0      \n",
      " Road_Surface_Conditions                     | 0      \n",
      " Special_Conditions_at_Site                  | 0      \n",
      " Carriageway_Hazards                         | 0      \n",
      " Urban_or_Rural_Area                         | 0      \n",
      " Did_Police_Officer_Attend_Scene_of_Accident | 0      \n",
      " LSOA_of_Accident_Location                   | 282711 \n",
      " Vehicle_Reference                           | 0      \n",
      " Casualty_Reference                          | 0      \n",
      " Casualty_Class                              | 0      \n",
      " Sex_of_Casualty                             | 0      \n",
      " Age_of_Casualty                             | 0      \n",
      " Age_Band_of_Casualty                        | 0      \n",
      " Casualty_Severity                           | 0      \n",
      " Pedestrian_Location                         | 0      \n",
      " Pedestrian_Movement                         | 0      \n",
      " Car_Passenger                               | 0      \n",
      " Bus_or_Coach_Passenger                      | 0      \n",
      " Pedestrian_Road_Maintenance_Worker          | 0      \n",
      " Casualty_Type                               | 0      \n",
      " Casualty_Home_Area_Type                     | 0      \n",
      " Vehicle_Type                                | 0      \n",
      " Towing_and_Articulation                     | 0      \n",
      " Vehicle_Manoeuvre                           | 0      \n",
      " Vehicle_Location-Restricted_Lane            | 0      \n",
      " Junction_Location                           | 0      \n",
      " Skidding_and_Overturning                    | 0      \n",
      " Hit_Object_in_Carriageway                   | 0      \n",
      " Vehicle_Leaving_Carriageway                 | 0      \n",
      " Hit_Object_off_Carriageway                  | 0      \n",
      " 1st_Point_of_Impact                         | 0      \n",
      " Was_Vehicle_Left_Hand_Drive?                | 0      \n",
      " Journey_Purpose_of_Driver                   | 0      \n",
      " Sex_of_Driver                               | 0      \n",
      " Age_of_Driver                               | 0      \n",
      " Age_Band_of_Driver                          | 0      \n",
      " Engine_Capacity_(CC)                        | 0      \n",
      " Propulsion_Code                             | 0      \n",
      " Age_of_Vehicle                              | 0      \n",
      " Driver_IMD_Decile                           | 0      \n",
      " Driver_Home_Area_Type                       | 0      \n",
      "\n"
     ]
    }
   ],
   "source": [
    "null_counts = merged_df.select([sum(col(c).isNull().cast(\"int\")).alias(c) for c in merged_df.columns])\n",
    "null_counts.show(vertical=True)"
   ]
  },
  {
   "cell_type": "code",
   "execution_count": 76,
   "id": "ff167ace-9100-469f-9abd-beca55b26584",
   "metadata": {},
   "outputs": [],
   "source": [
    "# null hodnoty v atribúte LSOA_of_Accident_Location (v accidents)\n",
    "# pred spojením datasetov\n",
    "# LSOA_of_Accident_Location | 120574\n",
    "# a po spojení do jedného datasetu\n",
    "# LSOA_of_Accident_Location | 282711"
   ]
  },
  {
   "cell_type": "code",
   "execution_count": 77,
   "id": "46dbeeaf-65de-4d50-81a1-6fc13a0ded6a",
   "metadata": {},
   "outputs": [
    {
     "name": "stdout",
     "output_type": "stream",
     "text": [
      "Počet nehôd bez LSOA_of_Accident_Location: 120574\n"
     ]
    }
   ],
   "source": [
    "missing_lsoa_df = merged_df.filter(F.col(\"LSOA_of_Accident_Location\").isNull())\n",
    "print(f\"Počet nehôd bez LSOA_of_Accident_Location: {missing_lsoa_df.select('Accident_Index').distinct().count()}\")"
   ]
  },
  {
   "cell_type": "code",
   "execution_count": 79,
   "id": "5a2a0613-29b2-4e67-b73a-704a44e3a420",
   "metadata": {},
   "outputs": [
    {
     "name": "stdout",
     "output_type": "stream",
     "text": [
      "-RECORD 0----------------------------------------------------------\n",
      " Accident_Index                              | 200501CP00089       \n",
      " Location_Easting_OSGR                       | 532820              \n",
      " Location_Northing_OSGR                      | 180570              \n",
      " Longitude                                   | -0.087512           \n",
      " Latitude                                    | 51.508404           \n",
      " Police_Force                                | 48                  \n",
      " Accident_Severity                           | 3                   \n",
      " Number_of_Vehicles                          | 1                   \n",
      " Number_of_Casualties                        | 1                   \n",
      " Date                                        | 15/04/2005          \n",
      " Day_of_Week                                 | 6                   \n",
      " Time                                        | 2025-04-04 16:50:00 \n",
      " Local_Authority_(District)                  | 570                 \n",
      " Local_Authority_(Highway)                   | E09000001           \n",
      " 1st_Road_Class                              | 3                   \n",
      " 1st_Road_Number                             | 3                   \n",
      " Road_Type                                   | 3                   \n",
      " Speed_limit                                 | 30                  \n",
      " Junction_Detail                             | 0                   \n",
      " Junction_Control                            | -1                  \n",
      " 2nd_Road_Class                              | -1                  \n",
      " 2nd_Road_Number                             | 0                   \n",
      " Pedestrian_Crossing-Human_Control           | 0                   \n",
      " Pedestrian_Crossing-Physical_Facilities     | 0                   \n",
      " Light_Conditions                            | 1                   \n",
      " Weather_Conditions                          | 2                   \n",
      " Road_Surface_Conditions                     | 2                   \n",
      " Special_Conditions_at_Site                  | 0                   \n",
      " Carriageway_Hazards                         | 0                   \n",
      " Urban_or_Rural_Area                         | 1                   \n",
      " Did_Police_Officer_Attend_Scene_of_Accident | 1                   \n",
      " LSOA_of_Accident_Location                   | NULL                \n",
      "only showing top 1 row\n",
      "\n"
     ]
    }
   ],
   "source": [
    "missing_accidents = missing_lsoa_df.select(\"Accident_Index\").distinct()\n",
    "existing_in_accidents = missing_accidents.join(accidents, on=\"Accident_Index\", how=\"left\")\n",
    "\n",
    "# Ak niektoré nehody majú NULL v stĺpci z accidents, znamená to, že neboli v pôvodnom datasets\n",
    "existing_in_accidents.filter(F.col(\"LSOA_of_Accident_Location\").isNull()).show(n=1, vertical=True)"
   ]
  },
  {
   "cell_type": "code",
   "execution_count": 86,
   "id": "f641988b-eedc-480d-a312-0bad029ffefc",
   "metadata": {},
   "outputs": [],
   "source": [
    "# Okno pre každú nehodu (Accident_Index)\n",
    "window_spec = Window.partitionBy(\"Accident_Index\")\n",
    "\n",
    "# Použitie prvej dostupnej hodnoty LSOA_of_Accident_Location v rámci každého Accident_Index\n",
    "merged_df = merged_df.withColumn(\n",
    "    \"LSOA_of_Accident_Location\",\n",
    "    F.first(\"LSOA_of_Accident_Location\", ignorenulls=True).over(window_spec)\n",
    ")"
   ]
  },
  {
   "cell_type": "code",
   "execution_count": 87,
   "id": "381c7c93-cc45-4088-a1df-0bf7210a5e3e",
   "metadata": {},
   "outputs": [
    {
     "data": {
      "text/plain": [
       "4287523"
      ]
     },
     "execution_count": 87,
     "metadata": {},
     "output_type": "execute_result"
    }
   ],
   "source": [
    "merged_df.count()"
   ]
  },
  {
   "cell_type": "code",
   "execution_count": 85,
   "id": "a1bbeec4-da45-48c1-8505-c89aad24329b",
   "metadata": {},
   "outputs": [
    {
     "data": {
      "text/plain": [
       "282711"
      ]
     },
     "execution_count": 85,
     "metadata": {},
     "output_type": "execute_result"
    }
   ],
   "source": [
    "merged_df.filter(F.col(\"LSOA_of_Accident_Location\").isNull()).count()"
   ]
  },
  {
   "cell_type": "code",
   "execution_count": 83,
   "id": "67ecf761-8fd9-4728-8812-4913798a0b4a",
   "metadata": {},
   "outputs": [
    {
     "name": "stdout",
     "output_type": "stream",
     "text": [
      "-RECORD 0---------------------------------------------\n",
      " Accident_Index                              | 0      \n",
      " Location_Easting_OSGR                       | 256    \n",
      " Location_Northing_OSGR                      | 256    \n",
      " Longitude                                   | 256    \n",
      " Latitude                                    | 256    \n",
      " Police_Force                                | 0      \n",
      " Accident_Severity                           | 0      \n",
      " Number_of_Vehicles                          | 0      \n",
      " Number_of_Casualties                        | 0      \n",
      " Date                                        | 0      \n",
      " Day_of_Week                                 | 0      \n",
      " Time                                        | 264    \n",
      " Local_Authority_(District)                  | 0      \n",
      " Local_Authority_(Highway)                   | 0      \n",
      " 1st_Road_Class                              | 0      \n",
      " 1st_Road_Number                             | 0      \n",
      " Road_Type                                   | 0      \n",
      " Speed_limit                                 | 0      \n",
      " Junction_Detail                             | 0      \n",
      " Junction_Control                            | 0      \n",
      " 2nd_Road_Class                              | 0      \n",
      " 2nd_Road_Number                             | 0      \n",
      " Pedestrian_Crossing-Human_Control           | 0      \n",
      " Pedestrian_Crossing-Physical_Facilities     | 0      \n",
      " Light_Conditions                            | 0      \n",
      " Weather_Conditions                          | 0      \n",
      " Road_Surface_Conditions                     | 0      \n",
      " Special_Conditions_at_Site                  | 0      \n",
      " Carriageway_Hazards                         | 0      \n",
      " Urban_or_Rural_Area                         | 0      \n",
      " Did_Police_Officer_Attend_Scene_of_Accident | 0      \n",
      " LSOA_of_Accident_Location                   | 282711 \n",
      " Vehicle_Reference                           | 0      \n",
      " Casualty_Reference                          | 0      \n",
      " Casualty_Class                              | 0      \n",
      " Sex_of_Casualty                             | 0      \n",
      " Age_of_Casualty                             | 0      \n",
      " Age_Band_of_Casualty                        | 0      \n",
      " Casualty_Severity                           | 0      \n",
      " Pedestrian_Location                         | 0      \n",
      " Pedestrian_Movement                         | 0      \n",
      " Car_Passenger                               | 0      \n",
      " Bus_or_Coach_Passenger                      | 0      \n",
      " Pedestrian_Road_Maintenance_Worker          | 0      \n",
      " Casualty_Type                               | 0      \n",
      " Casualty_Home_Area_Type                     | 0      \n",
      " Vehicle_Type                                | 0      \n",
      " Towing_and_Articulation                     | 0      \n",
      " Vehicle_Manoeuvre                           | 0      \n",
      " Vehicle_Location-Restricted_Lane            | 0      \n",
      " Junction_Location                           | 0      \n",
      " Skidding_and_Overturning                    | 0      \n",
      " Hit_Object_in_Carriageway                   | 0      \n",
      " Vehicle_Leaving_Carriageway                 | 0      \n",
      " Hit_Object_off_Carriageway                  | 0      \n",
      " 1st_Point_of_Impact                         | 0      \n",
      " Was_Vehicle_Left_Hand_Drive?                | 0      \n",
      " Journey_Purpose_of_Driver                   | 0      \n",
      " Sex_of_Driver                               | 0      \n",
      " Age_of_Driver                               | 0      \n",
      " Age_Band_of_Driver                          | 0      \n",
      " Engine_Capacity_(CC)                        | 0      \n",
      " Propulsion_Code                             | 0      \n",
      " Age_of_Vehicle                              | 0      \n",
      " Driver_IMD_Decile                           | 0      \n",
      " Driver_Home_Area_Type                       | 0      \n",
      "\n"
     ]
    }
   ],
   "source": [
    "null_counts.show(vertical=True)"
   ]
  },
  {
   "cell_type": "markdown",
   "id": "4d78fc75",
   "metadata": {},
   "source": [
    "1. Sampling a Rozdelenie na Tréningovaciu a Testovaciu Množinu\n",
    "Najprv vytvoríme stratifikovanú vzorku (napr. 10 %) podľa cieľového atribútu. Predpokladáme, že cieľovým atribútom je napr. Accident_Severity (môžete upraviť podľa potreby). Potom vzorku rozdelíme na trénovaciu (60 %) a testovaciu (40 %)."
   ]
  },
  {
   "cell_type": "code",
   "execution_count": 17,
   "id": "e46911cb-f36e-4048-95e4-93e71cb884bd",
   "metadata": {},
   "outputs": [],
   "source": [
    "# merged_df.select(\"Vehicle_Reference\", \"`Vehicles.Vehicle_Reference`\", \"`Casualties.Vehicle_Reference`\").show(10)"
   ]
  },
  {
   "cell_type": "code",
   "execution_count": 18,
   "id": "9fee3760-4bb5-4810-8650-ccfe7bfd41c6",
   "metadata": {},
   "outputs": [],
   "source": [
    "# merged_df.select([sum(col(c).isNull().cast(\"int\")).alias(c) for c in merged_df.columns]).show(vertical=True)\n",
    "# print(f\"\\n{30*'#'} KONIEC ANALÝZY {name} {30*'#'}\\n\")"
   ]
  },
  {
   "cell_type": "code",
   "execution_count": 47,
   "id": "d16ad4fd",
   "metadata": {},
   "outputs": [
    {
     "name": "stdout",
     "output_type": "stream",
     "text": [
      "Celkový počet záznamov: 4287593\n",
      "Počet záznamov vo vzorke (10%): 429243\n",
      "Tréningová množina: 257491 záznamov\n",
      "Testovacia množina: 171191 záznamov\n"
     ]
    }
   ],
   "source": [
    "# Zobrazenie počtu záznamov\n",
    "# print(\"Celkový počet záznamov:\", merged_df.count())\n",
    "\n",
    "# Definujte hodnoty cieľového atribútu a nastavené fraction pre stratifikované sampling\n",
    "# Napríklad, ak sú hodnoty 1, 2, 3 (kódovanie podľa závažnosti nehody)\n",
    "target_col = \"Accident_Severity\"\n",
    "fractions = {row[target_col]: 0.1 for row in merged_df.select(target_col).distinct().collect()}\n",
    "\n",
    "# Stratifikované vzorkovanie\n",
    "sample_df = merged_df.sampleBy(target_col, fractions, seed=42)\n",
    "# print(\"Počet záznamov vo vzorke (10%):\", sample_df.count())\n",
    "\n",
    "# Rozdelenie vzorky na tréningovú a testovaciu množinu (60/40)\n",
    "train_df, test_df = sample_df.randomSplit([0.6, 0.4], seed=42)\n",
    "# print(\"Trénovacia množina:\", train_df.count(), \"záznamov\")\n",
    "# print(\"Testovacia množina:\", test_df.count(), \"záznamov\")\n"
   ]
  },
  {
   "cell_type": "code",
   "execution_count": null,
   "id": "47254321-9601-4b3c-b7c0-4a65ea7558c0",
   "metadata": {},
   "outputs": [],
   "source": [
    "# Celkový počet záznamov: 4287593\n",
    "# Počet záznamov vo vzorke (10%): 42924\n",
    "# Trénovacia množina: 257491 záznamov\n",
    "# Testovacia množina: 171191 záznamov"
   ]
  },
  {
   "cell_type": "markdown",
   "id": "02620e4c",
   "metadata": {},
   "source": [
    "2. Predspracovanie Dát\n",
    "a) Transformácia nominálnych atribútov na numerické\n",
    "Použijeme StringIndexer pre atribúty ako Accident_Severity a iné kategorizované stĺpce. Pre ilustráciu prevedieme cieľový atribút a jeden ďalší atribút (napr. Weather_Conditions)."
   ]
  },
  {
   "cell_type": "code",
   "execution_count": 13,
   "id": "c6db555b",
   "metadata": {},
   "outputs": [
    {
     "name": "stdout",
     "output_type": "stream",
     "text": [
      "+-----------------+-----------------------+-----------+------------------+-----------------+\n",
      "|Accident_Severity|Accident_Severity_Index|Speed_limit|Speed_limit_Bucket|features         |\n",
      "+-----------------+-----------------------+-----------+------------------+-----------------+\n",
      "|3                |0.0                    |30         |1.0               |[2.0,1.0,1.0,0.0]|\n",
      "|2                |1.0                    |30         |1.0               |[2.0,1.0,1.0,0.0]|\n",
      "|3                |0.0                    |30         |1.0               |[2.0,1.0,1.0,1.0]|\n",
      "+-----------------+-----------------------+-----------+------------------+-----------------+\n",
      "only showing top 3 rows\n",
      "\n"
     ]
    }
   ],
   "source": [
    "from pyspark.ml.feature import StringIndexer, OneHotEncoder, VectorAssembler, Bucketizer\n",
    "from pyspark.ml import Pipeline\n",
    "\n",
    "# StringIndexery pre kategóriové atribúty\n",
    "severity_indexer = StringIndexer(inputCol=\"Accident_Severity\", outputCol=\"Accident_Severity_Index\", handleInvalid=\"keep\")\n",
    "weather_indexer = StringIndexer(inputCol=\"Weather_Conditions\", outputCol=\"Weather_Conditions_Index\", handleInvalid=\"keep\")\n",
    "\n",
    "# Prípadne môžeme použiť aj OneHotEncoder, ak budeme potrebovať one-hot reprezentáciu\n",
    "weather_encoder = OneHotEncoder(inputCol=\"Weather_Conditions_Index\", outputCol=\"Weather_Conditions_Encoded\")\n",
    "\n",
    "# Ako príklad budeme discretizovať aj numerický atribút, napr. 'Speed_limit'\n",
    "# Definujte prahy pre Bucketizer – tieto hodnoty upravte podľa rozsahu v dátach\n",
    "speed_splits = [0, 30, 50, 70, 100, float(\"Inf\")]\n",
    "speed_bucketizer = Bucketizer(splits=speed_splits, inputCol=\"Speed_limit\", outputCol=\"Speed_limit_Bucket\", handleInvalid=\"keep\")\n",
    "\n",
    "# Vytvorenie zoznamu vstupných atribútov pre klasifikačný model (príklad)\n",
    "# Zvoľte atribúty, ktoré budú použité ako vstupy (toto je len ilustrácia – prispôsobte podľa analýzy)\n",
    "feature_cols = [\"Number_of_Vehicles\", \"Number_of_Casualties\", \"Speed_limit_Bucket\", \"Weather_Conditions_Index\"]\n",
    "\n",
    "# Pre zostavenie feature vektora\n",
    "assembler = VectorAssembler(inputCols=feature_cols, outputCol=\"features\", handleInvalid=\"keep\")\n",
    "\n",
    "# Zostavenie Pipeline pre predspracovanie\n",
    "preprocessing_pipeline = Pipeline(stages=[\n",
    "    severity_indexer,\n",
    "    weather_indexer,\n",
    "    weather_encoder,\n",
    "    speed_bucketizer,\n",
    "    assembler\n",
    "])\n",
    "preprocessed_model = preprocessing_pipeline.fit(train_df)\n",
    "train_preprocessed = preprocessed_model.transform(train_df)\n",
    "test_preprocessed = preprocessed_model.transform(test_df)\n",
    "\n",
    "# Overenie výsledkov\n",
    "train_preprocessed.select(\"Accident_Severity\", \"Accident_Severity_Index\", \"Speed_limit\", \"Speed_limit_Bucket\", \"features\").show(3, truncate=False)\n"
   ]
  },
  {
   "cell_type": "markdown",
   "id": "b65b3356",
   "metadata": {},
   "source": [
    "b) Spracovanie chýbajúcich hodnôt\n",
    "Ukážeme, ako nahradiť chýbajúce hodnoty, pričom hodnoty \"-1\" považujeme za neplatné. Tu je príklad pre jeden numerický atribút. Môžete tento prístup aplikovať na viacero stĺpcov."
   ]
  },
  {
   "cell_type": "code",
   "execution_count": 14,
   "id": "5c904577",
   "metadata": {},
   "outputs": [
    {
     "name": "stdout",
     "output_type": "stream",
     "text": [
      "Priemerná hodnota Speed_limit: 41.10451831598755\n",
      "+-----------+-----------------+\n",
      "|Speed_limit|Speed_limit_clean|\n",
      "+-----------+-----------------+\n",
      "|         30|             30.0|\n",
      "|         30|             30.0|\n",
      "|         30|             30.0|\n",
      "+-----------+-----------------+\n",
      "only showing top 3 rows\n",
      "\n"
     ]
    }
   ],
   "source": [
    "from pyspark.sql.functions import when, avg\n",
    "\n",
    "# Príklad: Nahradenie neplatných hodnôt v stĺpci 'Speed_limit'\n",
    "# Najprv prepočítame priemer, pričom vynecháme hodnoty -1\n",
    "mean_speed = merged_df.filter(merged_df[\"Speed_limit\"] != -1).select(avg(\"Speed_limit\")).first()[0]\n",
    "print(\"Priemerná hodnota Speed_limit:\", mean_speed)\n",
    "\n",
    "# Vytvorenie DataFrame, kde nahradíme -1 priemerom\n",
    "merged_df_clean = merged_df.withColumn(\"Speed_limit_clean\",\n",
    "                                       when(col(\"Speed_limit\") == -1, mean_speed)\n",
    "                                       .otherwise(col(\"Speed_limit\")))\n",
    "merged_df_clean.select(\"Speed_limit\", \"Speed_limit_clean\").show(3)\n"
   ]
  },
  {
   "cell_type": "markdown",
   "id": "0f71060f",
   "metadata": {},
   "source": [
    "Pre kategóriové atribúty by ste mohli zvoliť najčastejšiu hodnotu (mode). Rovnaký prístup potom opakujte pre ostatné relevantné atribúty."
   ]
  },
  {
   "cell_type": "markdown",
   "id": "201966ec",
   "metadata": {},
   "source": []
  },
  {
   "cell_type": "markdown",
   "id": "d0b7a9f8",
   "metadata": {},
   "source": [
    "c) Výpočet informačného zisku pre nominálne atribúty\n",
    "Jednoduchý spôsob je použiť vstavané metódy modelov (napr. Decision Tree), ktoré dokážu poskytnúť dôležitosť atribútov. \n",
    "Ak však potrebujete explicitne vypočítať informačný zisk, môžete si vytvoriť vlastnú funkciu. Tu je ilustratívny príklad \n",
    "pre jeden atribút:"
   ]
  },
  {
   "cell_type": "markdown",
   "id": "19c352e4",
   "metadata": {},
   "source": [
    "import math\n",
    "from pyspark.sql import functions as F\n",
    "\n",
    "def compute_entropy(df, col_name):\n",
    "    # Počet celkových záznamov\n",
    "    total = df.count()\n",
    "    # Počet výskytov jednotlivých kategórií\n",
    "    counts = df.groupBy(col_name).count().collect()\n",
    "    entropy = 0.0\n",
    "    for row in counts:\n",
    "        p = row[\"count\"] / total\n",
    "        entropy -= p * math.log(p, 2)\n",
    "    return entropy\n",
    "\n",
    "# Výpočet entropie cieľového atribútu\n",
    "entropy_target = compute_entropy(train_df, \"Accident_Severity\")\n",
    "print(\"Entropia cieľového atribútu (Accident_Severity):\", entropy_target)\n",
    "\n",
    "# Pre výpočet informačného zisku pre atribút napr. 'Weather_Conditions'\n",
    "entropy_weather = compute_entropy(train_df, \"Weather_Conditions\")\n",
    "\n",
    "# Spočítanie podmienenej entropie\n",
    "# Rozdelenie podľa 'Weather_Conditions' a výpočet entropie v každej skupine\n",
    "group_entropy = train_df.groupBy(\"Weather_Conditions\").agg(F.count(\"*\").alias(\"cnt\")).collect()\n",
    "weighted_entropy = 0.0\n",
    "total = train_df.count()\n",
    "for row in group_entropy:\n",
    "    p = row[\"cnt\"] / total\n",
    "    sub_df = train_df.filter(train_df[\"Weather_Conditions\"] == row[\"Weather_Conditions\"])\n",
    "    weighted_entropy += p * compute_entropy(sub_df, \"Accident_Severity\")\n",
    "\n",
    "information_gain = entropy_target - weighted_entropy\n",
    "print(\"Informačný zisk pre Weather_Conditions:\", information_gain)\n"
   ]
  },
  {
   "cell_type": "code",
   "execution_count": null,
   "id": "d99968af",
   "metadata": {},
   "outputs": [],
   "source": []
  },
  {
   "cell_type": "markdown",
   "id": "d059207e",
   "metadata": {},
   "source": [
    "3. Modelovanie\n",
    "a) K-means Clustering a Detekcia Anomálií\n",
    "Najprv vytvoríme K-means model s predspracovanými dátami a následne zistíme anomálie podľa vzdialenosti od centroidu."
   ]
  },
  {
   "cell_type": "markdown",
   "id": "50154fe6",
   "metadata": {},
   "source": [
    "from pyspark.ml.clustering import KMeans\n",
    "from pyspark.ml.evaluation import ClusteringEvaluator\n",
    "\n",
    "# Použijeme pre clustering atribút 'features' vytvorený v pipeline\n",
    "kmeans = KMeans(featuresCol=\"features\", predictionCol=\"cluster\", k=5, seed=42)\n",
    "kmeans_model = kmeans.fit(train_preprocessed)\n",
    "\n",
    "# Pridanie clusterov pre tréningovú množinu\n",
    "train_clustered = kmeans_model.transform(train_preprocessed)\n",
    "train_clustered.select(\"features\", \"cluster\").show(3)\n",
    "\n",
    "# Vyhodnotenie clusteringu (napr. pomocou silhouette score)\n",
    "evaluator = ClusteringEvaluator(featuresCol=\"features\", predictionCol=\"cluster\", metricName=\"silhouette\", distanceMeasure=\"squaredEuclidean\")\n",
    "silhouette = evaluator.evaluate(train_clustered)\n",
    "print(\"Silhouette score:\", silhouette)\n",
    "\n",
    "# Detekcia anomálií:\n",
    "# Vypočítame vzdialenosť každého bodu od príslušného centroidu\n",
    "centers = kmeans_model.clusterCenters()\n",
    "def compute_distance(features, center):\n",
    "    return float(features.squared_distance(center))  # Funkcia squared_distance nie je priamo dostupná; budeme pracovať pomocou operácií\n",
    "\n",
    "# Pre ilustráciu využijeme User Defined Function (UDF) pre výpočet Euklidovskej vzdialenosti\n",
    "from pyspark.sql.functions import udf\n",
    "from pyspark.sql.types import DoubleType\n",
    "import numpy as np\n",
    "\n",
    "def euclidean_distance(v, center):\n",
    "    return float(np.sqrt(np.sum((np.array(v) - np.array(center))**2)))\n",
    "\n",
    "# UDF: pre každý riadok vypočíta vzdialenosť od príslušného centroidu\n",
    "def distance_from_center(features, cluster):\n",
    "    center = centers[int(cluster)]\n",
    "    return euclidean_distance(features, center)\n",
    "\n",
    "distance_udf = udf(distance_from_center, DoubleType())\n",
    "train_clustered = train_clustered.withColumn(\"distance\", distance_udf(col(\"features\"), col(\"cluster\")))\n",
    "train_clustered.select(\"cluster\", \"distance\").show(3)\n",
    "\n",
    "# Označenie anomálií: napr. tie záznamy, ktorých vzdialenosť presahuje prah – tento prah môžete nastaviť napr. ako percentil vzdialeností\n",
    "distances = train_clustered.select(\"distance\").rdd.flatMap(lambda x: x).collect()\n",
    "threshold = np.percentile(distances, 95)  # 95. percentil\n",
    "print(\"Prahová hodnota pre anomáliu (95. percentil):\", threshold)\n",
    "\n",
    "anomalies = train_clustered.filter(col(\"distance\") > threshold)\n",
    "print(\"Počet detekovaných anomálií:\", anomalies.count())\n"
   ]
  },
  {
   "cell_type": "code",
   "execution_count": null,
   "id": "ff574105",
   "metadata": {},
   "outputs": [],
   "source": []
  },
  {
   "cell_type": "markdown",
   "id": "b4a7f3f1",
   "metadata": {},
   "source": [
    "b) Klasifikačné Modely\n",
    "V nasledujúcom bloku vytvoríme viacero klasifikačných modelov pomocou pipeline – Decision Tree, Linear SVM, Naive Bayes a Random Forest. Ako príklad využijeme už vytvorený pipeline pre predspracovanie. Cieľovým atribútom je Accident_Severity_Index."
   ]
  },
  {
   "cell_type": "code",
   "execution_count": 15,
   "id": "a7b0f11a",
   "metadata": {},
   "outputs": [
    {
     "ename": "SparkRuntimeException",
     "evalue": "[USER_RAISED_EXCEPTION] Labels MUST be in {0, 1}, but got 2.0 SQLSTATE: P0001",
     "output_type": "error",
     "traceback": [
      "\u001b[0;31m---------------------------------------------------------------------------\u001b[0m",
      "\u001b[0;31mSparkRuntimeException\u001b[0m                     Traceback (most recent call last)",
      "Cell \u001b[0;32mIn[15], line 15\u001b[0m\n\u001b[1;32m     12\u001b[0m \u001b[38;5;66;03m# 2. Linear SVM\u001b[39;00m\n\u001b[1;32m     13\u001b[0m \u001b[38;5;66;03m# Upozornenie: LinearSVC vyžaduje, aby cieľové hodnoty boli indexované a v tvare Double\u001b[39;00m\n\u001b[1;32m     14\u001b[0m svm \u001b[38;5;241m=\u001b[39m LinearSVC(featuresCol\u001b[38;5;241m=\u001b[39m\u001b[38;5;124m\"\u001b[39m\u001b[38;5;124mfeatures\u001b[39m\u001b[38;5;124m\"\u001b[39m, labelCol\u001b[38;5;241m=\u001b[39m\u001b[38;5;124m\"\u001b[39m\u001b[38;5;124mAccident_Severity_Index\u001b[39m\u001b[38;5;124m\"\u001b[39m, maxIter\u001b[38;5;241m=\u001b[39m\u001b[38;5;241m10\u001b[39m, regParam\u001b[38;5;241m=\u001b[39m\u001b[38;5;241m0.1\u001b[39m)\n\u001b[0;32m---> 15\u001b[0m svm_model \u001b[38;5;241m=\u001b[39m \u001b[43msvm\u001b[49m\u001b[38;5;241;43m.\u001b[39;49m\u001b[43mfit\u001b[49m\u001b[43m(\u001b[49m\u001b[43mtrain_preprocessed\u001b[49m\u001b[43m)\u001b[49m\n\u001b[1;32m     16\u001b[0m svm_predictions \u001b[38;5;241m=\u001b[39m svm_model\u001b[38;5;241m.\u001b[39mtransform(test_preprocessed)\n\u001b[1;32m     18\u001b[0m \u001b[38;5;66;03m# 3. Naive Bayes\u001b[39;00m\n",
      "File \u001b[0;32m/opt/conda/lib/python3.12/site-packages/pyspark/ml/base.py:205\u001b[0m, in \u001b[0;36mEstimator.fit\u001b[0;34m(self, dataset, params)\u001b[0m\n\u001b[1;32m    203\u001b[0m         \u001b[38;5;28;01mreturn\u001b[39;00m \u001b[38;5;28mself\u001b[39m\u001b[38;5;241m.\u001b[39mcopy(params)\u001b[38;5;241m.\u001b[39m_fit(dataset)\n\u001b[1;32m    204\u001b[0m     \u001b[38;5;28;01melse\u001b[39;00m:\n\u001b[0;32m--> 205\u001b[0m         \u001b[38;5;28;01mreturn\u001b[39;00m \u001b[38;5;28;43mself\u001b[39;49m\u001b[38;5;241;43m.\u001b[39;49m\u001b[43m_fit\u001b[49m\u001b[43m(\u001b[49m\u001b[43mdataset\u001b[49m\u001b[43m)\u001b[49m\n\u001b[1;32m    206\u001b[0m \u001b[38;5;28;01melse\u001b[39;00m:\n\u001b[1;32m    207\u001b[0m     \u001b[38;5;28;01mraise\u001b[39;00m \u001b[38;5;167;01mTypeError\u001b[39;00m(\n\u001b[1;32m    208\u001b[0m         \u001b[38;5;124m\"\u001b[39m\u001b[38;5;124mParams must be either a param map or a list/tuple of param maps, \u001b[39m\u001b[38;5;124m\"\u001b[39m\n\u001b[1;32m    209\u001b[0m         \u001b[38;5;124m\"\u001b[39m\u001b[38;5;124mbut got \u001b[39m\u001b[38;5;132;01m%s\u001b[39;00m\u001b[38;5;124m.\u001b[39m\u001b[38;5;124m\"\u001b[39m \u001b[38;5;241m%\u001b[39m \u001b[38;5;28mtype\u001b[39m(params)\n\u001b[1;32m    210\u001b[0m     )\n",
      "File \u001b[0;32m/opt/conda/lib/python3.12/site-packages/pyspark/ml/wrapper.py:381\u001b[0m, in \u001b[0;36mJavaEstimator._fit\u001b[0;34m(self, dataset)\u001b[0m\n\u001b[1;32m    380\u001b[0m \u001b[38;5;28;01mdef\u001b[39;00m\u001b[38;5;250m \u001b[39m\u001b[38;5;21m_fit\u001b[39m(\u001b[38;5;28mself\u001b[39m, dataset: DataFrame) \u001b[38;5;241m-\u001b[39m\u001b[38;5;241m>\u001b[39m JM:\n\u001b[0;32m--> 381\u001b[0m     java_model \u001b[38;5;241m=\u001b[39m \u001b[38;5;28;43mself\u001b[39;49m\u001b[38;5;241;43m.\u001b[39;49m\u001b[43m_fit_java\u001b[49m\u001b[43m(\u001b[49m\u001b[43mdataset\u001b[49m\u001b[43m)\u001b[49m\n\u001b[1;32m    382\u001b[0m     model \u001b[38;5;241m=\u001b[39m \u001b[38;5;28mself\u001b[39m\u001b[38;5;241m.\u001b[39m_create_model(java_model)\n\u001b[1;32m    383\u001b[0m     \u001b[38;5;28;01mreturn\u001b[39;00m \u001b[38;5;28mself\u001b[39m\u001b[38;5;241m.\u001b[39m_copyValues(model)\n",
      "File \u001b[0;32m/opt/conda/lib/python3.12/site-packages/pyspark/ml/wrapper.py:378\u001b[0m, in \u001b[0;36mJavaEstimator._fit_java\u001b[0;34m(self, dataset)\u001b[0m\n\u001b[1;32m    375\u001b[0m \u001b[38;5;28;01massert\u001b[39;00m \u001b[38;5;28mself\u001b[39m\u001b[38;5;241m.\u001b[39m_java_obj \u001b[38;5;129;01mis\u001b[39;00m \u001b[38;5;129;01mnot\u001b[39;00m \u001b[38;5;28;01mNone\u001b[39;00m\n\u001b[1;32m    377\u001b[0m \u001b[38;5;28mself\u001b[39m\u001b[38;5;241m.\u001b[39m_transfer_params_to_java()\n\u001b[0;32m--> 378\u001b[0m \u001b[38;5;28;01mreturn\u001b[39;00m \u001b[38;5;28;43mself\u001b[39;49m\u001b[38;5;241;43m.\u001b[39;49m\u001b[43m_java_obj\u001b[49m\u001b[38;5;241;43m.\u001b[39;49m\u001b[43mfit\u001b[49m\u001b[43m(\u001b[49m\u001b[43mdataset\u001b[49m\u001b[38;5;241;43m.\u001b[39;49m\u001b[43m_jdf\u001b[49m\u001b[43m)\u001b[49m\n",
      "File \u001b[0;32m/opt/conda/lib/python3.12/site-packages/py4j/java_gateway.py:1322\u001b[0m, in \u001b[0;36mJavaMember.__call__\u001b[0;34m(self, *args)\u001b[0m\n\u001b[1;32m   1316\u001b[0m command \u001b[38;5;241m=\u001b[39m proto\u001b[38;5;241m.\u001b[39mCALL_COMMAND_NAME \u001b[38;5;241m+\u001b[39m\\\n\u001b[1;32m   1317\u001b[0m     \u001b[38;5;28mself\u001b[39m\u001b[38;5;241m.\u001b[39mcommand_header \u001b[38;5;241m+\u001b[39m\\\n\u001b[1;32m   1318\u001b[0m     args_command \u001b[38;5;241m+\u001b[39m\\\n\u001b[1;32m   1319\u001b[0m     proto\u001b[38;5;241m.\u001b[39mEND_COMMAND_PART\n\u001b[1;32m   1321\u001b[0m answer \u001b[38;5;241m=\u001b[39m \u001b[38;5;28mself\u001b[39m\u001b[38;5;241m.\u001b[39mgateway_client\u001b[38;5;241m.\u001b[39msend_command(command)\n\u001b[0;32m-> 1322\u001b[0m return_value \u001b[38;5;241m=\u001b[39m \u001b[43mget_return_value\u001b[49m\u001b[43m(\u001b[49m\n\u001b[1;32m   1323\u001b[0m \u001b[43m    \u001b[49m\u001b[43manswer\u001b[49m\u001b[43m,\u001b[49m\u001b[43m \u001b[49m\u001b[38;5;28;43mself\u001b[39;49m\u001b[38;5;241;43m.\u001b[39;49m\u001b[43mgateway_client\u001b[49m\u001b[43m,\u001b[49m\u001b[43m \u001b[49m\u001b[38;5;28;43mself\u001b[39;49m\u001b[38;5;241;43m.\u001b[39;49m\u001b[43mtarget_id\u001b[49m\u001b[43m,\u001b[49m\u001b[43m \u001b[49m\u001b[38;5;28;43mself\u001b[39;49m\u001b[38;5;241;43m.\u001b[39;49m\u001b[43mname\u001b[49m\u001b[43m)\u001b[49m\n\u001b[1;32m   1325\u001b[0m \u001b[38;5;28;01mfor\u001b[39;00m temp_arg \u001b[38;5;129;01min\u001b[39;00m temp_args:\n\u001b[1;32m   1326\u001b[0m     \u001b[38;5;28;01mif\u001b[39;00m \u001b[38;5;28mhasattr\u001b[39m(temp_arg, \u001b[38;5;124m\"\u001b[39m\u001b[38;5;124m_detach\u001b[39m\u001b[38;5;124m\"\u001b[39m):\n",
      "File \u001b[0;32m/opt/conda/lib/python3.12/site-packages/pyspark/errors/exceptions/captured.py:185\u001b[0m, in \u001b[0;36mcapture_sql_exception.<locals>.deco\u001b[0;34m(*a, **kw)\u001b[0m\n\u001b[1;32m    181\u001b[0m converted \u001b[38;5;241m=\u001b[39m convert_exception(e\u001b[38;5;241m.\u001b[39mjava_exception)\n\u001b[1;32m    182\u001b[0m \u001b[38;5;28;01mif\u001b[39;00m \u001b[38;5;129;01mnot\u001b[39;00m \u001b[38;5;28misinstance\u001b[39m(converted, UnknownException):\n\u001b[1;32m    183\u001b[0m     \u001b[38;5;66;03m# Hide where the exception came from that shows a non-Pythonic\u001b[39;00m\n\u001b[1;32m    184\u001b[0m     \u001b[38;5;66;03m# JVM exception message.\u001b[39;00m\n\u001b[0;32m--> 185\u001b[0m     \u001b[38;5;28;01mraise\u001b[39;00m converted \u001b[38;5;28;01mfrom\u001b[39;00m\u001b[38;5;250m \u001b[39m\u001b[38;5;28;01mNone\u001b[39;00m\n\u001b[1;32m    186\u001b[0m \u001b[38;5;28;01melse\u001b[39;00m:\n\u001b[1;32m    187\u001b[0m     \u001b[38;5;28;01mraise\u001b[39;00m\n",
      "\u001b[0;31mSparkRuntimeException\u001b[0m: [USER_RAISED_EXCEPTION] Labels MUST be in {0, 1}, but got 2.0 SQLSTATE: P0001"
     ]
    }
   ],
   "source": [
    "from pyspark.ml.classification import DecisionTreeClassifier, LinearSVC, NaiveBayes, RandomForestClassifier\n",
    "from pyspark.ml.evaluation import MulticlassClassificationEvaluator\n",
    "\n",
    "# Príprava dát už máme v train_preprocessed a test_preprocessed\n",
    "# Použijeme \"features\" a \"Accident_Severity_Index\" ako target\n",
    "\n",
    "# 1. Decision Tree\n",
    "dt = DecisionTreeClassifier(featuresCol=\"features\", labelCol=\"Accident_Severity_Index\", seed=42)\n",
    "dt_model = dt.fit(train_preprocessed)\n",
    "dt_predictions = dt_model.transform(test_preprocessed)\n",
    "\n",
    "# 2. Linear SVM\n",
    "# Upozornenie: LinearSVC vyžaduje, aby cieľové hodnoty boli indexované a v tvare Double\n",
    "svm = LinearSVC(featuresCol=\"features\", labelCol=\"Accident_Severity_Index\", maxIter=10, regParam=0.1)\n",
    "svm_model = svm.fit(train_preprocessed)\n",
    "svm_predictions = svm_model.transform(test_preprocessed)\n",
    "\n",
    "# 3. Naive Bayes\n",
    "nb = NaiveBayes(featuresCol=\"features\", labelCol=\"Accident_Severity_Index\", modelType=\"multinomial\")\n",
    "nb_model = nb.fit(train_preprocessed)\n",
    "nb_predictions = nb_model.transform(test_preprocessed)\n",
    "\n",
    "# 4. Random Forest\n",
    "rf = RandomForestClassifier(featuresCol=\"features\", labelCol=\"Accident_Severity_Index\", numTrees=20, seed=42)\n",
    "rf_model = rf.fit(train_preprocessed)\n",
    "rf_predictions = rf_model.transform(test_preprocessed)\n",
    "\n",
    "# Funkcia na vyhodnotenie modelu\n",
    "def evaluate_model(predictions, model_name=\"Model\"):\n",
    "    evaluator_acc = MulticlassClassificationEvaluator(labelCol=\"Accident_Severity_Index\", predictionCol=\"prediction\", metricName=\"accuracy\")\n",
    "    evaluator_f1 = MulticlassClassificationEvaluator(labelCol=\"Accident_Severity_Index\", predictionCol=\"prediction\", metricName=\"f1\")\n",
    "    accuracy = evaluator_acc.evaluate(predictions)\n",
    "    f1 = evaluator_f1.evaluate(predictions)\n",
    "    print(f\"{model_name} - Accuracy: {accuracy:.4f}, F1-score: {f1:.4f}\")\n",
    "    \n",
    "    # Kontingenčná tabuľka (confusion matrix)\n",
    "    predictions.groupBy(\"Accident_Severity_Index\", \"prediction\").count().orderBy(\"Accident_Severity_Index\", \"prediction\").show()\n",
    "\n",
    "print(\"\\nVyhodnotenie Decision Tree:\")\n",
    "evaluate_model(dt_predictions, \"Decision Tree\")\n",
    "\n",
    "print(\"\\nVyhodnotenie Linear SVM:\")\n",
    "evaluate_model(svm_predictions, \"Linear SVM\")\n",
    "\n",
    "print(\"\\nVyhodnotenie Naive Bayes:\")\n",
    "evaluate_model(nb_predictions, \"Naive Bayes\")\n",
    "\n",
    "print(\"\\nVyhodnotenie Random Forest:\")\n",
    "evaluate_model(rf_predictions, \"Random Forest\")\n"
   ]
  },
  {
   "cell_type": "code",
   "execution_count": null,
   "id": "279507e5",
   "metadata": {},
   "outputs": [],
   "source": []
  },
  {
   "cell_type": "code",
   "execution_count": null,
   "id": "8d46bb4d",
   "metadata": {},
   "outputs": [],
   "source": []
  },
  {
   "cell_type": "markdown",
   "id": "78f49f5e",
   "metadata": {},
   "source": [
    "4. Výpočet Ďalších Metrík\n",
    "Pre MCC (Matthews Correlation Coefficient) a ďalšie metriky je možné vypočítať manuálne na základe confusion matrix. Tu je jednoduchý príklad pre binárny prípad; pre viactriedne problémy by bolo potrebné rozšíriť výpočet."
   ]
  },
  {
   "cell_type": "code",
   "execution_count": 16,
   "id": "ed66367e",
   "metadata": {},
   "outputs": [
    {
     "name": "stdout",
     "output_type": "stream",
     "text": [
      "Confusion matrix (Decision Tree):\n",
      "   Accident_Severity_Index  prediction   count\n",
      "0                      2.0         0.0    3162\n",
      "1                      1.0         1.0     413\n",
      "2                      0.0         1.0      84\n",
      "3                      1.0         0.0   23593\n",
      "4                      2.0         1.0      73\n",
      "5                      0.0         0.0  143790\n",
      "6                      0.0         2.0       6\n",
      "7                      2.0         2.0      70\n"
     ]
    }
   ],
   "source": [
    "import numpy as np\n",
    "import pandas as pd\n",
    "\n",
    "# Funkcia pre výpočet MCC z confusion matrix pre binárny prípad\n",
    "def compute_mcc(confusion_pd):\n",
    "    # Predpokladáme, že confusion_pd má stĺpce: label, prediction, count\n",
    "    # Najprv extrahujeme TP, TN, FP, FN – toto funguje len pre binárnu klasifikáciu\n",
    "    # Upravte podľa potreby pre viac tried\n",
    "    tp = confusion_pd[(confusion_pd['label'] == 1) & (confusion_pd['prediction'] == 1)]['count'].sum()\n",
    "    tn = confusion_pd[(confusion_pd['label'] == 0) & (confusion_pd['prediction'] == 0)]['count'].sum()\n",
    "    fp = confusion_pd[(confusion_pd['label'] == 0) & (confusion_pd['prediction'] == 1)]['count'].sum()\n",
    "    fn = confusion_pd[(confusion_pd['label'] == 1) & (confusion_pd['prediction'] == 0)]['count'].sum()\n",
    "    numerator = tp * tn - fp * fn\n",
    "    denominator = np.sqrt((tp+fp)*(tp+fn)*(tn+fp)*(tn+fn))\n",
    "    if denominator == 0:\n",
    "        return 0\n",
    "    return numerator/denominator\n",
    "\n",
    "# Príklad pre Decision Tree (ak máte binárnu klasifikáciu)\n",
    "dt_conf_df = dt_predictions.groupBy(\"Accident_Severity_Index\", \"prediction\").count().toPandas()\n",
    "print(\"Confusion matrix (Decision Tree):\")\n",
    "print(dt_conf_df)\n",
    "# Ak je to viactriedna klasifikácia, MCC sa zvyčajne počíta inak.\n",
    "# print(\"MCC (Decision Tree):\", compute_mcc(dt_conf_df))\n"
   ]
  },
  {
   "cell_type": "code",
   "execution_count": null,
   "id": "d3717c36",
   "metadata": {},
   "outputs": [],
   "source": []
  },
  {
   "cell_type": "markdown",
   "id": "1544a192",
   "metadata": {},
   "source": [
    "Zhrnutie\n",
    "Tento návrh kódu rozširuje Váš pôvodný .ipynb súbor o:\n",
    "\n",
    "Stratifikované sampling a rozdelenie dát.\n",
    "\n",
    "Predspracovanie (transformácia kategórií, discretizácia numerických atribútov, nahradenie chýbajúcich hodnôt).\n",
    "\n",
    "Výpočet informačného zisku pre vybraný atribút.\n",
    "\n",
    "Vytvorenie K-means modelu a jednoduchú detekciu anomálií.\n",
    "\n",
    "Viaceré klasifikačné modely (Decision Tree, Linear SVM, Naive Bayes, Random Forest) a ich vyhodnotenie pomocou confusion matrix a základných metrík.\n",
    "\n",
    "Ak by ste chceli prebrať konkrétnu časť podrobnejšie alebo upraviť niektoré kroky, dajte vedieť, rád pomôžem ďalej."
   ]
  },
  {
   "cell_type": "code",
   "execution_count": null,
   "id": "51263d95",
   "metadata": {},
   "outputs": [],
   "source": []
  }
 ],
 "metadata": {
  "kernelspec": {
   "display_name": "Python 3 (ipykernel)",
   "language": "python",
   "name": "python3"
  },
  "language_info": {
   "codemirror_mode": {
    "name": "ipython",
    "version": 3
   },
   "file_extension": ".py",
   "mimetype": "text/x-python",
   "name": "python",
   "nbconvert_exporter": "python",
   "pygments_lexer": "ipython3",
   "version": "3.12.8"
  }
 },
 "nbformat": 4,
 "nbformat_minor": 5
}
