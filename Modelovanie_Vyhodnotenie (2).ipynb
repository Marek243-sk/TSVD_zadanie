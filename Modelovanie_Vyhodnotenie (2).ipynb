{
 "cells": [
  {
   "cell_type": "markdown",
   "id": "fc932977-a20f-4058-9954-0a7e3e8df012",
   "metadata": {},
   "source": [
    "### Knižnice"
   ]
  },
  {
   "cell_type": "code",
   "execution_count": 23,
   "id": "f09d2e19-ea68-4c42-9865-e51b026b0fc4",
   "metadata": {},
   "outputs": [],
   "source": [
    "from pyspark.sql import SparkSession, DataFrame\n",
    "from pyspark.ml.feature import StringIndexer, VectorAssembler\n",
    "from pyspark.ml.classification import (DecisionTreeClassifier, LinearSVC,\n",
    "                                       OneVsRest, NaiveBayes, RandomForestClassifier,\n",
    "                                       GBTClassifier, ClassificationModel)\n",
    "from pyspark.ml.tuning import ParamGridBuilder, CrossValidator\n",
    "from pyspark.ml.evaluation import MulticlassClassificationEvaluator\n",
    "from pyspark.ml import Pipeline\n",
    "from pyspark.mllib.evaluation import MulticlassMetrics\n",
    "from sklearn.metrics import matthews_corrcoef\n",
    "from pyspark.sql.functions import col\n",
    "import pandas as pd\n",
    "from typing import Tuple"
   ]
  },
  {
   "cell_type": "markdown",
   "id": "7927ffd1-4f70-4ac9-b022-449a3b1bbfcb",
   "metadata": {},
   "source": [
    "### Inicializácia SparkSession a načítanie dát"
   ]
  },
  {
   "cell_type": "code",
   "execution_count": 12,
   "id": "eb7a26b3-18f1-45fc-b36f-5d79e38d4b09",
   "metadata": {},
   "outputs": [],
   "source": [
    "spark = SparkSession.builder.appName(\"zadanieTSVD\").getOrCreate()\n",
    "# Načítanie dát\n",
    "train_df = spark.read.csv(\"DATA/train_predspracovane.csv\", header=True, inferSchema=True)\n",
    "test_df = spark.read.csv(\"DATA/test_predspracovane.csv\", header=True, inferSchema=True)"
   ]
  },
  {
   "cell_type": "code",
   "execution_count": 45,
   "id": "e752a1ab-14d7-4f87-87ce-8ad4fa196aaf",
   "metadata": {},
   "outputs": [
    {
     "name": "stdout",
     "output_type": "stream",
     "text": [
      "-RECORD 0---------------------------------------------\n",
      " Bus_or_Coach_Passenger                        | 0.0  \n",
      " 1st_Road_Class                                | 0.0  \n",
      " Urban_or_Rural_Area2                          | 0.0  \n",
      " Road_Type                                     | 0.0  \n",
      " Casualty_Class                                | 0.0  \n",
      " Pedestrian_Location                           | 0.0  \n",
      " Special_Conditions_at_Site                    | 0.0  \n",
      " Carriageway_Hazards                           | 0.0  \n",
      " Junction_Control                              | 0.0  \n",
      " Vehicle_Type                                  | 0.0  \n",
      " Urban_or_Rural_Area10                         | 0.0  \n",
      " Weather_Conditions                            | 0.0  \n",
      " Age_Band_of_Casualty                          | 0.0  \n",
      " Did_Police_Officer_Attend_Scene_of_Accident13 | 0.0  \n",
      " Local_Authority_(District)                    | 0.0  \n",
      " Vehicle_Leaving_Carriageway                   | 0.0  \n",
      " Road_Surface_Conditions                       | 0.0  \n",
      " Casualty_Severity                             | 0.0  \n",
      " Casualty_Type                                 | 0.0  \n",
      " Pedestrian_Movement                           | 0.0  \n",
      " Sex_of_Casualty                               | 0.0  \n",
      " Light_Conditions                              | 0.0  \n",
      " Number_of_Vehicles                            | 2.0  \n",
      " Number_of_Casualties                          | 1.0  \n",
      " Local_Authority_(Highway)                     | 5.0  \n",
      " Pedestrian_Crossing_Physical_Facilities       | 0.0  \n",
      " 2nd_Road_Class                                | 0.0  \n",
      " Day_of_Week                                   | 3.0  \n",
      " Police_Force                                  | 1.0  \n",
      " Junction_Detail                               | 1.0  \n",
      " Speed_limit                                   | 30.0 \n",
      " Did_Police_Officer_Attend_Scene_of_Accident31 | 0.0  \n",
      " Car_Passenger                                 | 0.0  \n",
      " Accident_Severity                             | 3    \n",
      "only showing top 1 row\n",
      "\n"
     ]
    }
   ],
   "source": [
    "train_df.show(n=1,vertical=True)"
   ]
  },
  {
   "cell_type": "code",
   "execution_count": 27,
   "id": "70e0ee4d-ebaf-4e27-8fa0-589bf45b488d",
   "metadata": {},
   "outputs": [
    {
     "name": "stdout",
     "output_type": "stream",
     "text": [
      "TRAIN DATA: 256657\n",
      "TEST DATA: 170872\n",
      "--------------------\n",
      "SPOLU: 427529\n",
      "=========================================\n",
      "PO ROZDELENÍ TRAIN NA TRAIN A VAL (80:20)\n",
      "--------------------\n",
      "TRAIN: 205326.0\n",
      "VAL: 51331.0\n"
     ]
    }
   ],
   "source": [
    "print(f\"TRAIN DATA: {train_df.count()}\\nTEST DATA: {test_df.count()}\\n{20*'-'}\\nSPOLU: {train_df.count()+test_df.count()}\\n\\\n",
    "{41*'='}\\nPO ROZDELENÍ TRAIN NA TRAIN A VAL (80:20)\\n{20*'-'}\\nTRAIN: {round(train_df.count()*0.8,0)}\\nVAL: {round(train_df.count()*0.2,0)}\")"
   ]
  },
  {
   "cell_type": "markdown",
   "id": "848b4194-d2a1-49fc-b309-b18efdedf9bd",
   "metadata": {},
   "source": [
    "### Príprava dát pred modelovaním"
   ]
  },
  {
   "cell_type": "code",
   "execution_count": 24,
   "id": "ec3279c9-ea21-4d3f-a734-188c1f8c3d1a",
   "metadata": {},
   "outputs": [],
   "source": [
    "def stratified_split(df: DataFrame, label_col: str, train_ratio: float, seed: int) -> Tuple[DataFrame, DataFrame]:\n",
    "    labels = df.select(label_col).distinct().rdd.flatMap(lambda x: x).collect()\n",
    "    \n",
    "    train_parts = []\n",
    "    val_parts = []\n",
    "    \n",
    "    for lbl in labels:\n",
    "        subset = df.filter(col(label_col) == lbl)\n",
    "        train_subset, val_subset = subset.randomSplit([train_ratio, 1 - train_ratio], seed=seed)\n",
    "        train_parts.append(train_subset)\n",
    "        val_parts.append(val_subset)\n",
    "    \n",
    "    train_set = train_parts[0]\n",
    "    val_set = val_parts[0]\n",
    "    for i in range(1, len(train_parts)):\n",
    "        train_set = train_set.union(train_parts[i])\n",
    "        val_set = val_set.union(val_parts[i])\n",
    "    \n",
    "    return train_set, val_set"
   ]
  },
  {
   "cell_type": "code",
   "execution_count": 14,
   "id": "ae19bd88-08b3-4e46-8c21-0c05f694fa8e",
   "metadata": {},
   "outputs": [],
   "source": [
    "train_set, val_set = stratified_split(train_df, label_col=\"Accident_Severity\", train_ratio=0.8, seed=1234)"
   ]
  },
  {
   "cell_type": "code",
   "execution_count": 15,
   "id": "dbc8b028-9135-41e3-b994-8b8f014c852d",
   "metadata": {},
   "outputs": [
    {
     "name": "stdout",
     "output_type": "stream",
     "text": [
      "TRAIN DATA: 205542\n",
      "VAL DATA: 51115\n"
     ]
    }
   ],
   "source": [
    "print(f\"TRAIN DATA: {train_set.count()}\\nVAL DATA: {val_set.count()}\")"
   ]
  },
  {
   "cell_type": "code",
   "execution_count": 16,
   "id": "6ff9184c-bef4-4e99-a055-5cb1bdf9167a",
   "metadata": {},
   "outputs": [],
   "source": [
    "# Cieľový atribút a predikujúce atribúty\n",
    "label_col = \"Accident_Severity\"\n",
    "feature_cols = [c for c in train_df.columns if c != label_col]\n",
    "\n",
    "# Indexovanie kategórií\n",
    "indexers = [StringIndexer(inputCol=col, outputCol=col+\"_index\", handleInvalid=\"keep\")\n",
    "            for col in feature_cols if str(train_df.schema[col].dataType) == \"StringType\"]\n",
    "\n",
    "label_indexer = StringIndexer(inputCol=label_col, outputCol=\"label\", handleInvalid=\"keep\")\n",
    "\n",
    "# Zoznam vstupných príznakov po indexovaní\n",
    "indexed_features = [col+\"_index\" if str(train_df.schema[col].dataType) == \"StringType\" else col for col in feature_cols]\n",
    "assembler = VectorAssembler(inputCols=indexed_features, outputCol=\"features\")\n",
    "\n",
    "# Pipeline\n",
    "pipeline = Pipeline(stages=indexers + [label_indexer, assembler])\n",
    "\n",
    "# Fit len na TRAIN SET\n",
    "pipeline_model = pipeline.fit(train_set)\n",
    "\n",
    "# Aplikácia na všetky sety\n",
    "train_prepared = pipeline_model.transform(train_set)\n",
    "val_prepared = pipeline_model.transform(val_set)\n",
    "test_prepared = pipeline_model.transform(test_df)"
   ]
  },
  {
   "cell_type": "markdown",
   "id": "a8e3523c-5527-43de-b426-ac15bffa5850",
   "metadata": {},
   "source": [
    "### Funkcie"
   ]
  },
  {
   "cell_type": "code",
   "execution_count": 22,
   "id": "06205b4c-16d0-4c4c-bdf0-4cb83ce0c4ae",
   "metadata": {},
   "outputs": [],
   "source": [
    "# Funkcia vyberie model podľa typu\n",
    "def get_model(model_type: str, df: DataFrame) -> ClassificationModel:\n",
    "    n_classes = df.select(\"label\").distinct().count()\n",
    "\n",
    "    if model_type == \"dt\":\n",
    "        model = DecisionTreeClassifier(featuresCol=\"features\", labelCol=\"label\")\n",
    "    elif model_type == \"rf\":\n",
    "        model = RandomForestClassifier(featuresCol=\"features\", labelCol=\"label\")\n",
    "    elif model_type == \"nb\":\n",
    "        model = NaiveBayes(featuresCol=\"features\", labelCol=\"label\")\n",
    "    elif model_type == \"svm\":\n",
    "        base = LinearSVC(featuresCol=\"features\", labelCol=\"label\")\n",
    "        model = base if n_classes == 2 else OneVsRest(classifier=base, featuresCol=\"features\", labelCol=\"label\")\n",
    "    elif model_type == \"gbt\":\n",
    "        base = GBTClassifier(featuresCol=\"features\", labelCol=\"label\")\n",
    "        model = base if n_classes == 2 else OneVsRest(classifier=base, featuresCol=\"features\", labelCol=\"label\")\n",
    "    else:\n",
    "        raise ValueError(f\"Nepodporovaný model: {model_type}\")\n",
    "\n",
    "    return model"
   ]
  },
  {
   "cell_type": "code",
   "execution_count": 25,
   "id": "8267482b-1efb-4dc2-a104-1a9345a68d65",
   "metadata": {},
   "outputs": [],
   "source": [
    "# Funkcia na optimalizáciu hyperparametrov pomocou gridsearch\n",
    "def grid_search_model(val_df: DataFrame, model_type: str) -> Tuple[ClassificationModel, list]:\n",
    "    model = get_model(model_type, val_df)\n",
    "\n",
    "    if model_type == \"dt\":\n",
    "        paramGrid = ParamGridBuilder() \\\n",
    "            .addGrid(model.maxDepth, [2, 5, 10]) \\\n",
    "            .addGrid(model.minInstancesPerNode, [1, 2, 5]) \\\n",
    "            .addGrid(model.maxBins, [10, 20, 30]) \\\n",
    "            .build()\n",
    "    elif model_type == \"rf\":\n",
    "        paramGrid = ParamGridBuilder() \\\n",
    "            .addGrid(model.numTrees, [20, 50]) \\\n",
    "            .addGrid(model.maxDepth, [5, 10]) \\\n",
    "            .build()\n",
    "    elif model_type == \"gbt\":\n",
    "        estimator = model.getClassifier() if isinstance(model, OneVsRest) else model\n",
    "        paramGrid = ParamGridBuilder() \\\n",
    "            .addGrid(estimator.maxIter, [10, 20]) \\\n",
    "            .addGrid(estimator.maxDepth, [3, 5]) \\\n",
    "            .build()\n",
    "    elif model_type == \"nb\":\n",
    "        paramGrid = ParamGridBuilder() \\\n",
    "            .addGrid(model.smoothing, [0.5, 1.0, 1.5]) \\\n",
    "            .build()\n",
    "    elif model_type == \"svm\":\n",
    "        estimator = model.getClassifier() if isinstance(model, OneVsRest) else model\n",
    "        paramGrid = ParamGridBuilder() \\\n",
    "            .addGrid(estimator.regParam, [0.01, 0.1]) \\\n",
    "            .addGrid(estimator.maxIter, [50, 100]) \\\n",
    "            .build()\n",
    "    else:\n",
    "        raise ValueError(f\"Grid search nie je implementovaný pre model typu {model_type}\")\n",
    "\n",
    "    evaluator = MulticlassClassificationEvaluator(labelCol=\"label\", predictionCol=\"prediction\", metricName=\"f1\")\n",
    "\n",
    "    cv = CrossValidator(estimator=model,\n",
    "                        estimatorParamMaps=paramGrid,\n",
    "                        evaluator=evaluator,\n",
    "                        numFolds=3,\n",
    "                        parallelism=2)\n",
    "\n",
    "    best_model = cv.fit(val_df)\n",
    "    return best_model.bestModel, paramGrid"
   ]
  },
  {
   "cell_type": "code",
   "execution_count": 26,
   "id": "fbae4736-b7e7-485d-8042-92c29e6e2e58",
   "metadata": {},
   "outputs": [],
   "source": [
    "def train_and_evaluate_model(train_or_val_df: DataFrame, test_df: DataFrame, model_type: str, grid_search: bool) -> ClassificationModel:\n",
    "\n",
    "    if grid_search:\n",
    "        print(f\"Optimalizácia hyperparametrov pre {model_type.upper()}\")\n",
    "        model, paramGrid = grid_search_model(train_or_val_df, model_type=model_type)\n",
    "\n",
    "        # Zobrazenie najlepších hyperparametrov\n",
    "        print(\"Najlepšie hyperparametre:\")\n",
    "        tuned_param_names = {param.name for paramMap in paramGrid for param in paramMap}\n",
    "        for param, value in model.extractParamMap().items():\n",
    "            if param.name in tuned_param_names:\n",
    "                print(f\"  {param.name}: {value}\")\n",
    "    else:\n",
    "        model = get_model(model_type, train_prepared)\n",
    "        model = model.fit(train_prepared)\n",
    "\n",
    "    # Predikcia\n",
    "    predictions = model.transform(test_df)\n",
    "\n",
    "    # Vyhodnotenie\n",
    "    predictionAndLabels = predictions.select(\"prediction\", \"label\").rdd.map(tuple)\n",
    "    metrics = MulticlassMetrics(predictionAndLabels)\n",
    "    conf_matrix = metrics.confusionMatrix().toArray().astype(int)\n",
    "\n",
    "    # Získanie názvov tried\n",
    "    class_labels = sorted(test_df.select(\"label\").distinct().rdd.flatMap(lambda x: x).collect())\n",
    "\n",
    "    # Výpis confusion matrix\n",
    "    print(f\"\\nConfusion Matrix {model_type.upper()}:\")\n",
    "    print(\"Predicted/Actual  \", \"  \".join([f\"{label:>8}\" for label in class_labels]))\n",
    "    \n",
    "    for i, row in enumerate(conf_matrix):\n",
    "        print(f\"{class_labels[i]:>15}  \", \"  \".join([f\"{int(x):>8}\" for x in row]))\n",
    "\n",
    "    accuracy = metrics.accuracy\n",
    "    precision = metrics.weightedPrecision\n",
    "    recall = metrics.weightedRecall\n",
    "    f1 = metrics.weightedFMeasure()\n",
    "    print(f\"\\nVýsledky pre {model_type.upper()}:\")\n",
    "    print(f\"Accuracy:  {accuracy:.3f}\")\n",
    "    print(f\"Precision: {precision:.3f}\")\n",
    "    print(f\"Recall:    {recall:.3f}\")\n",
    "    print(f\"F1 Score:  {f1:.3f}\")\n",
    "\n",
    "    # MCC\n",
    "    y_true = predictions.select(\"label\").toPandas()[\"label\"]\n",
    "    y_pred = predictions.select(\"prediction\").toPandas()[\"prediction\"]\n",
    "    mcc = matthews_corrcoef(y_true, y_pred)\n",
    "    print(f\"Matthews Correlation Coefficient (MCC) {model_type.upper()}: {mcc:.3f}\")\n",
    "\n",
    "    return model"
   ]
  },
  {
   "cell_type": "markdown",
   "id": "71b7215a-e031-4cf0-b29c-1d08dae70897",
   "metadata": {},
   "source": [
    "### Decision tree"
   ]
  },
  {
   "cell_type": "code",
   "execution_count": 85,
   "id": "b1bae679-5c4f-40f0-bd9f-f6c9f7d350da",
   "metadata": {},
   "outputs": [
    {
     "name": "stderr",
     "output_type": "stream",
     "text": [
      "/opt/conda/lib/python3.12/site-packages/pyspark/sql/context.py:158: FutureWarning: Deprecated in 3.0.0. Use SparkSession.builder.getOrCreate() instead.\n",
      "  warnings.warn(\n"
     ]
    },
    {
     "name": "stdout",
     "output_type": "stream",
     "text": [
      "\n",
      "Confusion Matrix DT:\n",
      "Predicted/Actual        0.0       1.0       2.0\n",
      "            0.0     143801         0        13\n",
      "            1.0       7067     16786         7\n",
      "            2.0        934       601      1663\n",
      "\n",
      "Výsledky pre DT:\n",
      "Accuracy:  0.950\n",
      "Precision: 0.951\n",
      "Recall:    0.950\n",
      "F1 Score:  0.945\n",
      "Matthews Correlation Coefficient (MCC) DT: 0.803\n"
     ]
    }
   ],
   "source": [
    "# Bez optimalizácie hyperparametrov\n",
    "dt = train_and_evaluate_model(train_or_val_df=train_prepared, test_df=test_prepared, model_type=\"dt\", grid_search=False)"
   ]
  },
  {
   "cell_type": "code",
   "execution_count": 80,
   "id": "b6e160c2-6275-43d4-8774-2c75e6a98bef",
   "metadata": {},
   "outputs": [
    {
     "name": "stdout",
     "output_type": "stream",
     "text": [
      "Optimalizácia hyperparametrov pre DT\n",
      "Najlepšie hyperparametre:\n",
      "  maxBins: 30\n",
      "  maxDepth: 5\n",
      "  minInstancesPerNode: 1\n"
     ]
    },
    {
     "name": "stderr",
     "output_type": "stream",
     "text": [
      "/opt/conda/lib/python3.12/site-packages/pyspark/sql/context.py:158: FutureWarning: Deprecated in 3.0.0. Use SparkSession.builder.getOrCreate() instead.\n",
      "  warnings.warn(\n"
     ]
    },
    {
     "name": "stdout",
     "output_type": "stream",
     "text": [
      "\n",
      "Confusion Matrix DT:\n",
      "Predicted/Actual        0.0       1.0       2.0\n",
      "            0.0     143785         0        29\n",
      "            1.0       7056     16778        26\n",
      "            2.0        927       600      1671\n",
      "\n",
      "Výsledky pre DT:\n",
      "Accuracy:  0.949\n",
      "Precision: 0.950\n",
      "Recall:    0.949\n",
      "F1 Score:  0.945\n",
      "Matthews Correlation Coefficient (MCC) DT: 0.803\n"
     ]
    }
   ],
   "source": [
    "# S optimalizáciou hyperparametrov\n",
    "dt_optimized = train_and_evaluate_model(train_or_val_df=val_prepared, test_df=test_prepared, model_type=\"dt\", grid_search=True)"
   ]
  },
  {
   "cell_type": "markdown",
   "id": "8fb0393f-b772-4e07-a347-b30f33fac54f",
   "metadata": {},
   "source": [
    "### Linear SVM"
   ]
  },
  {
   "cell_type": "code",
   "execution_count": 88,
   "id": "51aff2b0-bca0-4be6-9c92-d4d2325500b2",
   "metadata": {},
   "outputs": [
    {
     "name": "stderr",
     "output_type": "stream",
     "text": [
      "/opt/conda/lib/python3.12/site-packages/pyspark/sql/context.py:158: FutureWarning: Deprecated in 3.0.0. Use SparkSession.builder.getOrCreate() instead.\n",
      "  warnings.warn(\n"
     ]
    },
    {
     "name": "stdout",
     "output_type": "stream",
     "text": [
      "\n",
      "Confusion Matrix SVM:\n",
      "Predicted/Actual        0.0       1.0       2.0\n",
      "            0.0     143814         0         0\n",
      "            1.0       7206     16654         0\n",
      "            2.0        974      2224         0\n",
      "\n",
      "Výsledky pre SVM:\n",
      "Accuracy:  0.939\n",
      "Precision: 0.920\n",
      "Recall:    0.939\n",
      "F1 Score:  0.927\n",
      "Matthews Correlation Coefficient (MCC) SVM: 0.757\n"
     ]
    }
   ],
   "source": [
    "# Bez optimalizácie hyperparametrov\n",
    "svm = train_and_evaluate_model(train_or_val_df=val_df, test_df=test_prepared, model_type=\"svm\", grid_search=False)"
   ]
  },
  {
   "cell_type": "code",
   "execution_count": 92,
   "id": "75d3b690-55c0-4cfe-bf95-4039e45cefa2",
   "metadata": {},
   "outputs": [
    {
     "name": "stdout",
     "output_type": "stream",
     "text": [
      "Optimalizácia hyperparametrov pre SVM\n",
      "Najlepšie hyperparametre:\n"
     ]
    },
    {
     "name": "stderr",
     "output_type": "stream",
     "text": [
      "/opt/conda/lib/python3.12/site-packages/pyspark/sql/context.py:158: FutureWarning: Deprecated in 3.0.0. Use SparkSession.builder.getOrCreate() instead.\n",
      "  warnings.warn(\n"
     ]
    },
    {
     "name": "stdout",
     "output_type": "stream",
     "text": [
      "\n",
      "Confusion Matrix SVM:\n",
      "Predicted/Actual        0.0       1.0       2.0\n",
      "            0.0     143814         0         0\n",
      "            1.0       7227     16633         0\n",
      "            2.0        974      2224         0\n",
      "\n",
      "Výsledky pre SVM:\n",
      "Accuracy:  0.939\n",
      "Precision: 0.919\n",
      "Recall:    0.939\n",
      "F1 Score:  0.927\n",
      "Matthews Correlation Coefficient (MCC) SVM: 0.757\n"
     ]
    }
   ],
   "source": [
    "# S optimalizáciou hyperparametrov\n",
    "svm_optimized = train_and_evaluate_model(train_or_val_df=val_df, test_df=test_prepared, model_type=\"svm\", grid_search=True)"
   ]
  },
  {
   "cell_type": "markdown",
   "id": "1e1bed23-bb85-4611-b166-18410409b68c",
   "metadata": {},
   "source": [
    "### Naive Bayes"
   ]
  },
  {
   "cell_type": "code",
   "execution_count": 11,
   "id": "eb7cfbfd-d15e-4e30-bae8-f61b18346f83",
   "metadata": {
    "scrolled": true
   },
   "outputs": [
    {
     "name": "stderr",
     "output_type": "stream",
     "text": [
      "/opt/conda/lib/python3.12/site-packages/pyspark/sql/context.py:158: FutureWarning: Deprecated in 3.0.0. Use SparkSession.builder.getOrCreate() instead.\n",
      "  warnings.warn(\n"
     ]
    },
    {
     "name": "stdout",
     "output_type": "stream",
     "text": [
      "\n",
      "Confusion Matrix NB:\n",
      "Predicted/Actual        0.0       1.0       2.0\n",
      "            0.0      89308      3249     51257\n",
      "            1.0       4082      8883     10895\n",
      "            2.0        324      1036      1838\n",
      "\n",
      "Výsledky pre NB:\n",
      "Accuracy:  0.585\n",
      "Precision: 0.897\n",
      "Recall:    0.585\n",
      "F1 Score:  0.701\n",
      "Matthews Correlation Coefficient (MCC) NB: 0.274\n"
     ]
    }
   ],
   "source": [
    "# Bez optimalizácie hyperparametrov\n",
    "nb = train_and_evaluate_model(train_or_val_df=train_df, test_df=test_prepared, model_type=\"nb\", grid_search=False)"
   ]
  },
  {
   "cell_type": "code",
   "execution_count": 93,
   "id": "95e8b70b-19a8-4aa7-94e8-662f3c1ff84a",
   "metadata": {},
   "outputs": [
    {
     "name": "stdout",
     "output_type": "stream",
     "text": [
      "Optimalizácia hyperparametrov pre NB\n",
      "Najlepšie hyperparametre:\n",
      "  smoothing: 0.5\n"
     ]
    },
    {
     "name": "stderr",
     "output_type": "stream",
     "text": [
      "/opt/conda/lib/python3.12/site-packages/pyspark/sql/context.py:158: FutureWarning: Deprecated in 3.0.0. Use SparkSession.builder.getOrCreate() instead.\n",
      "  warnings.warn(\n"
     ]
    },
    {
     "name": "stdout",
     "output_type": "stream",
     "text": [
      "\n",
      "Confusion Matrix NB:\n",
      "Predicted/Actual        0.0       1.0       2.0\n",
      "            0.0      89098      9442     45274\n",
      "            1.0       5210      8070     10580\n",
      "            2.0        352       979      1867\n",
      "\n",
      "Výsledky pre NB:\n",
      "Accuracy:  0.580\n",
      "Precision: 0.854\n",
      "Recall:    0.580\n",
      "F1 Score:  0.683\n",
      "Matthews Correlation Coefficient (MCC) NB: 0.234\n"
     ]
    }
   ],
   "source": [
    "# S optimalizáciou hyperparametrov\n",
    "nb_optimized = train_and_evaluate_model(train_or_val_df=val_df, test_df=test_prepared, model_type=\"nb\", grid_search=True)"
   ]
  },
  {
   "cell_type": "markdown",
   "id": "120fb37a-588d-4a45-b61e-6b8791f515b0",
   "metadata": {},
   "source": [
    "### Random Forest"
   ]
  },
  {
   "cell_type": "code",
   "execution_count": 12,
   "id": "83e85518-9c4f-4fba-b4fd-fc3e554b0e47",
   "metadata": {},
   "outputs": [
    {
     "name": "stderr",
     "output_type": "stream",
     "text": [
      "/opt/conda/lib/python3.12/site-packages/pyspark/sql/context.py:158: FutureWarning: Deprecated in 3.0.0. Use SparkSession.builder.getOrCreate() instead.\n",
      "  warnings.warn(\n"
     ]
    },
    {
     "name": "stdout",
     "output_type": "stream",
     "text": [
      "\n",
      "Confusion Matrix RF:\n",
      "Predicted/Actual        0.0       1.0       2.0\n",
      "            0.0     143814         0         0\n",
      "            1.0       7084     16776         0\n",
      "            2.0        978      1253       967\n",
      "\n",
      "Výsledky pre RF:\n",
      "Accuracy:  0.945\n",
      "Precision: 0.946\n",
      "Recall:    0.945\n",
      "F1 Score:  0.939\n",
      "Matthews Correlation Coefficient (MCC) RF: 0.785\n"
     ]
    }
   ],
   "source": [
    "# Bez optimalizácie hyperparametrov\n",
    "rf = train_and_evaluate_model(train_or_val_df=train_df, test_df=test_prepared, model_type=\"rf\", grid_search=False)"
   ]
  },
  {
   "cell_type": "code",
   "execution_count": 13,
   "id": "4c2682e6-49f1-4cc9-9a79-b8b0490b562e",
   "metadata": {},
   "outputs": [
    {
     "name": "stdout",
     "output_type": "stream",
     "text": [
      "Optimalizácia hyperparametrov pre RF\n",
      "Najlepšie hyperparametre:\n",
      "  maxDepth: 10\n",
      "  numTrees: 50\n"
     ]
    },
    {
     "name": "stderr",
     "output_type": "stream",
     "text": [
      "/opt/conda/lib/python3.12/site-packages/pyspark/sql/context.py:158: FutureWarning: Deprecated in 3.0.0. Use SparkSession.builder.getOrCreate() instead.\n",
      "  warnings.warn(\n"
     ]
    },
    {
     "name": "stdout",
     "output_type": "stream",
     "text": [
      "\n",
      "Confusion Matrix RF:\n",
      "Predicted/Actual        0.0       1.0       2.0\n",
      "            0.0     143812         2         0\n",
      "            1.0       7023     16837         0\n",
      "            2.0        931       627      1640\n",
      "\n",
      "Výsledky pre RF:\n",
      "Accuracy:  0.950\n",
      "Precision: 0.951\n",
      "Recall:    0.950\n",
      "F1 Score:  0.945\n",
      "Matthews Correlation Coefficient (MCC) RF: 0.804\n"
     ]
    }
   ],
   "source": [
    "# S optimalizáciou hyperparametrov\n",
    "rf_optimized = train_and_evaluate_model(train_or_val_df=train_df, test_df=test_prepared, model_type=\"rf\", grid_search=True)"
   ]
  },
  {
   "cell_type": "markdown",
   "id": "890d4abb-d319-462e-a4a2-6ad68e1895be",
   "metadata": {},
   "source": [
    "### Gradient-boosted trees"
   ]
  },
  {
   "cell_type": "code",
   "execution_count": 27,
   "id": "0702dc6a-ad87-4d95-86c8-7d0f9b522838",
   "metadata": {},
   "outputs": [
    {
     "name": "stderr",
     "output_type": "stream",
     "text": [
      "/opt/conda/lib/python3.12/site-packages/pyspark/sql/context.py:158: FutureWarning: Deprecated in 3.0.0. Use SparkSession.builder.getOrCreate() instead.\n",
      "  warnings.warn(\n"
     ]
    },
    {
     "name": "stdout",
     "output_type": "stream",
     "text": [
      "\n",
      "Confusion Matrix GBT:\n",
      "Predicted/Actual        0.0       1.0       2.0\n",
      "            0.0     143742        72         0\n",
      "            1.0       6937     16920         3\n",
      "            2.0        892       626      1680\n",
      "\n",
      "Výsledky pre GBT:\n",
      "Accuracy:  0.950\n",
      "Precision: 0.951\n",
      "Recall:    0.950\n",
      "F1 Score:  0.946\n",
      "Matthews Correlation Coefficient (MCC) GBT: 0.805\n"
     ]
    }
   ],
   "source": [
    "# Bez optimalizácie hyperparametrov\n",
    "gbt = train_and_evaluate_model(train_or_val_df=train_df, test_df=test_prepared, model_type=\"gbt\", grid_search=False)"
   ]
  },
  {
   "cell_type": "code",
   "execution_count": 31,
   "id": "165dafcf-f8ee-4ebd-a5b3-960f532b7027",
   "metadata": {},
   "outputs": [
    {
     "name": "stdout",
     "output_type": "stream",
     "text": [
      "Optimalizácia hyperparametrov pre GBT\n",
      "Najlepšie hyperparametre:\n"
     ]
    },
    {
     "name": "stderr",
     "output_type": "stream",
     "text": [
      "/opt/conda/lib/python3.12/site-packages/pyspark/sql/context.py:158: FutureWarning: Deprecated in 3.0.0. Use SparkSession.builder.getOrCreate() instead.\n",
      "  warnings.warn(\n"
     ]
    },
    {
     "name": "stdout",
     "output_type": "stream",
     "text": [
      "\n",
      "Confusion Matrix GBT:\n",
      "Predicted/Actual        0.0       1.0       2.0\n",
      "            0.0     143731        80         3\n",
      "            1.0       6923     16923        14\n",
      "            2.0        894       650      1654\n",
      "\n",
      "Výsledky pre GBT:\n",
      "Accuracy:  0.950\n",
      "Precision: 0.951\n",
      "Recall:    0.950\n",
      "F1 Score:  0.946\n",
      "Matthews Correlation Coefficient (MCC) GBT: 0.805\n"
     ]
    }
   ],
   "source": [
    "# S optimalizáciou hyperparametrov\n",
    "gbt_optimized = train_and_evaluate_model(train_or_val_df=val_prepared, test_df=test_prepared, model_type=\"gbt\", grid_search=True)"
   ]
  }
 ],
 "metadata": {
  "kernelspec": {
   "display_name": "Python 3 (ipykernel)",
   "language": "python",
   "name": "python3"
  },
  "language_info": {
   "codemirror_mode": {
    "name": "ipython",
    "version": 3
   },
   "file_extension": ".py",
   "mimetype": "text/x-python",
   "name": "python",
   "nbconvert_exporter": "python",
   "pygments_lexer": "ipython3",
   "version": "3.12.10"
  }
 },
 "nbformat": 4,
 "nbformat_minor": 5
}
