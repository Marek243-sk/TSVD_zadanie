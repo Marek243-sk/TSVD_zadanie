{
 "cells": [
  {
   "cell_type": "code",
   "execution_count": 21,
   "id": "f09d2e19-ea68-4c42-9865-e51b026b0fc4",
   "metadata": {},
   "outputs": [],
   "source": [
    "from pyspark.sql import SparkSession"
   ]
  },
  {
   "cell_type": "code",
   "execution_count": 22,
   "id": "eb7a26b3-18f1-45fc-b36f-5d79e38d4b09",
   "metadata": {},
   "outputs": [],
   "source": [
    "spark = SparkSession.builder.appName(\"zadanieTSVD\").getOrCreate()\n"
   ]
  },
  {
   "cell_type": "code",
   "execution_count": 23,
   "id": "a4f54abb-6dfc-4a8f-9eb4-c2fc0cef5886",
   "metadata": {},
   "outputs": [],
   "source": [
    "# Načítanie dát\n",
    "train_df = spark.read.csv(\"train.csv\", header=True, inferSchema=True)\n",
    "test_df = spark.read.csv(\"test.csv\", header=True, inferSchema=True)"
   ]
  },
  {
   "cell_type": "code",
   "execution_count": null,
   "id": "65114cee-4f92-493e-afd6-3caaeaf1849a",
   "metadata": {},
   "outputs": [],
   "source": []
  },
  {
   "cell_type": "code",
   "execution_count": null,
   "id": "76324043-33ef-4548-986e-29bf68dc0cc5",
   "metadata": {},
   "outputs": [],
   "source": []
  },
  {
   "cell_type": "code",
   "execution_count": null,
   "id": "ba193760-ff3e-4759-9450-0c78bc2edc2b",
   "metadata": {},
   "outputs": [],
   "source": []
  },
  {
   "cell_type": "code",
   "execution_count": null,
   "id": "587a2b93-89e7-46dd-9c4c-2b30c6de1ac3",
   "metadata": {},
   "outputs": [],
   "source": []
  },
  {
   "cell_type": "code",
   "execution_count": null,
   "id": "afaeb868-d021-44fd-823a-9f993dbf0b1b",
   "metadata": {},
   "outputs": [],
   "source": []
  },
  {
   "cell_type": "markdown",
   "id": "71b7215a-e031-4cf0-b29c-1d08dae70897",
   "metadata": {},
   "source": [
    "Decision tree model"
   ]
  },
  {
   "cell_type": "code",
   "execution_count": 26,
   "id": "eeac398a-f470-48eb-b293-4b806466af2b",
   "metadata": {},
   "outputs": [],
   "source": [
    "from pyspark.sql import SparkSession\n",
    "from pyspark.ml.feature import StringIndexer, VectorAssembler\n",
    "from pyspark.ml.classification import DecisionTreeClassifier\n",
    "from pyspark.ml import Pipeline\n",
    "from pyspark.mllib.evaluation import MulticlassMetrics\n",
    "from sklearn.metrics import matthews_corrcoef\n",
    "from pyspark.sql.functions import col\n",
    "import pandas as pd"
   ]
  },
  {
   "cell_type": "code",
   "execution_count": 27,
   "id": "6ff9184c-bef4-4e99-a055-5cb1bdf9167a",
   "metadata": {},
   "outputs": [
    {
     "name": "stderr",
     "output_type": "stream",
     "text": [
      "/opt/conda/lib/python3.12/site-packages/pyspark/sql/context.py:158: FutureWarning: Deprecated in 3.0.0. Use SparkSession.builder.getOrCreate() instead.\n",
      "  warnings.warn(\n"
     ]
    },
    {
     "name": "stdout",
     "output_type": "stream",
     "text": [
      "Confusion Matrix:\n",
      "[[1.43568e+05 1.56000e+02 1.00000e+00]\n",
      " [6.96000e+03 1.70500e+04 0.00000e+00]\n",
      " [8.81000e+02 6.19000e+02 1.63700e+03]]\n",
      "Accuracy: 0.950\n",
      "Precision: 0.950\n",
      "Recall: 0.950\n",
      "F1 Score: 0.945\n",
      "Matthews Correlation Coefficient (MCC): 0.804\n"
     ]
    }
   ],
   "source": [
    "# 3. Definuj cieľový atribút a vstupné príznaky\n",
    "label_col = \"Accident_Severity\"\n",
    "feature_cols = [c for c in train_df.columns if c != label_col]\n",
    "\n",
    "# Indexovanie kategórií\n",
    "indexers = [StringIndexer(inputCol=col, outputCol=col+\"_index\", handleInvalid=\"keep\")\n",
    "            for col in feature_cols if str(train_df.schema[col].dataType) == \"StringType\"]\n",
    "label_indexer = StringIndexer(inputCol=label_col, outputCol=\"label\", handleInvalid=\"keep\")\n",
    "\n",
    "# Zoznam vstupných príznakov po indexovaní\n",
    "indexed_features = [col+\"_index\" if str(train_df.schema[col].dataType) == \"StringType\" else col for col in feature_cols]\n",
    "assembler = VectorAssembler(inputCols=indexed_features, outputCol=\"features\")\n",
    "\n",
    "# Pipeline\n",
    "pipeline = Pipeline(stages=indexers + [label_indexer, assembler])\n",
    "pipeline_model = pipeline.fit(train_df)\n",
    "train_prepared = pipeline_model.transform(train_df)\n",
    "test_prepared = pipeline_model.transform(test_df)\n",
    "\n",
    "# Tréning rozhodovacieho stromu\n",
    "dt = DecisionTreeClassifier(featuresCol=\"features\", labelCol=\"label\")\n",
    "model = dt.fit(train_prepared)\n",
    "\n",
    "# Predikcie\n",
    "predictions = model.transform(test_prepared)\n",
    "\n",
    "# Kontingenčná tabuľka (confusion matrix) pomocou PySpark\n",
    "predictionAndLabels = predictions.select(\"prediction\", \"label\").rdd.map(tuple)\n",
    "metrics = MulticlassMetrics(predictionAndLabels)\n",
    "conf_matrix = metrics.confusionMatrix().toArray()\n",
    "print(\"Confusion Matrix:\")\n",
    "print(conf_matrix)\n",
    "\n",
    "# Vyhodnotenie – klasifikačné metriky\n",
    "accuracy = metrics.accuracy\n",
    "precision = metrics.weightedPrecision\n",
    "recall = metrics.weightedRecall\n",
    "f1 = metrics.weightedFMeasure()\n",
    "print(f\"Accuracy: {accuracy:.3f}\")\n",
    "print(f\"Precision: {precision:.3f}\")\n",
    "print(f\"Recall: {recall:.3f}\")\n",
    "print(f\"F1 Score: {f1:.3f}\")\n",
    "\n",
    "# výpočet MCC cez sklearn\n",
    "# získame labely ako Pandas Series\n",
    "y_true = predictions.select(\"label\").toPandas()[\"label\"]\n",
    "y_pred = predictions.select(\"prediction\").toPandas()[\"prediction\"]\n",
    "mcc = matthews_corrcoef(y_true, y_pred)\n",
    "print(f\"Matthews Correlation Coefficient (MCC): {mcc:.3f}\")"
   ]
  },
  {
   "cell_type": "code",
   "execution_count": null,
   "id": "49b5886a-d2d8-4dfa-b37d-fbadae58ab29",
   "metadata": {},
   "outputs": [],
   "source": []
  },
  {
   "cell_type": "code",
   "execution_count": null,
   "id": "6bace7d4-6d20-4f1e-8b69-d656c8dd1025",
   "metadata": {},
   "outputs": [],
   "source": []
  },
  {
   "cell_type": "code",
   "execution_count": 37,
   "id": "34717457-11de-42b8-9150-0642616e7a3d",
   "metadata": {},
   "outputs": [],
   "source": [
    "#Linear SVM nefunguje pre viactriednu klasifikaciu"
   ]
  },
  {
   "cell_type": "markdown",
   "id": "8fb0393f-b772-4e07-a347-b30f33fac54f",
   "metadata": {},
   "source": [
    "Linear SVM"
   ]
  },
  {
   "cell_type": "code",
   "execution_count": 29,
   "id": "c839f208-158c-48d6-998d-47c06c600618",
   "metadata": {},
   "outputs": [],
   "source": [
    "from pyspark.ml.classification import LinearSVC"
   ]
  },
  {
   "cell_type": "code",
   "execution_count": null,
   "id": "4d9cb9bc-506a-4c35-83a5-eaab931f0f23",
   "metadata": {},
   "outputs": [],
   "source": [
    "# Definuj cieľový atribút a vstupné príznaky\n",
    "label_col = \"Accident_Severity\"\n",
    "feature_cols = [c for c in train_df.columns if c != label_col]\n",
    "\n",
    "# Indexovanie kategórií\n",
    "indexers = [StringIndexer(inputCol=col, outputCol=col+\"_index\", handleInvalid=\"keep\")\n",
    "            for col in feature_cols if str(train_df.schema[col].dataType) == \"StringType\"]\n",
    "label_indexer = StringIndexer(inputCol=label_col, outputCol=\"label\", handleInvalid=\"keep\")\n",
    "\n",
    "# Zostavenie vektorov vstupov\n",
    "indexed_features = [col+\"_index\" if str(train_df.schema[col].dataType) == \"StringType\" else col for col in feature_cols]\n",
    "assembler = VectorAssembler(inputCols=indexed_features, outputCol=\"features\")\n",
    "\n",
    "# Pipeline\n",
    "pipeline = Pipeline(stages=indexers + [label_indexer, assembler])\n",
    "pipeline_model = pipeline.fit(train_df)\n",
    "train_prepared = pipeline_model.transform(train_df)\n",
    "test_prepared = pipeline_model.transform(test_df)\n",
    "\n",
    "# Tréning Linear SVM modelu\n",
    "svm = LinearSVC(featuresCol=\"features\", labelCol=\"label\", maxIter=100, regParam=0.1)\n",
    "model = svm.fit(train_prepared)\n",
    "\n",
    "# Predikcie\n",
    "predictions = model.transform(test_prepared)\n",
    "\n",
    "# Kontingenčná tabuľka (confusion matrix)\n",
    "predictionAndLabels = predictions.select(\"prediction\", \"label\").rdd.map(tuple)\n",
    "metrics = MulticlassMetrics(predictionAndLabels)\n",
    "conf_matrix = metrics.confusionMatrix().toArray()\n",
    "print(\"Confusion Matrix:\")\n",
    "print(conf_matrix)\n",
    "\n",
    "# Klasifikačné metriky\n",
    "accuracy = metrics.accuracy\n",
    "precision = metrics.weightedPrecision\n",
    "recall = metrics.weightedRecall\n",
    "f1 = metrics.weightedFMeasure()\n",
    "print(f\"Accuracy: {accuracy:.3f}\")\n",
    "print(f\"Precision: {precision:.3f}\")\n",
    "print(f\"Recall: {recall:.3f}\")\n",
    "print(f\"F1 Score: {f1:.3f}\")\n",
    "\n",
    "# MCC cez sklearn\n",
    "y_true = predictions.select(\"label\").toPandas()[\"label\"]\n",
    "y_pred = predictions.select(\"prediction\").toPandas()[\"prediction\"]\n",
    "mcc = matthews_corrcoef(y_true, y_pred)\n",
    "print(f\"Matthews Correlation Coefficient (MCC): {mcc:.3f}\")"
   ]
  },
  {
   "cell_type": "code",
   "execution_count": null,
   "id": "a72faa35-63e9-4dcc-8302-672cef06c108",
   "metadata": {},
   "outputs": [],
   "source": []
  },
  {
   "cell_type": "code",
   "execution_count": null,
   "id": "cb97217c-caef-45c0-9dcd-2abd5395453d",
   "metadata": {},
   "outputs": [],
   "source": []
  },
  {
   "cell_type": "code",
   "execution_count": null,
   "id": "9f0ae7d9-57d0-4d58-bdc7-d4d6a3b8d296",
   "metadata": {},
   "outputs": [],
   "source": []
  },
  {
   "cell_type": "code",
   "execution_count": null,
   "id": "235d46a0-5e4a-47bb-879d-28a38769af2d",
   "metadata": {},
   "outputs": [],
   "source": []
  },
  {
   "cell_type": "code",
   "execution_count": null,
   "id": "1e32eb42-e806-406a-90c7-3d4bac543589",
   "metadata": {},
   "outputs": [],
   "source": []
  },
  {
   "cell_type": "markdown",
   "id": "1e1bed23-bb85-4611-b166-18410409b68c",
   "metadata": {},
   "source": [
    "Naive Bayes model"
   ]
  },
  {
   "cell_type": "code",
   "execution_count": 31,
   "id": "7e6a7486-6396-4e23-a862-c39c8783f437",
   "metadata": {},
   "outputs": [],
   "source": [
    "from pyspark.ml.classification import NaiveBayes"
   ]
  },
  {
   "cell_type": "code",
   "execution_count": 32,
   "id": "8f9f9438-3a33-4443-ab2e-99e048f83bb8",
   "metadata": {},
   "outputs": [
    {
     "name": "stderr",
     "output_type": "stream",
     "text": [
      "/opt/conda/lib/python3.12/site-packages/pyspark/sql/context.py:158: FutureWarning: Deprecated in 3.0.0. Use SparkSession.builder.getOrCreate() instead.\n",
      "  warnings.warn(\n"
     ]
    },
    {
     "name": "stdout",
     "output_type": "stream",
     "text": [
      "Confusion Matrix:\n",
      "[[119870.  11071.  12784.]\n",
      " [ 15722.   3824.   4464.]\n",
      " [  1321.    555.   1261.]]\n",
      "Accuracy: 0.731\n",
      "Precision: 0.772\n",
      "Recall: 0.731\n",
      "F1 Score: 0.748\n",
      "Matthews Correlation Coefficient (MCC): 0.140\n"
     ]
    }
   ],
   "source": [
    "# Cieľový atribút a príznaky\n",
    "label_col = \"Accident_Severity\"\n",
    "feature_cols = [c for c in train_df.columns if c != label_col]\n",
    "\n",
    "# Indexovanie kategórií\n",
    "indexers = [StringIndexer(inputCol=col, outputCol=col+\"_index\", handleInvalid=\"keep\")\n",
    "            for col in feature_cols if str(train_df.schema[col].dataType) == \"StringType\"]\n",
    "label_indexer = StringIndexer(inputCol=label_col, outputCol=\"label\", handleInvalid=\"keep\")\n",
    "\n",
    "# Zostavenie vektorov vstupov\n",
    "indexed_features = [col+\"_index\" if str(train_df.schema[col].dataType) == \"StringType\" else col for col in feature_cols]\n",
    "assembler = VectorAssembler(inputCols=indexed_features, outputCol=\"features\")\n",
    "\n",
    "# Pipeline\n",
    "pipeline = Pipeline(stages=indexers + [label_indexer, assembler])\n",
    "pipeline_model = pipeline.fit(train_df)\n",
    "train_prepared = pipeline_model.transform(train_df)\n",
    "test_prepared = pipeline_model.transform(test_df)\n",
    "\n",
    "# Tréning Naive Bayes modelu\n",
    "nb = NaiveBayes(featuresCol=\"features\", labelCol=\"label\", modelType=\"multinomial\")\n",
    "model = nb.fit(train_prepared)\n",
    "\n",
    "# Predikcie\n",
    "predictions = model.transform(test_prepared)\n",
    "\n",
    "# Kontingenčná tabuľka (confusion matrix)\n",
    "predictionAndLabels = predictions.select(\"prediction\", \"label\").rdd.map(tuple)\n",
    "metrics = MulticlassMetrics(predictionAndLabels)\n",
    "conf_matrix = metrics.confusionMatrix().toArray()\n",
    "print(\"Confusion Matrix:\")\n",
    "print(conf_matrix)\n",
    "\n",
    "# Vyhodnotenie – klasifikačné metriky\n",
    "accuracy = metrics.accuracy\n",
    "precision = metrics.weightedPrecision\n",
    "recall = metrics.weightedRecall\n",
    "f1 = metrics.weightedFMeasure()\n",
    "print(f\"Accuracy: {accuracy:.3f}\")\n",
    "print(f\"Precision: {precision:.3f}\")\n",
    "print(f\"Recall: {recall:.3f}\")\n",
    "print(f\"F1 Score: {f1:.3f}\")\n",
    "\n",
    "# MCC cez sklearn\n",
    "y_true = predictions.select(\"label\").toPandas()[\"label\"]\n",
    "y_pred = predictions.select(\"prediction\").toPandas()[\"prediction\"]\n",
    "mcc = matthews_corrcoef(y_true, y_pred)\n",
    "print(f\"Matthews Correlation Coefficient (MCC): {mcc:.3f}\")"
   ]
  },
  {
   "cell_type": "code",
   "execution_count": null,
   "id": "82b560eb-142d-462c-94e2-d5ec8d843b51",
   "metadata": {},
   "outputs": [],
   "source": []
  },
  {
   "cell_type": "code",
   "execution_count": null,
   "id": "c0fc5cd6-420b-491b-af46-015bdc60394d",
   "metadata": {},
   "outputs": [],
   "source": []
  },
  {
   "cell_type": "code",
   "execution_count": null,
   "id": "8f05343d-e066-43cf-880d-fc44a28be4df",
   "metadata": {},
   "outputs": [],
   "source": []
  },
  {
   "cell_type": "code",
   "execution_count": null,
   "id": "618cac45-d0bb-442d-98f1-cccefdf64f2a",
   "metadata": {},
   "outputs": [],
   "source": []
  },
  {
   "cell_type": "markdown",
   "id": "120fb37a-588d-4a45-b61e-6b8791f515b0",
   "metadata": {},
   "source": [
    "Random Forests"
   ]
  },
  {
   "cell_type": "code",
   "execution_count": 33,
   "id": "0485e901-e549-4994-bd40-219f289fa453",
   "metadata": {},
   "outputs": [],
   "source": [
    "from pyspark.ml.classification import RandomForestClassifier"
   ]
  },
  {
   "cell_type": "code",
   "execution_count": 34,
   "id": "62d96582-88a4-475b-b0ef-7598b58ee0fc",
   "metadata": {},
   "outputs": [
    {
     "name": "stderr",
     "output_type": "stream",
     "text": [
      "/opt/conda/lib/python3.12/site-packages/pyspark/sql/context.py:158: FutureWarning: Deprecated in 3.0.0. Use SparkSession.builder.getOrCreate() instead.\n",
      "  warnings.warn(\n"
     ]
    },
    {
     "name": "stdout",
     "output_type": "stream",
     "text": [
      "Confusion Matrix:\n",
      "[[1.43725e+05 0.00000e+00 0.00000e+00]\n",
      " [7.11000e+03 1.69000e+04 0.00000e+00]\n",
      " [9.45000e+02 2.15900e+03 3.30000e+01]]\n",
      "Accuracy: 0.940\n",
      "Precision: 0.939\n",
      "Recall: 0.940\n",
      "F1 Score: 0.929\n",
      "MCC: 0.763\n"
     ]
    }
   ],
   "source": [
    "# Definovanie labelu a vstupov\n",
    "label_col = \"Accident_Severity\"\n",
    "feature_cols = [c for c in train_df.columns if c != label_col]\n",
    "\n",
    "# Indexovanie\n",
    "indexers = [StringIndexer(inputCol=col, outputCol=col+\"_index\", handleInvalid=\"keep\")\n",
    "            for col in feature_cols if str(train_df.schema[col].dataType) == \"StringType\"]\n",
    "label_indexer = StringIndexer(inputCol=label_col, outputCol=\"label\", handleInvalid=\"keep\")\n",
    "\n",
    "# Vektor príznakov\n",
    "indexed_features = [col+\"_index\" if str(train_df.schema[col].dataType) == \"StringType\" else col for col in feature_cols]\n",
    "assembler = VectorAssembler(inputCols=indexed_features, outputCol=\"features\")\n",
    "\n",
    "# Pipeline\n",
    "pipeline = Pipeline(stages=indexers + [label_indexer, assembler])\n",
    "pipeline_model = pipeline.fit(train_df)\n",
    "train_prepared = pipeline_model.transform(train_df)\n",
    "test_prepared = pipeline_model.transform(test_df)\n",
    "\n",
    "rf = RandomForestClassifier(featuresCol=\"features\", labelCol=\"label\", numTrees=100)\n",
    "rf_model = rf.fit(train_prepared)\n",
    "rf_predictions = rf_model.transform(test_prepared)\n",
    "\n",
    "rf_pl = rf_predictions.select(\"prediction\", \"label\").rdd.map(tuple)\n",
    "rf_metrics = MulticlassMetrics(rf_pl)\n",
    "\n",
    "print(\"Confusion Matrix:\")\n",
    "print(rf_metrics.confusionMatrix().toArray())\n",
    "print(f\"Accuracy: {rf_metrics.accuracy:.3f}\")\n",
    "print(f\"Precision: {rf_metrics.weightedPrecision:.3f}\")\n",
    "print(f\"Recall: {rf_metrics.weightedRecall:.3f}\")\n",
    "print(f\"F1 Score: {rf_metrics.weightedFMeasure():.3f}\")\n",
    "\n",
    "rf_y_true = rf_predictions.select(\"label\").toPandas()[\"label\"]\n",
    "rf_y_pred = rf_predictions.select(\"prediction\").toPandas()[\"prediction\"]\n",
    "rf_mcc = matthews_corrcoef(rf_y_true, rf_y_pred)\n",
    "print(f\"MCC: {rf_mcc:.3f}\")"
   ]
  },
  {
   "cell_type": "code",
   "execution_count": null,
   "id": "88ec45a4-cc12-4026-8838-d6eaa4137185",
   "metadata": {},
   "outputs": [],
   "source": []
  },
  {
   "cell_type": "code",
   "execution_count": null,
   "id": "6792265b-a989-4058-9c2e-a2b0f9e1fd2e",
   "metadata": {},
   "outputs": [],
   "source": []
  },
  {
   "cell_type": "code",
   "execution_count": null,
   "id": "b3584580-34c4-4c59-897b-d05e62ba5b32",
   "metadata": {},
   "outputs": [],
   "source": []
  },
  {
   "cell_type": "code",
   "execution_count": null,
   "id": "5b7c5094-84ce-4197-80b3-e7913c7e3303",
   "metadata": {},
   "outputs": [],
   "source": []
  },
  {
   "cell_type": "code",
   "execution_count": null,
   "id": "b0d98a1c-90c2-4562-ae86-15fb3da05bb4",
   "metadata": {},
   "outputs": [],
   "source": [
    "#Gradient-boosted trees nefunguje pre viactriednu klasifikaciu"
   ]
  },
  {
   "cell_type": "markdown",
   "id": "890d4abb-d319-462e-a4a2-6ad68e1895be",
   "metadata": {},
   "source": [
    "Gradient-boosted trees"
   ]
  },
  {
   "cell_type": "code",
   "execution_count": 35,
   "id": "896d411a-0fc8-423f-a9ad-fe498c5d8477",
   "metadata": {},
   "outputs": [],
   "source": [
    "from pyspark.ml.classification import GBTClassifier"
   ]
  },
  {
   "cell_type": "code",
   "execution_count": null,
   "id": "8ac165a5-debb-430b-856b-2e756e7d7cda",
   "metadata": {},
   "outputs": [],
   "source": [
    "# Definovanie labelu a vstupov\n",
    "label_col = \"Accident_Severity\"\n",
    "feature_cols = [c for c in train_df.columns if c != label_col]\n",
    "\n",
    "# Indexovanie\n",
    "indexers = [StringIndexer(inputCol=col, outputCol=col+\"_index\", handleInvalid=\"keep\")\n",
    "            for col in feature_cols if str(train_df.schema[col].dataType) == \"StringType\"]\n",
    "label_indexer = StringIndexer(inputCol=label_col, outputCol=\"label\", handleInvalid=\"keep\")\n",
    "\n",
    "# Vektor príznakov\n",
    "indexed_features = [col+\"_index\" if str(train_df.schema[col].dataType) == \"StringType\" else col for col in feature_cols]\n",
    "assembler = VectorAssembler(inputCols=indexed_features, outputCol=\"features\")\n",
    "\n",
    "# Pipeline\n",
    "pipeline = Pipeline(stages=indexers + [label_indexer, assembler])\n",
    "pipeline_model = pipeline.fit(train_df)\n",
    "train_prepared = pipeline_model.transform(train_df)\n",
    "test_prepared = pipeline_model.transform(test_df)\n",
    "\n",
    "\n",
    "gbt = GBTClassifier(featuresCol=\"features\", labelCol=\"label\", maxIter=100)\n",
    "gbt_model = gbt.fit(train_prepared)\n",
    "gbt_predictions = gbt_model.transform(test_prepared)\n",
    "\n",
    "gbt_pl = gbt_predictions.select(\"prediction\", \"label\").rdd.map(tuple)\n",
    "gbt_metrics = MulticlassMetrics(gbt_pl)\n",
    "\n",
    "print(\"Confusion Matrix:\")\n",
    "print(gbt_metrics.confusionMatrix().toArray())\n",
    "print(f\"Accuracy: {gbt_metrics.accuracy:.3f}\")\n",
    "print(f\"Precision: {gbt_metrics.weightedPrecision:.3f}\")\n",
    "print(f\"Recall: {gbt_metrics.weightedRecall:.3f}\")\n",
    "print(f\"F1 Score: {gbt_metrics.weightedFMeasure():.3f}\")\n",
    "\n",
    "gbt_y_true = gbt_predictions.select(\"label\").toPandas()[\"label\"]\n",
    "gbt_y_pred = gbt_predictions.select(\"prediction\").toPandas()[\"prediction\"]\n",
    "gbt_mcc = matthews_corrcoef(gbt_y_true, gbt_y_pred)\n",
    "print(f\"MCC: {gbt_mcc:.3f}\")"
   ]
  },
  {
   "cell_type": "code",
   "execution_count": null,
   "id": "81ff2548-6e6d-4297-8f36-94b8e2a63e26",
   "metadata": {},
   "outputs": [],
   "source": []
  }
 ],
 "metadata": {
  "kernelspec": {
   "display_name": "Python 3 (ipykernel)",
   "language": "python",
   "name": "python3"
  },
  "language_info": {
   "codemirror_mode": {
    "name": "ipython",
    "version": 3
   },
   "file_extension": ".py",
   "mimetype": "text/x-python",
   "name": "python",
   "nbconvert_exporter": "python",
   "pygments_lexer": "ipython3",
   "version": "3.12.8"
  }
 },
 "nbformat": 4,
 "nbformat_minor": 5
}
